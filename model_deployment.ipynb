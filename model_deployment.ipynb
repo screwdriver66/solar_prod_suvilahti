{
 "cells": [
  {
   "cell_type": "markdown",
   "metadata": {},
   "source": [
    "# Launch!  \n",
    "1. Get your solution ready for production (plug into production data inputs, write unit tests, etc.).  \n",
    "2. Write monitoring code to check your system's live performance at regular intervals and trigger alerts when it drops.  \n",
    "    - Beware of slow degradation too: models tend to \"rot\" as data evolves.   \n",
    "    - Measuring performance may require a human pipeline (e.g., via a crowdsourcing service).  \n",
    "    - Also monitor your inputs' quality (e.g., a malfunctioning sensor sending random values, or another team's output becoming stale). This is  particulary important for online learning systems.  \n",
    "3. Retrain your models on a regular basis on fresh data (automate as much as possible). "
   ]
  },
  {
   "cell_type": "markdown",
   "metadata": {},
   "source": [
    "# Model deployment\n",
    "Time to deploy our model and make it online in the world.\n",
    "\n",
    "Checklist:\n",
    "\n",
    "- [ ] Pick the best model out of RF and NN\n",
    "- [ ] Save the model\n",
    "- [ ] Organize it into a pipeline\n",
    "- [ ] Heroku\n",
    "- [ ] CircleCI\n",
    "- [ ] Testing - PYTEST / TOX\n",
    "- [ ] Gemfury\n",
    "- [ ] Packaging\n",
    "- [ ] Docker\n",
    "- [ ] GUnicorn\n",
    "- [ ] Keras, Theano, Tensorflow\n",
    "- [ ] Bash scripts\n",
    "\n",
    "\n"
   ]
  },
  {
   "cell_type": "code",
   "execution_count": 41,
   "metadata": {},
   "outputs": [],
   "source": [
    "from fmi import FMI\n",
    "f = FMI(place='Kumpula')\n",
    "# f.observations() returns a list of Observation -objects for the last X hours."
   ]
  },
  {
   "cell_type": "code",
   "execution_count": 42,
   "metadata": {},
   "outputs": [],
   "source": [
    "obs = f.observations()"
   ]
  },
  {
   "cell_type": "code",
   "execution_count": 43,
   "metadata": {},
   "outputs": [
    {
     "data": {
      "text/plain": [
       "nan"
      ]
     },
     "execution_count": 43,
     "metadata": {},
     "output_type": "execute_result"
    }
   ],
   "source": [
    "obs[6].temperature"
   ]
  },
  {
   "cell_type": "code",
   "execution_count": 22,
   "metadata": {},
   "outputs": [
    {
     "name": "stdout",
     "output_type": "stream",
     "text": [
      "None\n"
     ]
    }
   ],
   "source": [
    "print(obs[6].radiation_global_accumulation)"
   ]
  },
  {
   "cell_type": "code",
   "execution_count": 44,
   "metadata": {},
   "outputs": [],
   "source": [
    "f = FMI(place='Kumpula')\n",
    "# f.forecast() returns a list of Observation -objects (sorry, confusing, I know :P) for the next 36 hours"
   ]
  },
  {
   "cell_type": "code",
   "execution_count": 45,
   "metadata": {},
   "outputs": [],
   "source": [
    "forecast=f.forecast()"
   ]
  },
  {
   "cell_type": "code",
   "execution_count": 46,
   "metadata": {},
   "outputs": [
    {
     "data": {
      "text/plain": [
       "[<Observation: 2020-05-05T13:00:00+00:00 - 11.1 C>,\n",
       " <Observation: 2020-05-05T14:00:00+00:00 - 10.9 C>,\n",
       " <Observation: 2020-05-05T15:00:00+00:00 - 10.8 C>,\n",
       " <Observation: 2020-05-05T16:00:00+00:00 - 10.3 C>,\n",
       " <Observation: 2020-05-05T17:00:00+00:00 - 9.6 C>,\n",
       " <Observation: 2020-05-05T18:00:00+00:00 - 8.6 C>,\n",
       " <Observation: 2020-05-05T19:00:00+00:00 - 7.5 C>,\n",
       " <Observation: 2020-05-05T20:00:00+00:00 - 6.6 C>,\n",
       " <Observation: 2020-05-05T21:00:00+00:00 - 6.1 C>,\n",
       " <Observation: 2020-05-05T22:00:00+00:00 - 6.4 C>,\n",
       " <Observation: 2020-05-05T23:00:00+00:00 - 5.4 C>,\n",
       " <Observation: 2020-05-06T00:00:00+00:00 - 4.8 C>,\n",
       " <Observation: 2020-05-06T01:00:00+00:00 - 4.4 C>,\n",
       " <Observation: 2020-05-06T02:00:00+00:00 - 3.6 C>,\n",
       " <Observation: 2020-05-06T03:00:00+00:00 - 3.0 C>,\n",
       " <Observation: 2020-05-06T04:00:00+00:00 - 3.8 C>,\n",
       " <Observation: 2020-05-06T05:00:00+00:00 - 5.8 C>,\n",
       " <Observation: 2020-05-06T06:00:00+00:00 - 8.1 C>,\n",
       " <Observation: 2020-05-06T07:00:00+00:00 - 10.3 C>,\n",
       " <Observation: 2020-05-06T08:00:00+00:00 - 11.6 C>,\n",
       " <Observation: 2020-05-06T09:00:00+00:00 - 12.6 C>,\n",
       " <Observation: 2020-05-06T10:00:00+00:00 - 13.3 C>,\n",
       " <Observation: 2020-05-06T11:00:00+00:00 - 13.6 C>,\n",
       " <Observation: 2020-05-06T12:00:00+00:00 - 13.5 C>,\n",
       " <Observation: 2020-05-06T13:00:00+00:00 - 13.6 C>,\n",
       " <Observation: 2020-05-06T14:00:00+00:00 - 12.9 C>,\n",
       " <Observation: 2020-05-06T15:00:00+00:00 - 12.9 C>,\n",
       " <Observation: 2020-05-06T16:00:00+00:00 - 12.2 C>,\n",
       " <Observation: 2020-05-06T17:00:00+00:00 - 11.7 C>,\n",
       " <Observation: 2020-05-06T18:00:00+00:00 - 10.4 C>,\n",
       " <Observation: 2020-05-06T19:00:00+00:00 - 8.8 C>,\n",
       " <Observation: 2020-05-06T20:00:00+00:00 - 7.5 C>,\n",
       " <Observation: 2020-05-06T21:00:00+00:00 - 6.4 C>,\n",
       " <Observation: 2020-05-06T22:00:00+00:00 - 5.5 C>,\n",
       " <Observation: 2020-05-06T23:00:00+00:00 - 4.6 C>,\n",
       " <Observation: 2020-05-07T00:00:00+00:00 - 3.5 C>]"
      ]
     },
     "execution_count": 46,
     "metadata": {},
     "output_type": "execute_result"
    }
   ],
   "source": [
    "forecast"
   ]
  },
  {
   "cell_type": "code",
   "execution_count": 52,
   "metadata": {},
   "outputs": [
    {
     "data": {
      "text/plain": [
       "21900510.0"
      ]
     },
     "execution_count": 52,
     "metadata": {},
     "output_type": "execute_result"
    }
   ],
   "source": [
    "forecast[3].radiation_global_accumulation"
   ]
  },
  {
   "cell_type": "code",
   "execution_count": 57,
   "metadata": {},
   "outputs": [
    {
     "data": {
      "text/plain": [
       "2206.0"
      ]
     },
     "execution_count": 57,
     "metadata": {},
     "output_type": "execute_result"
    }
   ],
   "source": [
    "(forecast[9].radiation_global_accumulation - forecast[8].radiation_global_accumulation)"
   ]
  },
  {
   "cell_type": "code",
   "execution_count": 39,
   "metadata": {},
   "outputs": [
    {
     "data": {
      "text/plain": [
       "66.77"
      ]
     },
     "execution_count": 39,
     "metadata": {},
     "output_type": "execute_result"
    }
   ],
   "source": [
    "forecast[0].humidity"
   ]
  },
  {
   "cell_type": "code",
   "execution_count": 40,
   "metadata": {},
   "outputs": [
    {
     "data": {
      "text/plain": [
       "0.0"
      ]
     },
     "execution_count": 40,
     "metadata": {},
     "output_type": "execute_result"
    }
   ],
   "source": [
    "forecast[0].precipitation_1h"
   ]
  },
  {
   "cell_type": "code",
   "execution_count": 58,
   "metadata": {},
   "outputs": [],
   "source": [
    "import numpy as np\n",
    "import pandas as pd\n",
    "import seaborn as sns\n",
    "from matplotlib import pyplot as plt\n",
    "import pytz\n",
    "from sklearn.metrics import mean_squared_error, r2_score\n",
    "from math import sqrt"
   ]
  },
  {
   "cell_type": "code",
   "execution_count": 59,
   "metadata": {},
   "outputs": [],
   "source": [
    "X_train = pd.read_csv('../datasets/scaled_train_test/X_train_standard.csv', delimiter=',')\n",
    "X_test = pd.read_csv('../datasets/scaled_train_test/X_test_standard.csv', delimiter=',')\n",
    "y_train = X_train['Value (kWh)']\n",
    "y_test = X_test['Value (kWh)']\n",
    "X_train.drop(['Value (kWh)'], axis=1, inplace=True)\n",
    "X_test.drop(['Value (kWh)'], axis=1, inplace=True)"
   ]
  },
  {
   "cell_type": "code",
   "execution_count": 60,
   "metadata": {},
   "outputs": [
    {
     "data": {
      "text/plain": [
       "<matplotlib.axes._subplots.AxesSubplot at 0x2581af5eb80>"
      ]
     },
     "execution_count": 60,
     "metadata": {},
     "output_type": "execute_result"
    },
    {
     "data": {
      "image/png": "[encoded data removed]",
      "text/plain": [
       "<Figure size 432x288 with 1 Axes>"
      ]
     },
     "metadata": {
      "needs_background": "light"
     },
     "output_type": "display_data"
    }
   ],
   "source": [
    "X_train['Global radiation (W/m2)'].plot()"
   ]
  },
  {
   "cell_type": "code",
   "execution_count": null,
   "metadata": {},
   "outputs": [],
   "source": []
  }
 ],
 "metadata": {
  "kernelspec": {
   "display_name": "Python 3",
   "language": "python",
   "name": "python3"
  },
  "language_info": {
   "codemirror_mode": {
    "name": "ipython",
    "version": 3
   },
   "file_extension": ".py",
   "mimetype": "text/x-python",
   "name": "python",
   "nbconvert_exporter": "python",
   "pygments_lexer": "ipython3",
   "version": "3.8.3rc1"
  }
 },
 "nbformat": 4,
 "nbformat_minor": 2
}
