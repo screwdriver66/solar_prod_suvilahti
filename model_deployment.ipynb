{
 "cells": [
  {
   "cell_type": "markdown",
   "metadata": {},
   "source": [
    "# Launch!  \n",
    "1. Get your solution ready for production (plug into production data inputs, write unit tests, etc.).  \n",
    "2. Write monitoring code to check your system's live performance at regular intervals and trigger alerts when it drops.  \n",
    "    - Beware of slow degradation too: models tend to \"rot\" as data evolves.   \n",
    "    - Measuring performance may require a human pipeline (e.g., via a crowdsourcing service).  \n",
    "    - Also monitor your inputs' quality (e.g., a malfunctioning sensor sending random values, or another team's output becoming stale). This is  particulary important for online learning systems.  \n",
    "3. Retrain your models on a regular basis on fresh data (automate as much as possible). "
   ]
  },
  {
   "cell_type": "code",
   "execution_count": null,
   "metadata": {},
   "outputs": [],
   "source": []
  }
 ],
 "metadata": {
  "kernelspec": {
   "display_name": "Python 3",
   "language": "python",
   "name": "python3"
  },
  "language_info": {
   "codemirror_mode": {
    "name": "ipython",
    "version": 3
   },
   "file_extension": ".py",
   "mimetype": "text/x-python",
   "name": "python",
   "nbconvert_exporter": "python",
   "pygments_lexer": "ipython3",
   "version": "3.7.4"
  }
 },
 "nbformat": 4,
 "nbformat_minor": 2
}
