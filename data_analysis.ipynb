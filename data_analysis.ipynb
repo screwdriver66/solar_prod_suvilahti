{
 "cells": [
  {
   "cell_type": "markdown",
   "metadata": {},
   "source": [
    "# Explore the data  \n",
    "Note: try to get insights from a field expert for these steps.  \n",
    "\n",
    "1. Create a copy of the data for exploration (sampling it down to a manageable size if necessary).\n",
    "2. Create a Jupyter notebook to keep record of your data exploration.  \n",
    "3. Study each attribute and its characteristics:  \n",
    "    - Name  \n",
    "    - Type (categorical, int/float, bounded/unbounded, text, structured, etc.)\n",
    "    - % of missing values  \n",
    "    - Noisiness and type of noise (stochastic, outliers, rounding errors, etc.)\n",
    "    - Possibly useful for the task?  \n",
    "    - Type of distribution (Gaussian, uniform, logarithmic, etc.)\n",
    "4. For supervised learning tasks, identify the target attribute(s).\n",
    "5. Visualize the data.  \n",
    "6. Study the correlations between attributes.  \n",
    "7. Study how you would solve the problem manually.  \n",
    "8. Identify the promising transformations you may want to apply.  \n",
    "9. Identify extra data that would be useful (go back to \"Get the Data\" on page 502).  \n",
    "10. Document what you have learned.  \n"
   ]
  },
  {
   "cell_type": "code",
   "execution_count": null,
   "metadata": {},
   "outputs": [],
   "source": []
  }
 ],
 "metadata": {
  "kernelspec": {
   "display_name": "Python 3",
   "language": "python",
   "name": "python3"
  },
  "language_info": {
   "codemirror_mode": {
    "name": "ipython",
    "version": 3
   },
   "file_extension": ".py",
   "mimetype": "text/x-python",
   "name": "python",
   "nbconvert_exporter": "python",
   "pygments_lexer": "ipython3",
   "version": "3.7.4"
  }
 },
 "nbformat": 4,
 "nbformat_minor": 2
}
