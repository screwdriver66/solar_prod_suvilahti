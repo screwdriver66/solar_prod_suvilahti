{
 "cells": [
  {
   "cell_type": "code",
   "execution_count": 1,
   "metadata": {},
   "outputs": [],
   "source": [
    "# check from https://www.pveducation.org/pvcdrom/properties-of-sunlight/solar-time\n",
    "# also check from http://sgemfinalreport.fi/files/WP611_photovoltaics%20HP%20Hellman.pdf\n",
    "# original source: https://hal.archives-ouvertes.fr/hal-00361373/document"
   ]
  },
  {
   "cell_type": "code",
   "execution_count": 12,
   "metadata": {},
   "outputs": [],
   "source": [
    "import numpy as np\n",
    "import pandas as pd\n",
    "import seaborn as sns\n",
    "from matplotlib import pyplot as plt\n",
    "import pytz"
   ]
  },
  {
   "cell_type": "code",
   "execution_count": 13,
   "metadata": {},
   "outputs": [],
   "source": [
    "# df = pd.read_csv('../datasets/solar_p_data/df_ready_to_train.csv', delimiter=',')\n",
    "# df['datetime_converted'] = pd.to_datetime(df['datetime_converted'], utc=True)\n",
    "# df = df.set_index(pd.DatetimeIndex(df['datetime_converted'],dayfirst=True))\n",
    "# df = df.drop(columns='datetime_converted')"
   ]
  },
  {
   "cell_type": "markdown",
   "metadata": {},
   "source": [
    "# Feature engineering  continued: solar irradiance"
   ]
  },
  {
   "cell_type": "markdown",
   "metadata": {},
   "source": [
    "Trying to make a feature that would reflect how the position of the sun affects the values"
   ]
  },
  {
   "cell_type": "code",
   "execution_count": 14,
   "metadata": {},
   "outputs": [
    {
     "name": "stderr",
     "output_type": "stream",
     "text": [
      "C:\\Users\\screwdriver\\Anaconda3\\lib\\site-packages\\ipykernel_launcher.py:9: FutureWarning: Sorting because non-concatenation axis is not aligned. A future version\n",
      "of pandas will change to not sort by default.\n",
      "\n",
      "To accept the future behavior, pass 'sort=False'.\n",
      "\n",
      "To retain the current behavior and silence the warning, pass 'sort=True'.\n",
      "\n",
      "  if __name__ == '__main__':\n"
     ]
    }
   ],
   "source": [
    "# df_weather = pd.read_csv('../datasets/solar_p_data/csv2015_04_22_till_2016_04_22.csv', delimiter=',')\n",
    "# df_temp = pd.DataFrame()\n",
    "df_irrad = pd.DataFrame()\n",
    "#adding to one dataframe\n",
    "for year in range(16,21):\n",
    "    year_start = str(year-1)\n",
    "    year_end = str(year)\n",
    "    df_temp = pd.read_csv('../datasets/solar_p_data/20' + year_start + '_04_22_till_20'+ year_end + '_04_22_irrad.csv')\n",
    "    df_irrad = pd.concat([df_irrad,df_temp],axis=0)"
   ]
  },
  {
   "cell_type": "code",
   "execution_count": 15,
   "metadata": {
    "scrolled": false
   },
   "outputs": [],
   "source": [
    "# df_weather['datetime'] = df_weather['Year'].astype(str)+'-'\n",
    "df_irrad['datetime'] = df_irrad['Year'].astype(str)+'-'+df_irrad['m'].astype(str)+'-'+df_irrad['d'].astype(str)+' '+ df_irrad['Time'].astype(str)"
   ]
  },
  {
   "cell_type": "code",
   "execution_count": 16,
   "metadata": {},
   "outputs": [],
   "source": [
    "df_irrad['datetime_converted'] = pd.to_datetime(df_irrad['datetime'], utc=True)\n",
    "df_irrad = df_irrad.set_index(pd.DatetimeIndex(df_irrad['datetime_converted'],dayfirst=True))"
   ]
  },
  {
   "cell_type": "code",
   "execution_count": 17,
   "metadata": {},
   "outputs": [],
   "source": [
    "# df_irrad = df_irrad.drop(columns='Reflected radiation (W/m2)')\n",
    "df_irrad['Reflected radiation (W/m2)'] = df_irrad['Reflected radiation (W/m2)'].fillna(0)"
   ]
  },
  {
   "cell_type": "code",
   "execution_count": 18,
   "metadata": {},
   "outputs": [
    {
     "data": {
      "text/html": [
       "<div>\n",
       "<style scoped>\n",
       "    .dataframe tbody tr th:only-of-type {\n",
       "        vertical-align: middle;\n",
       "    }\n",
       "\n",
       "    .dataframe tbody tr th {\n",
       "        vertical-align: top;\n",
       "    }\n",
       "\n",
       "    .dataframe thead th {\n",
       "        text-align: right;\n",
       "    }\n",
       "</style>\n",
       "<table border=\"1\" class=\"dataframe\">\n",
       "  <thead>\n",
       "    <tr style=\"text-align: right;\">\n",
       "      <th></th>\n",
       "      <th>Diffuse radiation (W/m2)</th>\n",
       "      <th>Direct solar radiation (W/m2)</th>\n",
       "      <th>Global radiation (W/m2)</th>\n",
       "      <th>Reflected radiation (W/m2)</th>\n",
       "      <th>Time</th>\n",
       "      <th>Time zone</th>\n",
       "      <th>Year</th>\n",
       "      <th>d</th>\n",
       "      <th>m</th>\n",
       "      <th>datetime</th>\n",
       "      <th>datetime_converted</th>\n",
       "    </tr>\n",
       "    <tr>\n",
       "      <th>datetime_converted</th>\n",
       "      <th></th>\n",
       "      <th></th>\n",
       "      <th></th>\n",
       "      <th></th>\n",
       "      <th></th>\n",
       "      <th></th>\n",
       "      <th></th>\n",
       "      <th></th>\n",
       "      <th></th>\n",
       "      <th></th>\n",
       "      <th></th>\n",
       "    </tr>\n",
       "  </thead>\n",
       "  <tbody>\n",
       "    <tr>\n",
       "      <th>2015-04-22 00:00:00+00:00</th>\n",
       "      <td>-1.9</td>\n",
       "      <td>-0.2</td>\n",
       "      <td>NaN</td>\n",
       "      <td>0.0</td>\n",
       "      <td>00:00</td>\n",
       "      <td>UTC</td>\n",
       "      <td>2015</td>\n",
       "      <td>22</td>\n",
       "      <td>4</td>\n",
       "      <td>2015-4-22 00:00</td>\n",
       "      <td>2015-04-22 00:00:00+00:00</td>\n",
       "    </tr>\n",
       "    <tr>\n",
       "      <th>2015-04-22 01:00:00+00:00</th>\n",
       "      <td>-2.1</td>\n",
       "      <td>-1.0</td>\n",
       "      <td>NaN</td>\n",
       "      <td>0.0</td>\n",
       "      <td>01:00</td>\n",
       "      <td>UTC</td>\n",
       "      <td>2015</td>\n",
       "      <td>22</td>\n",
       "      <td>4</td>\n",
       "      <td>2015-4-22 01:00</td>\n",
       "      <td>2015-04-22 01:00:00+00:00</td>\n",
       "    </tr>\n",
       "    <tr>\n",
       "      <th>2015-04-22 02:00:00+00:00</th>\n",
       "      <td>-1.8</td>\n",
       "      <td>-0.8</td>\n",
       "      <td>NaN</td>\n",
       "      <td>0.0</td>\n",
       "      <td>02:00</td>\n",
       "      <td>UTC</td>\n",
       "      <td>2015</td>\n",
       "      <td>22</td>\n",
       "      <td>4</td>\n",
       "      <td>2015-4-22 02:00</td>\n",
       "      <td>2015-04-22 02:00:00+00:00</td>\n",
       "    </tr>\n",
       "    <tr>\n",
       "      <th>2015-04-22 03:00:00+00:00</th>\n",
       "      <td>7.6</td>\n",
       "      <td>72.4</td>\n",
       "      <td>NaN</td>\n",
       "      <td>0.0</td>\n",
       "      <td>03:00</td>\n",
       "      <td>UTC</td>\n",
       "      <td>2015</td>\n",
       "      <td>22</td>\n",
       "      <td>4</td>\n",
       "      <td>2015-4-22 03:00</td>\n",
       "      <td>2015-04-22 03:00:00+00:00</td>\n",
       "    </tr>\n",
       "    <tr>\n",
       "      <th>2015-04-22 04:00:00+00:00</th>\n",
       "      <td>46.2</td>\n",
       "      <td>195.8</td>\n",
       "      <td>NaN</td>\n",
       "      <td>0.0</td>\n",
       "      <td>04:00</td>\n",
       "      <td>UTC</td>\n",
       "      <td>2015</td>\n",
       "      <td>22</td>\n",
       "      <td>4</td>\n",
       "      <td>2015-4-22 04:00</td>\n",
       "      <td>2015-04-22 04:00:00+00:00</td>\n",
       "    </tr>\n",
       "  </tbody>\n",
       "</table>\n",
       "</div>"
      ],
      "text/plain": [
       "                           Diffuse radiation (W/m2)  \\\n",
       "datetime_converted                                    \n",
       "2015-04-22 00:00:00+00:00                      -1.9   \n",
       "2015-04-22 01:00:00+00:00                      -2.1   \n",
       "2015-04-22 02:00:00+00:00                      -1.8   \n",
       "2015-04-22 03:00:00+00:00                       7.6   \n",
       "2015-04-22 04:00:00+00:00                      46.2   \n",
       "\n",
       "                           Direct solar radiation (W/m2)  \\\n",
       "datetime_converted                                         \n",
       "2015-04-22 00:00:00+00:00                           -0.2   \n",
       "2015-04-22 01:00:00+00:00                           -1.0   \n",
       "2015-04-22 02:00:00+00:00                           -0.8   \n",
       "2015-04-22 03:00:00+00:00                           72.4   \n",
       "2015-04-22 04:00:00+00:00                          195.8   \n",
       "\n",
       "                           Global radiation (W/m2)  \\\n",
       "datetime_converted                                   \n",
       "2015-04-22 00:00:00+00:00                      NaN   \n",
       "2015-04-22 01:00:00+00:00                      NaN   \n",
       "2015-04-22 02:00:00+00:00                      NaN   \n",
       "2015-04-22 03:00:00+00:00                      NaN   \n",
       "2015-04-22 04:00:00+00:00                      NaN   \n",
       "\n",
       "                           Reflected radiation (W/m2)   Time Time zone  Year  \\\n",
       "datetime_converted                                                             \n",
       "2015-04-22 00:00:00+00:00                         0.0  00:00       UTC  2015   \n",
       "2015-04-22 01:00:00+00:00                         0.0  01:00       UTC  2015   \n",
       "2015-04-22 02:00:00+00:00                         0.0  02:00       UTC  2015   \n",
       "2015-04-22 03:00:00+00:00                         0.0  03:00       UTC  2015   \n",
       "2015-04-22 04:00:00+00:00                         0.0  04:00       UTC  2015   \n",
       "\n",
       "                            d  m         datetime        datetime_converted  \n",
       "datetime_converted                                                           \n",
       "2015-04-22 00:00:00+00:00  22  4  2015-4-22 00:00 2015-04-22 00:00:00+00:00  \n",
       "2015-04-22 01:00:00+00:00  22  4  2015-4-22 01:00 2015-04-22 01:00:00+00:00  \n",
       "2015-04-22 02:00:00+00:00  22  4  2015-4-22 02:00 2015-04-22 02:00:00+00:00  \n",
       "2015-04-22 03:00:00+00:00  22  4  2015-4-22 03:00 2015-04-22 03:00:00+00:00  \n",
       "2015-04-22 04:00:00+00:00  22  4  2015-4-22 04:00 2015-04-22 04:00:00+00:00  "
      ]
     },
     "execution_count": 18,
     "metadata": {},
     "output_type": "execute_result"
    }
   ],
   "source": [
    "df_irrad.head()"
   ]
  },
  {
   "cell_type": "code",
   "execution_count": null,
   "metadata": {},
   "outputs": [],
   "source": []
  },
  {
   "cell_type": "code",
   "execution_count": 19,
   "metadata": {},
   "outputs": [],
   "source": [
    "df_irrad['Global radiation (W/m2)'] = df_irrad['Diffuse radiation (W/m2)'] + df_irrad['Direct solar radiation (W/m2)'] + df_irrad['Reflected radiation (W/m2)']"
   ]
  },
  {
   "cell_type": "code",
   "execution_count": 20,
   "metadata": {},
   "outputs": [
    {
     "data": {
      "text/plain": [
       "Diffuse radiation (W/m2)         45\n",
       "Direct solar radiation (W/m2)    44\n",
       "Global radiation (W/m2)          55\n",
       "Reflected radiation (W/m2)        0\n",
       "Time                              0\n",
       "Time zone                         0\n",
       "Year                              0\n",
       "d                                 0\n",
       "m                                 0\n",
       "datetime                          0\n",
       "datetime_converted                0\n",
       "dtype: int64"
      ]
     },
     "execution_count": 20,
     "metadata": {},
     "output_type": "execute_result"
    }
   ],
   "source": [
    "df_irrad.isnull().sum()"
   ]
  },
  {
   "cell_type": "code",
   "execution_count": 21,
   "metadata": {},
   "outputs": [
    {
     "data": {
      "text/plain": [
       "<matplotlib.axes._subplots.AxesSubplot at 0x2523a42e630>"
      ]
     },
     "execution_count": 21,
     "metadata": {},
     "output_type": "execute_result"
    },
    {
     "data": {
      "image/png": "[encoded data removed]",
      "text/plain": [
       "<Figure size 864x432 with 1 Axes>"
      ]
     },
     "metadata": {
      "needs_background": "light"
     },
     "output_type": "display_data"
    }
   ],
   "source": [
    "df_irrad['Global radiation (W/m2)'].plot(figsize=(12,6))"
   ]
  },
  {
   "cell_type": "code",
   "execution_count": 22,
   "metadata": {},
   "outputs": [],
   "source": [
    "df_solar = pd.read_csv('../datasets/solar_p_data/data_solar.csv', delimiter=';')"
   ]
  },
  {
   "cell_type": "code",
   "execution_count": 23,
   "metadata": {},
   "outputs": [],
   "source": [
    "df_solar['datetime_converted'] = pd.to_datetime(df_solar['Date'], utc=False)\n",
    "df_solar['datetime_converted']=df_solar['datetime_converted'].dt.tz_localize(pytz.timezone('Europe/Helsinki'),nonexistent='NaT',ambiguous='NaT').dt.tz_convert('UTC')\n",
    "df_solar = df_solar.set_index(pd.DatetimeIndex(df_solar['datetime_converted'],dayfirst=True))"
   ]
  },
  {
   "cell_type": "code",
   "execution_count": 24,
   "metadata": {},
   "outputs": [
    {
     "name": "stderr",
     "output_type": "stream",
     "text": [
      "C:\\Users\\screwdriver\\Anaconda3\\lib\\site-packages\\pandas\\core\\indexing.py:205: SettingWithCopyWarning: \n",
      "A value is trying to be set on a copy of a slice from a DataFrame\n",
      "\n",
      "See the caveats in the documentation: http://pandas.pydata.org/pandas-docs/stable/user_guide/indexing.html#returning-a-view-versus-a-copy\n",
      "  self._setitem_with_indexer(indexer, value)\n"
     ]
    }
   ],
   "source": [
    "\n",
    "\n",
    "df_solar['Value (kWh)'] = df_solar['Value (kWh)'].replace('-', np.nan)\n",
    "df_solar['Value (kWh)'] = pd.to_numeric(df_solar['Value (kWh)'])\n",
    "df_solar['Value (kWh)'] = df_solar['Value (kWh)'].fillna(0)\n",
    "index_val = '2016-05-22 08:00:00+00:00'\n",
    "# df['Value (kWh)'].index==index_val.replace(value=value_to_repl, inplace=True)\n",
    "df_solar['Value (kWh)'].loc[index_val] = 181.5\n",
    "val_index = '2017-06-07 15:00:00+00:00'\n",
    "slice_1 = '2017-06-07 14:00:00+00:00'\n",
    "slice_2 = '2017-06-07 16:00:00+00:00'\n",
    "df_solar['Value (kWh)'].loc[val_index] = (df_solar['Value (kWh)'].loc[slice_1]+df_solar['Value (kWh)'].loc[slice_2])/2\n"
   ]
  },
  {
   "cell_type": "code",
   "execution_count": 25,
   "metadata": {},
   "outputs": [
    {
     "data": {
      "text/plain": [
       "<matplotlib.axes._subplots.AxesSubplot at 0x2523be20eb8>"
      ]
     },
     "execution_count": 25,
     "metadata": {},
     "output_type": "execute_result"
    },
    {
     "data": {
      "image/png": "[encoded data removed]",
      "text/plain": [
       "<Figure size 432x288 with 1 Axes>"
      ]
     },
     "metadata": {
      "needs_background": "light"
     },
     "output_type": "display_data"
    }
   ],
   "source": [
    "df_solar['Value (kWh)'].plot()"
   ]
  },
  {
   "cell_type": "code",
   "execution_count": 26,
   "metadata": {},
   "outputs": [],
   "source": [
    "df_irrad = df_irrad[~df_irrad.index.duplicated(keep='first')]\n",
    "df_solar = df_solar[~df_solar.index.duplicated(keep='first')]"
   ]
  },
  {
   "cell_type": "code",
   "execution_count": 27,
   "metadata": {},
   "outputs": [],
   "source": [
    "# df_irrad = df_irrad['Global radiation (W/m2)']\n",
    "# df_solar = df_solar['Value (kWh)']\n",
    "df = pd.concat([df_irrad['Global radiation (W/m2)'], df_irrad['Diffuse radiation (W/m2)'],df_irrad['Direct solar radiation (W/m2)'],df_solar['Value (kWh)']], axis=1)"
   ]
  },
  {
   "cell_type": "code",
   "execution_count": 28,
   "metadata": {
    "scrolled": false
   },
   "outputs": [
    {
     "data": {
      "text/html": [
       "<div>\n",
       "<style scoped>\n",
       "    .dataframe tbody tr th:only-of-type {\n",
       "        vertical-align: middle;\n",
       "    }\n",
       "\n",
       "    .dataframe tbody tr th {\n",
       "        vertical-align: top;\n",
       "    }\n",
       "\n",
       "    .dataframe thead th {\n",
       "        text-align: right;\n",
       "    }\n",
       "</style>\n",
       "<table border=\"1\" class=\"dataframe\">\n",
       "  <thead>\n",
       "    <tr style=\"text-align: right;\">\n",
       "      <th></th>\n",
       "      <th>Diffuse radiation (W/m2)</th>\n",
       "      <th>Direct solar radiation (W/m2)</th>\n",
       "      <th>Global radiation (W/m2)</th>\n",
       "      <th>Reflected radiation (W/m2)</th>\n",
       "      <th>Time</th>\n",
       "      <th>Time zone</th>\n",
       "      <th>Year</th>\n",
       "      <th>d</th>\n",
       "      <th>m</th>\n",
       "      <th>datetime</th>\n",
       "      <th>datetime_converted</th>\n",
       "    </tr>\n",
       "    <tr>\n",
       "      <th>datetime_converted</th>\n",
       "      <th></th>\n",
       "      <th></th>\n",
       "      <th></th>\n",
       "      <th></th>\n",
       "      <th></th>\n",
       "      <th></th>\n",
       "      <th></th>\n",
       "      <th></th>\n",
       "      <th></th>\n",
       "      <th></th>\n",
       "      <th></th>\n",
       "    </tr>\n",
       "  </thead>\n",
       "  <tbody>\n",
       "    <tr>\n",
       "      <th>2015-04-22 00:00:00+00:00</th>\n",
       "      <td>-1.9</td>\n",
       "      <td>-0.2</td>\n",
       "      <td>-2.1</td>\n",
       "      <td>0.0</td>\n",
       "      <td>00:00</td>\n",
       "      <td>UTC</td>\n",
       "      <td>2015</td>\n",
       "      <td>22</td>\n",
       "      <td>4</td>\n",
       "      <td>2015-4-22 00:00</td>\n",
       "      <td>2015-04-22 00:00:00+00:00</td>\n",
       "    </tr>\n",
       "    <tr>\n",
       "      <th>2015-04-22 01:00:00+00:00</th>\n",
       "      <td>-2.1</td>\n",
       "      <td>-1.0</td>\n",
       "      <td>-3.1</td>\n",
       "      <td>0.0</td>\n",
       "      <td>01:00</td>\n",
       "      <td>UTC</td>\n",
       "      <td>2015</td>\n",
       "      <td>22</td>\n",
       "      <td>4</td>\n",
       "      <td>2015-4-22 01:00</td>\n",
       "      <td>2015-04-22 01:00:00+00:00</td>\n",
       "    </tr>\n",
       "    <tr>\n",
       "      <th>2015-04-22 02:00:00+00:00</th>\n",
       "      <td>-1.8</td>\n",
       "      <td>-0.8</td>\n",
       "      <td>-2.6</td>\n",
       "      <td>0.0</td>\n",
       "      <td>02:00</td>\n",
       "      <td>UTC</td>\n",
       "      <td>2015</td>\n",
       "      <td>22</td>\n",
       "      <td>4</td>\n",
       "      <td>2015-4-22 02:00</td>\n",
       "      <td>2015-04-22 02:00:00+00:00</td>\n",
       "    </tr>\n",
       "    <tr>\n",
       "      <th>2015-04-22 03:00:00+00:00</th>\n",
       "      <td>7.6</td>\n",
       "      <td>72.4</td>\n",
       "      <td>80.0</td>\n",
       "      <td>0.0</td>\n",
       "      <td>03:00</td>\n",
       "      <td>UTC</td>\n",
       "      <td>2015</td>\n",
       "      <td>22</td>\n",
       "      <td>4</td>\n",
       "      <td>2015-4-22 03:00</td>\n",
       "      <td>2015-04-22 03:00:00+00:00</td>\n",
       "    </tr>\n",
       "    <tr>\n",
       "      <th>2015-04-22 04:00:00+00:00</th>\n",
       "      <td>46.2</td>\n",
       "      <td>195.8</td>\n",
       "      <td>242.0</td>\n",
       "      <td>0.0</td>\n",
       "      <td>04:00</td>\n",
       "      <td>UTC</td>\n",
       "      <td>2015</td>\n",
       "      <td>22</td>\n",
       "      <td>4</td>\n",
       "      <td>2015-4-22 04:00</td>\n",
       "      <td>2015-04-22 04:00:00+00:00</td>\n",
       "    </tr>\n",
       "    <tr>\n",
       "      <th>...</th>\n",
       "      <td>...</td>\n",
       "      <td>...</td>\n",
       "      <td>...</td>\n",
       "      <td>...</td>\n",
       "      <td>...</td>\n",
       "      <td>...</td>\n",
       "      <td>...</td>\n",
       "      <td>...</td>\n",
       "      <td>...</td>\n",
       "      <td>...</td>\n",
       "      <td>...</td>\n",
       "    </tr>\n",
       "    <tr>\n",
       "      <th>2020-04-22 20:00:00+00:00</th>\n",
       "      <td>-2.7</td>\n",
       "      <td>-0.2</td>\n",
       "      <td>-2.9</td>\n",
       "      <td>0.0</td>\n",
       "      <td>20:00</td>\n",
       "      <td>UTC</td>\n",
       "      <td>2020</td>\n",
       "      <td>22</td>\n",
       "      <td>4</td>\n",
       "      <td>2020-4-22 20:00</td>\n",
       "      <td>2020-04-22 20:00:00+00:00</td>\n",
       "    </tr>\n",
       "    <tr>\n",
       "      <th>2020-04-22 21:00:00+00:00</th>\n",
       "      <td>-2.6</td>\n",
       "      <td>-0.6</td>\n",
       "      <td>-3.2</td>\n",
       "      <td>0.0</td>\n",
       "      <td>21:00</td>\n",
       "      <td>UTC</td>\n",
       "      <td>2020</td>\n",
       "      <td>22</td>\n",
       "      <td>4</td>\n",
       "      <td>2020-4-22 21:00</td>\n",
       "      <td>2020-04-22 21:00:00+00:00</td>\n",
       "    </tr>\n",
       "    <tr>\n",
       "      <th>2020-04-22 22:00:00+00:00</th>\n",
       "      <td>-2.3</td>\n",
       "      <td>-0.2</td>\n",
       "      <td>-2.5</td>\n",
       "      <td>0.0</td>\n",
       "      <td>22:00</td>\n",
       "      <td>UTC</td>\n",
       "      <td>2020</td>\n",
       "      <td>22</td>\n",
       "      <td>4</td>\n",
       "      <td>2020-4-22 22:00</td>\n",
       "      <td>2020-04-22 22:00:00+00:00</td>\n",
       "    </tr>\n",
       "    <tr>\n",
       "      <th>2020-04-22 23:00:00+00:00</th>\n",
       "      <td>-2.1</td>\n",
       "      <td>-0.1</td>\n",
       "      <td>-2.2</td>\n",
       "      <td>0.0</td>\n",
       "      <td>23:00</td>\n",
       "      <td>UTC</td>\n",
       "      <td>2020</td>\n",
       "      <td>22</td>\n",
       "      <td>4</td>\n",
       "      <td>2020-4-22 23:00</td>\n",
       "      <td>2020-04-22 23:00:00+00:00</td>\n",
       "    </tr>\n",
       "    <tr>\n",
       "      <th>2020-04-23 00:00:00+00:00</th>\n",
       "      <td>-2.3</td>\n",
       "      <td>-0.4</td>\n",
       "      <td>-2.7</td>\n",
       "      <td>0.0</td>\n",
       "      <td>00:00</td>\n",
       "      <td>UTC</td>\n",
       "      <td>2020</td>\n",
       "      <td>23</td>\n",
       "      <td>4</td>\n",
       "      <td>2020-4-23 00:00</td>\n",
       "      <td>2020-04-23 00:00:00+00:00</td>\n",
       "    </tr>\n",
       "  </tbody>\n",
       "</table>\n",
       "<p>43873 rows × 11 columns</p>\n",
       "</div>"
      ],
      "text/plain": [
       "                           Diffuse radiation (W/m2)  \\\n",
       "datetime_converted                                    \n",
       "2015-04-22 00:00:00+00:00                      -1.9   \n",
       "2015-04-22 01:00:00+00:00                      -2.1   \n",
       "2015-04-22 02:00:00+00:00                      -1.8   \n",
       "2015-04-22 03:00:00+00:00                       7.6   \n",
       "2015-04-22 04:00:00+00:00                      46.2   \n",
       "...                                             ...   \n",
       "2020-04-22 20:00:00+00:00                      -2.7   \n",
       "2020-04-22 21:00:00+00:00                      -2.6   \n",
       "2020-04-22 22:00:00+00:00                      -2.3   \n",
       "2020-04-22 23:00:00+00:00                      -2.1   \n",
       "2020-04-23 00:00:00+00:00                      -2.3   \n",
       "\n",
       "                           Direct solar radiation (W/m2)  \\\n",
       "datetime_converted                                         \n",
       "2015-04-22 00:00:00+00:00                           -0.2   \n",
       "2015-04-22 01:00:00+00:00                           -1.0   \n",
       "2015-04-22 02:00:00+00:00                           -0.8   \n",
       "2015-04-22 03:00:00+00:00                           72.4   \n",
       "2015-04-22 04:00:00+00:00                          195.8   \n",
       "...                                                  ...   \n",
       "2020-04-22 20:00:00+00:00                           -0.2   \n",
       "2020-04-22 21:00:00+00:00                           -0.6   \n",
       "2020-04-22 22:00:00+00:00                           -0.2   \n",
       "2020-04-22 23:00:00+00:00                           -0.1   \n",
       "2020-04-23 00:00:00+00:00                           -0.4   \n",
       "\n",
       "                           Global radiation (W/m2)  \\\n",
       "datetime_converted                                   \n",
       "2015-04-22 00:00:00+00:00                     -2.1   \n",
       "2015-04-22 01:00:00+00:00                     -3.1   \n",
       "2015-04-22 02:00:00+00:00                     -2.6   \n",
       "2015-04-22 03:00:00+00:00                     80.0   \n",
       "2015-04-22 04:00:00+00:00                    242.0   \n",
       "...                                            ...   \n",
       "2020-04-22 20:00:00+00:00                     -2.9   \n",
       "2020-04-22 21:00:00+00:00                     -3.2   \n",
       "2020-04-22 22:00:00+00:00                     -2.5   \n",
       "2020-04-22 23:00:00+00:00                     -2.2   \n",
       "2020-04-23 00:00:00+00:00                     -2.7   \n",
       "\n",
       "                           Reflected radiation (W/m2)   Time Time zone  Year  \\\n",
       "datetime_converted                                                             \n",
       "2015-04-22 00:00:00+00:00                         0.0  00:00       UTC  2015   \n",
       "2015-04-22 01:00:00+00:00                         0.0  01:00       UTC  2015   \n",
       "2015-04-22 02:00:00+00:00                         0.0  02:00       UTC  2015   \n",
       "2015-04-22 03:00:00+00:00                         0.0  03:00       UTC  2015   \n",
       "2015-04-22 04:00:00+00:00                         0.0  04:00       UTC  2015   \n",
       "...                                               ...    ...       ...   ...   \n",
       "2020-04-22 20:00:00+00:00                         0.0  20:00       UTC  2020   \n",
       "2020-04-22 21:00:00+00:00                         0.0  21:00       UTC  2020   \n",
       "2020-04-22 22:00:00+00:00                         0.0  22:00       UTC  2020   \n",
       "2020-04-22 23:00:00+00:00                         0.0  23:00       UTC  2020   \n",
       "2020-04-23 00:00:00+00:00                         0.0  00:00       UTC  2020   \n",
       "\n",
       "                            d  m         datetime        datetime_converted  \n",
       "datetime_converted                                                           \n",
       "2015-04-22 00:00:00+00:00  22  4  2015-4-22 00:00 2015-04-22 00:00:00+00:00  \n",
       "2015-04-22 01:00:00+00:00  22  4  2015-4-22 01:00 2015-04-22 01:00:00+00:00  \n",
       "2015-04-22 02:00:00+00:00  22  4  2015-4-22 02:00 2015-04-22 02:00:00+00:00  \n",
       "2015-04-22 03:00:00+00:00  22  4  2015-4-22 03:00 2015-04-22 03:00:00+00:00  \n",
       "2015-04-22 04:00:00+00:00  22  4  2015-4-22 04:00 2015-04-22 04:00:00+00:00  \n",
       "...                        .. ..              ...                       ...  \n",
       "2020-04-22 20:00:00+00:00  22  4  2020-4-22 20:00 2020-04-22 20:00:00+00:00  \n",
       "2020-04-22 21:00:00+00:00  22  4  2020-4-22 21:00 2020-04-22 21:00:00+00:00  \n",
       "2020-04-22 22:00:00+00:00  22  4  2020-4-22 22:00 2020-04-22 22:00:00+00:00  \n",
       "2020-04-22 23:00:00+00:00  22  4  2020-4-22 23:00 2020-04-22 23:00:00+00:00  \n",
       "2020-04-23 00:00:00+00:00  23  4  2020-4-23 00:00 2020-04-23 00:00:00+00:00  \n",
       "\n",
       "[43873 rows x 11 columns]"
      ]
     },
     "execution_count": 28,
     "metadata": {},
     "output_type": "execute_result"
    }
   ],
   "source": [
    "df_irrad"
   ]
  },
  {
   "cell_type": "code",
   "execution_count": 29,
   "metadata": {},
   "outputs": [
    {
     "data": {
      "text/plain": [
       "<matplotlib.axes._subplots.AxesSubplot at 0x2523c0b7ac8>"
      ]
     },
     "execution_count": 29,
     "metadata": {},
     "output_type": "execute_result"
    },
    {
     "data": {
      "image/png": "[encoded data removed]",
      "text/plain": [
       "<Figure size 432x288 with 1 Axes>"
      ]
     },
     "metadata": {
      "needs_background": "light"
     },
     "output_type": "display_data"
    }
   ],
   "source": [
    "df['Global radiation (W/m2)'].plot()"
   ]
  },
  {
   "cell_type": "code",
   "execution_count": 30,
   "metadata": {},
   "outputs": [
    {
     "data": {
      "text/plain": [
       "<matplotlib.axes._subplots.AxesSubplot at 0x2523a82cf98>"
      ]
     },
     "execution_count": 30,
     "metadata": {},
     "output_type": "execute_result"
    },
    {
     "data": {
      "image/png": "[encoded data removed]",
      "text/plain": [
       "<Figure size 432x288 with 1 Axes>"
      ]
     },
     "metadata": {
      "needs_background": "light"
     },
     "output_type": "display_data"
    }
   ],
   "source": [
    "df['Diffuse radiation (W/m2)'].plot()"
   ]
  },
  {
   "cell_type": "code",
   "execution_count": 31,
   "metadata": {},
   "outputs": [
    {
     "data": {
      "text/plain": [
       "<matplotlib.axes._subplots.AxesSubplot at 0x2523f662320>"
      ]
     },
     "execution_count": 31,
     "metadata": {},
     "output_type": "execute_result"
    },
    {
     "data": {
      "image/png": "[encoded data removed]",
      "text/plain": [
       "<Figure size 432x288 with 1 Axes>"
      ]
     },
     "metadata": {
      "needs_background": "light"
     },
     "output_type": "display_data"
    }
   ],
   "source": [
    "df['Direct solar radiation (W/m2)'].plot()"
   ]
  },
  {
   "cell_type": "code",
   "execution_count": 32,
   "metadata": {},
   "outputs": [
    {
     "data": {
      "text/plain": [
       "Global radiation (W/m2)          580\n",
       "Diffuse radiation (W/m2)         570\n",
       "Direct solar radiation (W/m2)    569\n",
       "Value (kWh)                       11\n",
       "dtype: int64"
      ]
     },
     "execution_count": 32,
     "metadata": {},
     "output_type": "execute_result"
    }
   ],
   "source": [
    "df.isnull().sum()"
   ]
  },
  {
   "cell_type": "code",
   "execution_count": 33,
   "metadata": {},
   "outputs": [],
   "source": [
    "df = df.dropna()"
   ]
  },
  {
   "cell_type": "code",
   "execution_count": 34,
   "metadata": {},
   "outputs": [],
   "source": [
    "df['day_of_the_year']=df.index.dayofyear"
   ]
  },
  {
   "cell_type": "code",
   "execution_count": 35,
   "metadata": {},
   "outputs": [
    {
     "data": {
      "text/html": [
       "<div>\n",
       "<style scoped>\n",
       "    .dataframe tbody tr th:only-of-type {\n",
       "        vertical-align: middle;\n",
       "    }\n",
       "\n",
       "    .dataframe tbody tr th {\n",
       "        vertical-align: top;\n",
       "    }\n",
       "\n",
       "    .dataframe thead th {\n",
       "        text-align: right;\n",
       "    }\n",
       "</style>\n",
       "<table border=\"1\" class=\"dataframe\">\n",
       "  <thead>\n",
       "    <tr style=\"text-align: right;\">\n",
       "      <th></th>\n",
       "      <th>Global radiation (W/m2)</th>\n",
       "      <th>Diffuse radiation (W/m2)</th>\n",
       "      <th>Direct solar radiation (W/m2)</th>\n",
       "      <th>Value (kWh)</th>\n",
       "      <th>day_of_the_year</th>\n",
       "    </tr>\n",
       "  </thead>\n",
       "  <tbody>\n",
       "    <tr>\n",
       "      <th>Global radiation (W/m2)</th>\n",
       "      <td>1.000000</td>\n",
       "      <td>0.555678</td>\n",
       "      <td>0.968287</td>\n",
       "      <td>0.824398</td>\n",
       "      <td>-0.074041</td>\n",
       "    </tr>\n",
       "    <tr>\n",
       "      <th>Diffuse radiation (W/m2)</th>\n",
       "      <td>0.555678</td>\n",
       "      <td>1.000000</td>\n",
       "      <td>0.330340</td>\n",
       "      <td>0.679010</td>\n",
       "      <td>-0.051314</td>\n",
       "    </tr>\n",
       "    <tr>\n",
       "      <th>Direct solar radiation (W/m2)</th>\n",
       "      <td>0.968287</td>\n",
       "      <td>0.330340</td>\n",
       "      <td>1.000000</td>\n",
       "      <td>0.731869</td>\n",
       "      <td>-0.068636</td>\n",
       "    </tr>\n",
       "    <tr>\n",
       "      <th>Value (kWh)</th>\n",
       "      <td>0.824398</td>\n",
       "      <td>0.679010</td>\n",
       "      <td>0.731869</td>\n",
       "      <td>1.000000</td>\n",
       "      <td>-0.046553</td>\n",
       "    </tr>\n",
       "    <tr>\n",
       "      <th>day_of_the_year</th>\n",
       "      <td>-0.074041</td>\n",
       "      <td>-0.051314</td>\n",
       "      <td>-0.068636</td>\n",
       "      <td>-0.046553</td>\n",
       "      <td>1.000000</td>\n",
       "    </tr>\n",
       "  </tbody>\n",
       "</table>\n",
       "</div>"
      ],
      "text/plain": [
       "                               Global radiation (W/m2)  \\\n",
       "Global radiation (W/m2)                       1.000000   \n",
       "Diffuse radiation (W/m2)                      0.555678   \n",
       "Direct solar radiation (W/m2)                 0.968287   \n",
       "Value (kWh)                                   0.824398   \n",
       "day_of_the_year                              -0.074041   \n",
       "\n",
       "                               Diffuse radiation (W/m2)  \\\n",
       "Global radiation (W/m2)                        0.555678   \n",
       "Diffuse radiation (W/m2)                       1.000000   \n",
       "Direct solar radiation (W/m2)                  0.330340   \n",
       "Value (kWh)                                    0.679010   \n",
       "day_of_the_year                               -0.051314   \n",
       "\n",
       "                               Direct solar radiation (W/m2)  Value (kWh)  \\\n",
       "Global radiation (W/m2)                             0.968287     0.824398   \n",
       "Diffuse radiation (W/m2)                            0.330340     0.679010   \n",
       "Direct solar radiation (W/m2)                       1.000000     0.731869   \n",
       "Value (kWh)                                         0.731869     1.000000   \n",
       "day_of_the_year                                    -0.068636    -0.046553   \n",
       "\n",
       "                               day_of_the_year  \n",
       "Global radiation (W/m2)              -0.074041  \n",
       "Diffuse radiation (W/m2)             -0.051314  \n",
       "Direct solar radiation (W/m2)        -0.068636  \n",
       "Value (kWh)                          -0.046553  \n",
       "day_of_the_year                       1.000000  "
      ]
     },
     "execution_count": 35,
     "metadata": {},
     "output_type": "execute_result"
    }
   ],
   "source": [
    "df.corr()"
   ]
  },
  {
   "cell_type": "code",
   "execution_count": 36,
   "metadata": {},
   "outputs": [
    {
     "data": {
      "text/plain": [
       "<matplotlib.axes._subplots.AxesSubplot at 0x2523f8c8d68>"
      ]
     },
     "execution_count": 36,
     "metadata": {},
     "output_type": "execute_result"
    },
    {
     "data": {
      "image/png": "[encoded data removed]",
      "text/plain": [
       "<Figure size 432x288 with 2 Axes>"
      ]
     },
     "metadata": {
      "needs_background": "light"
     },
     "output_type": "display_data"
    }
   ],
   "source": [
    "sns.heatmap(df.corr())"
   ]
  },
  {
   "cell_type": "markdown",
   "metadata": {},
   "source": [
    "# Adding weather data"
   ]
  },
  {
   "cell_type": "code",
   "execution_count": 37,
   "metadata": {},
   "outputs": [],
   "source": [
    "df_weather = pd.DataFrame()\n",
    "#adding to one dataframe\n",
    "for year in range(16,21):\n",
    "    year_start = str(year-1)\n",
    "    year_end = str(year)\n",
    "    df_temp = pd.read_csv('../datasets/solar_p_data/csv20' + year_start + '_04_22_till_20'+ year_end + '_04_22.csv')\n",
    "    df_weather = pd.concat([df_weather,df_temp],axis=0)"
   ]
  },
  {
   "cell_type": "code",
   "execution_count": 38,
   "metadata": {},
   "outputs": [
    {
     "data": {
      "text/html": [
       "<div>\n",
       "<style scoped>\n",
       "    .dataframe tbody tr th:only-of-type {\n",
       "        vertical-align: middle;\n",
       "    }\n",
       "\n",
       "    .dataframe tbody tr th {\n",
       "        vertical-align: top;\n",
       "    }\n",
       "\n",
       "    .dataframe thead th {\n",
       "        text-align: right;\n",
       "    }\n",
       "</style>\n",
       "<table border=\"1\" class=\"dataframe\">\n",
       "  <thead>\n",
       "    <tr style=\"text-align: right;\">\n",
       "      <th></th>\n",
       "      <th>Year</th>\n",
       "      <th>m</th>\n",
       "      <th>d</th>\n",
       "      <th>Time</th>\n",
       "      <th>Time zone</th>\n",
       "      <th>Cloud amount (1/8)</th>\n",
       "      <th>Pressure (msl) (hPa)</th>\n",
       "      <th>Relative humidity (%)</th>\n",
       "      <th>Precipitation intensity (mm/h)</th>\n",
       "      <th>Snow depth (cm)</th>\n",
       "      <th>Air temperature (degC)</th>\n",
       "      <th>Dew-point temperature (degC)</th>\n",
       "      <th>Horizontal visibility (m)</th>\n",
       "      <th>Wind direction (deg)</th>\n",
       "      <th>Gust speed (m/s)</th>\n",
       "      <th>Wind speed (m/s)</th>\n",
       "    </tr>\n",
       "  </thead>\n",
       "  <tbody>\n",
       "    <tr>\n",
       "      <th>0</th>\n",
       "      <td>2015</td>\n",
       "      <td>4</td>\n",
       "      <td>22</td>\n",
       "      <td>00:00</td>\n",
       "      <td>UTC</td>\n",
       "      <td>7.0</td>\n",
       "      <td>1018.2</td>\n",
       "      <td>65.0</td>\n",
       "      <td>0.0</td>\n",
       "      <td>-1.0</td>\n",
       "      <td>6.9</td>\n",
       "      <td>0.8</td>\n",
       "      <td>50000.0</td>\n",
       "      <td>253.0</td>\n",
       "      <td>4.1</td>\n",
       "      <td>3.1</td>\n",
       "    </tr>\n",
       "    <tr>\n",
       "      <th>1</th>\n",
       "      <td>2015</td>\n",
       "      <td>4</td>\n",
       "      <td>22</td>\n",
       "      <td>01:00</td>\n",
       "      <td>UTC</td>\n",
       "      <td>1.0</td>\n",
       "      <td>1017.9</td>\n",
       "      <td>71.0</td>\n",
       "      <td>0.0</td>\n",
       "      <td>-1.0</td>\n",
       "      <td>5.8</td>\n",
       "      <td>1.0</td>\n",
       "      <td>50000.0</td>\n",
       "      <td>257.0</td>\n",
       "      <td>4.9</td>\n",
       "      <td>3.4</td>\n",
       "    </tr>\n",
       "    <tr>\n",
       "      <th>2</th>\n",
       "      <td>2015</td>\n",
       "      <td>4</td>\n",
       "      <td>22</td>\n",
       "      <td>02:00</td>\n",
       "      <td>UTC</td>\n",
       "      <td>3.0</td>\n",
       "      <td>1017.5</td>\n",
       "      <td>76.0</td>\n",
       "      <td>0.0</td>\n",
       "      <td>-1.0</td>\n",
       "      <td>4.9</td>\n",
       "      <td>0.9</td>\n",
       "      <td>50000.0</td>\n",
       "      <td>272.0</td>\n",
       "      <td>5.4</td>\n",
       "      <td>4.0</td>\n",
       "    </tr>\n",
       "    <tr>\n",
       "      <th>3</th>\n",
       "      <td>2015</td>\n",
       "      <td>4</td>\n",
       "      <td>22</td>\n",
       "      <td>03:00</td>\n",
       "      <td>UTC</td>\n",
       "      <td>5.0</td>\n",
       "      <td>1017.3</td>\n",
       "      <td>77.0</td>\n",
       "      <td>0.0</td>\n",
       "      <td>-1.0</td>\n",
       "      <td>4.9</td>\n",
       "      <td>1.1</td>\n",
       "      <td>49820.0</td>\n",
       "      <td>276.0</td>\n",
       "      <td>6.0</td>\n",
       "      <td>4.3</td>\n",
       "    </tr>\n",
       "    <tr>\n",
       "      <th>4</th>\n",
       "      <td>2015</td>\n",
       "      <td>4</td>\n",
       "      <td>22</td>\n",
       "      <td>04:00</td>\n",
       "      <td>UTC</td>\n",
       "      <td>0.0</td>\n",
       "      <td>1016.9</td>\n",
       "      <td>76.0</td>\n",
       "      <td>0.0</td>\n",
       "      <td>-1.0</td>\n",
       "      <td>4.9</td>\n",
       "      <td>0.9</td>\n",
       "      <td>49560.0</td>\n",
       "      <td>284.0</td>\n",
       "      <td>5.6</td>\n",
       "      <td>3.6</td>\n",
       "    </tr>\n",
       "    <tr>\n",
       "      <th>...</th>\n",
       "      <td>...</td>\n",
       "      <td>...</td>\n",
       "      <td>...</td>\n",
       "      <td>...</td>\n",
       "      <td>...</td>\n",
       "      <td>...</td>\n",
       "      <td>...</td>\n",
       "      <td>...</td>\n",
       "      <td>...</td>\n",
       "      <td>...</td>\n",
       "      <td>...</td>\n",
       "      <td>...</td>\n",
       "      <td>...</td>\n",
       "      <td>...</td>\n",
       "      <td>...</td>\n",
       "      <td>...</td>\n",
       "    </tr>\n",
       "    <tr>\n",
       "      <th>8804</th>\n",
       "      <td>2020</td>\n",
       "      <td>4</td>\n",
       "      <td>22</td>\n",
       "      <td>20:00</td>\n",
       "      <td>UTC</td>\n",
       "      <td>0.0</td>\n",
       "      <td>1021.3</td>\n",
       "      <td>62.0</td>\n",
       "      <td>0.0</td>\n",
       "      <td>0.0</td>\n",
       "      <td>6.4</td>\n",
       "      <td>-0.4</td>\n",
       "      <td>50000.0</td>\n",
       "      <td>267.0</td>\n",
       "      <td>4.9</td>\n",
       "      <td>3.6</td>\n",
       "    </tr>\n",
       "    <tr>\n",
       "      <th>8805</th>\n",
       "      <td>2020</td>\n",
       "      <td>4</td>\n",
       "      <td>22</td>\n",
       "      <td>21:00</td>\n",
       "      <td>UTC</td>\n",
       "      <td>0.0</td>\n",
       "      <td>1021.0</td>\n",
       "      <td>69.0</td>\n",
       "      <td>0.0</td>\n",
       "      <td>0.0</td>\n",
       "      <td>5.2</td>\n",
       "      <td>0.0</td>\n",
       "      <td>50000.0</td>\n",
       "      <td>291.0</td>\n",
       "      <td>5.2</td>\n",
       "      <td>3.8</td>\n",
       "    </tr>\n",
       "    <tr>\n",
       "      <th>8806</th>\n",
       "      <td>2020</td>\n",
       "      <td>4</td>\n",
       "      <td>22</td>\n",
       "      <td>22:00</td>\n",
       "      <td>UTC</td>\n",
       "      <td>0.0</td>\n",
       "      <td>1021.0</td>\n",
       "      <td>63.0</td>\n",
       "      <td>0.0</td>\n",
       "      <td>0.0</td>\n",
       "      <td>5.5</td>\n",
       "      <td>-1.0</td>\n",
       "      <td>50000.0</td>\n",
       "      <td>325.0</td>\n",
       "      <td>4.6</td>\n",
       "      <td>3.3</td>\n",
       "    </tr>\n",
       "    <tr>\n",
       "      <th>8807</th>\n",
       "      <td>2020</td>\n",
       "      <td>4</td>\n",
       "      <td>22</td>\n",
       "      <td>23:00</td>\n",
       "      <td>UTC</td>\n",
       "      <td>0.0</td>\n",
       "      <td>1020.6</td>\n",
       "      <td>65.0</td>\n",
       "      <td>0.0</td>\n",
       "      <td>0.0</td>\n",
       "      <td>4.4</td>\n",
       "      <td>-1.6</td>\n",
       "      <td>50000.0</td>\n",
       "      <td>321.0</td>\n",
       "      <td>4.1</td>\n",
       "      <td>3.3</td>\n",
       "    </tr>\n",
       "    <tr>\n",
       "      <th>8808</th>\n",
       "      <td>2020</td>\n",
       "      <td>4</td>\n",
       "      <td>23</td>\n",
       "      <td>00:00</td>\n",
       "      <td>UTC</td>\n",
       "      <td>0.0</td>\n",
       "      <td>1020.4</td>\n",
       "      <td>68.0</td>\n",
       "      <td>0.0</td>\n",
       "      <td>0.0</td>\n",
       "      <td>3.7</td>\n",
       "      <td>-1.7</td>\n",
       "      <td>50000.0</td>\n",
       "      <td>312.0</td>\n",
       "      <td>4.6</td>\n",
       "      <td>3.2</td>\n",
       "    </tr>\n",
       "  </tbody>\n",
       "</table>\n",
       "<p>43973 rows × 16 columns</p>\n",
       "</div>"
      ],
      "text/plain": [
       "      Year  m   d   Time Time zone  Cloud amount (1/8)  Pressure (msl) (hPa)  \\\n",
       "0     2015  4  22  00:00       UTC                 7.0                1018.2   \n",
       "1     2015  4  22  01:00       UTC                 1.0                1017.9   \n",
       "2     2015  4  22  02:00       UTC                 3.0                1017.5   \n",
       "3     2015  4  22  03:00       UTC                 5.0                1017.3   \n",
       "4     2015  4  22  04:00       UTC                 0.0                1016.9   \n",
       "...    ... ..  ..    ...       ...                 ...                   ...   \n",
       "8804  2020  4  22  20:00       UTC                 0.0                1021.3   \n",
       "8805  2020  4  22  21:00       UTC                 0.0                1021.0   \n",
       "8806  2020  4  22  22:00       UTC                 0.0                1021.0   \n",
       "8807  2020  4  22  23:00       UTC                 0.0                1020.6   \n",
       "8808  2020  4  23  00:00       UTC                 0.0                1020.4   \n",
       "\n",
       "      Relative humidity (%)  Precipitation intensity (mm/h)  Snow depth (cm)  \\\n",
       "0                      65.0                             0.0             -1.0   \n",
       "1                      71.0                             0.0             -1.0   \n",
       "2                      76.0                             0.0             -1.0   \n",
       "3                      77.0                             0.0             -1.0   \n",
       "4                      76.0                             0.0             -1.0   \n",
       "...                     ...                             ...              ...   \n",
       "8804                   62.0                             0.0              0.0   \n",
       "8805                   69.0                             0.0              0.0   \n",
       "8806                   63.0                             0.0              0.0   \n",
       "8807                   65.0                             0.0              0.0   \n",
       "8808                   68.0                             0.0              0.0   \n",
       "\n",
       "      Air temperature (degC)  Dew-point temperature (degC)  \\\n",
       "0                        6.9                           0.8   \n",
       "1                        5.8                           1.0   \n",
       "2                        4.9                           0.9   \n",
       "3                        4.9                           1.1   \n",
       "4                        4.9                           0.9   \n",
       "...                      ...                           ...   \n",
       "8804                     6.4                          -0.4   \n",
       "8805                     5.2                           0.0   \n",
       "8806                     5.5                          -1.0   \n",
       "8807                     4.4                          -1.6   \n",
       "8808                     3.7                          -1.7   \n",
       "\n",
       "      Horizontal visibility (m)  Wind direction (deg)  Gust speed (m/s)  \\\n",
       "0                       50000.0                 253.0               4.1   \n",
       "1                       50000.0                 257.0               4.9   \n",
       "2                       50000.0                 272.0               5.4   \n",
       "3                       49820.0                 276.0               6.0   \n",
       "4                       49560.0                 284.0               5.6   \n",
       "...                         ...                   ...               ...   \n",
       "8804                    50000.0                 267.0               4.9   \n",
       "8805                    50000.0                 291.0               5.2   \n",
       "8806                    50000.0                 325.0               4.6   \n",
       "8807                    50000.0                 321.0               4.1   \n",
       "8808                    50000.0                 312.0               4.6   \n",
       "\n",
       "      Wind speed (m/s)  \n",
       "0                  3.1  \n",
       "1                  3.4  \n",
       "2                  4.0  \n",
       "3                  4.3  \n",
       "4                  3.6  \n",
       "...                ...  \n",
       "8804               3.6  \n",
       "8805               3.8  \n",
       "8806               3.3  \n",
       "8807               3.3  \n",
       "8808               3.2  \n",
       "\n",
       "[43973 rows x 16 columns]"
      ]
     },
     "execution_count": 38,
     "metadata": {},
     "output_type": "execute_result"
    }
   ],
   "source": [
    "df_weather"
   ]
  },
  {
   "cell_type": "code",
   "execution_count": 39,
   "metadata": {},
   "outputs": [],
   "source": [
    "df_weather['datetime'] = df_weather['Year'].astype(str)+'-'+df_weather['m'].astype(str)+'-'+df_weather['d'].astype(str)+' '+ df_weather['Time'].astype(str)\n",
    "df_weather['datetime_converted'] = pd.to_datetime(df_weather['datetime'], utc=True)\n",
    "df_weather = df_weather.set_index(pd.DatetimeIndex(df_weather['datetime_converted'],dayfirst=True))"
   ]
  },
  {
   "cell_type": "code",
   "execution_count": 40,
   "metadata": {},
   "outputs": [],
   "source": [
    "cols_weather = ['Cloud amount (1/8)',\n",
    "       'Pressure (msl) (hPa)', 'Relative humidity (%)',\n",
    "       'Precipitation intensity (mm/h)',\n",
    "       'Air temperature (degC)', 'Dew-point temperature (degC)',\n",
    "       'Horizontal visibility (m)', 'Wind direction (deg)',\n",
    "       'Wind speed (m/s)']"
   ]
  },
  {
   "cell_type": "code",
   "execution_count": 41,
   "metadata": {},
   "outputs": [],
   "source": [
    "df_weather = df_weather[~df_weather.index.duplicated(keep='first')]"
   ]
  },
  {
   "cell_type": "code",
   "execution_count": 42,
   "metadata": {},
   "outputs": [],
   "source": [
    "df_concat = pd.concat([df,df_weather[cols_weather]], axis=1)"
   ]
  },
  {
   "cell_type": "code",
   "execution_count": 43,
   "metadata": {},
   "outputs": [
    {
     "data": {
      "text/plain": [
       "Global radiation (W/m2)           0.001504\n",
       "Diffuse radiation (W/m2)          0.001504\n",
       "Direct solar radiation (W/m2)     0.001504\n",
       "Value (kWh)                       0.001504\n",
       "day_of_the_year                   0.001504\n",
       "Cloud amount (1/8)                0.001550\n",
       "Pressure (msl) (hPa)              0.001071\n",
       "Relative humidity (%)             0.001071\n",
       "Precipitation intensity (mm/h)    0.003237\n",
       "Air temperature (degC)            0.119572\n",
       "Dew-point temperature (degC)      0.038156\n",
       "Horizontal visibility (m)         0.021973\n",
       "Wind direction (deg)              0.005835\n",
       "Wind speed (m/s)                  0.005835\n",
       "dtype: float64"
      ]
     },
     "execution_count": 43,
     "metadata": {},
     "output_type": "execute_result"
    }
   ],
   "source": [
    "df_concat.isnull().mean()"
   ]
  },
  {
   "cell_type": "code",
   "execution_count": 44,
   "metadata": {},
   "outputs": [],
   "source": [
    "df_concat = df_concat.dropna()"
   ]
  },
  {
   "cell_type": "code",
   "execution_count": 45,
   "metadata": {},
   "outputs": [
    {
     "data": {
      "text/plain": [
       "Index(['Global radiation (W/m2)', 'Diffuse radiation (W/m2)',\n",
       "       'Direct solar radiation (W/m2)', 'Value (kWh)', 'day_of_the_year',\n",
       "       'Cloud amount (1/8)', 'Pressure (msl) (hPa)', 'Relative humidity (%)',\n",
       "       'Precipitation intensity (mm/h)', 'Air temperature (degC)',\n",
       "       'Dew-point temperature (degC)', 'Horizontal visibility (m)',\n",
       "       'Wind direction (deg)', 'Wind speed (m/s)'],\n",
       "      dtype='object')"
      ]
     },
     "execution_count": 45,
     "metadata": {},
     "output_type": "execute_result"
    }
   ],
   "source": [
    "df_concat.columns"
   ]
  },
  {
   "cell_type": "code",
   "execution_count": 46,
   "metadata": {},
   "outputs": [
    {
     "data": {
      "text/html": [
       "<div>\n",
       "<style scoped>\n",
       "    .dataframe tbody tr th:only-of-type {\n",
       "        vertical-align: middle;\n",
       "    }\n",
       "\n",
       "    .dataframe tbody tr th {\n",
       "        vertical-align: top;\n",
       "    }\n",
       "\n",
       "    .dataframe thead th {\n",
       "        text-align: right;\n",
       "    }\n",
       "</style>\n",
       "<table border=\"1\" class=\"dataframe\">\n",
       "  <thead>\n",
       "    <tr style=\"text-align: right;\">\n",
       "      <th></th>\n",
       "      <th>Global radiation (W/m2)</th>\n",
       "      <th>Diffuse radiation (W/m2)</th>\n",
       "      <th>Direct solar radiation (W/m2)</th>\n",
       "      <th>Value (kWh)</th>\n",
       "      <th>day_of_the_year</th>\n",
       "      <th>Cloud amount (1/8)</th>\n",
       "      <th>Pressure (msl) (hPa)</th>\n",
       "      <th>Relative humidity (%)</th>\n",
       "      <th>Precipitation intensity (mm/h)</th>\n",
       "      <th>Air temperature (degC)</th>\n",
       "      <th>Dew-point temperature (degC)</th>\n",
       "      <th>Horizontal visibility (m)</th>\n",
       "      <th>Wind direction (deg)</th>\n",
       "      <th>Wind speed (m/s)</th>\n",
       "    </tr>\n",
       "  </thead>\n",
       "  <tbody>\n",
       "    <tr>\n",
       "      <th>Global radiation (W/m2)</th>\n",
       "      <td>1.000000</td>\n",
       "      <td>0.552555</td>\n",
       "      <td>0.967185</td>\n",
       "      <td>0.827263</td>\n",
       "      <td>-0.067220</td>\n",
       "      <td>-0.457295</td>\n",
       "      <td>0.130369</td>\n",
       "      <td>-0.627205</td>\n",
       "      <td>-0.086062</td>\n",
       "      <td>0.433112</td>\n",
       "      <td>0.145304</td>\n",
       "      <td>0.191700</td>\n",
       "      <td>0.012085</td>\n",
       "      <td>0.033964</td>\n",
       "    </tr>\n",
       "    <tr>\n",
       "      <th>Diffuse radiation (W/m2)</th>\n",
       "      <td>0.552555</td>\n",
       "      <td>1.000000</td>\n",
       "      <td>0.322660</td>\n",
       "      <td>0.680200</td>\n",
       "      <td>-0.047704</td>\n",
       "      <td>-0.026660</td>\n",
       "      <td>-0.002665</td>\n",
       "      <td>-0.407006</td>\n",
       "      <td>-0.056361</td>\n",
       "      <td>0.413047</td>\n",
       "      <td>0.246438</td>\n",
       "      <td>0.121180</td>\n",
       "      <td>-0.017489</td>\n",
       "      <td>0.060770</td>\n",
       "    </tr>\n",
       "    <tr>\n",
       "      <th>Direct solar radiation (W/m2)</th>\n",
       "      <td>0.967185</td>\n",
       "      <td>0.322660</td>\n",
       "      <td>1.000000</td>\n",
       "      <td>0.732110</td>\n",
       "      <td>-0.061795</td>\n",
       "      <td>-0.511187</td>\n",
       "      <td>0.148863</td>\n",
       "      <td>-0.588200</td>\n",
       "      <td>-0.080553</td>\n",
       "      <td>0.365941</td>\n",
       "      <td>0.089887</td>\n",
       "      <td>0.180759</td>\n",
       "      <td>0.019056</td>\n",
       "      <td>0.020046</td>\n",
       "    </tr>\n",
       "    <tr>\n",
       "      <th>Value (kWh)</th>\n",
       "      <td>0.827263</td>\n",
       "      <td>0.680200</td>\n",
       "      <td>0.732110</td>\n",
       "      <td>1.000000</td>\n",
       "      <td>-0.048245</td>\n",
       "      <td>-0.291964</td>\n",
       "      <td>0.081585</td>\n",
       "      <td>-0.584955</td>\n",
       "      <td>-0.064665</td>\n",
       "      <td>0.481464</td>\n",
       "      <td>0.214553</td>\n",
       "      <td>0.131520</td>\n",
       "      <td>-0.020021</td>\n",
       "      <td>0.085265</td>\n",
       "    </tr>\n",
       "    <tr>\n",
       "      <th>day_of_the_year</th>\n",
       "      <td>-0.067220</td>\n",
       "      <td>-0.047704</td>\n",
       "      <td>-0.061795</td>\n",
       "      <td>-0.048245</td>\n",
       "      <td>1.000000</td>\n",
       "      <td>0.043760</td>\n",
       "      <td>0.118144</td>\n",
       "      <td>0.129592</td>\n",
       "      <td>0.010598</td>\n",
       "      <td>0.249494</td>\n",
       "      <td>0.339002</td>\n",
       "      <td>0.052065</td>\n",
       "      <td>-0.030306</td>\n",
       "      <td>-0.031923</td>\n",
       "    </tr>\n",
       "    <tr>\n",
       "      <th>Cloud amount (1/8)</th>\n",
       "      <td>-0.457295</td>\n",
       "      <td>-0.026660</td>\n",
       "      <td>-0.511187</td>\n",
       "      <td>-0.291964</td>\n",
       "      <td>0.043760</td>\n",
       "      <td>1.000000</td>\n",
       "      <td>-0.254680</td>\n",
       "      <td>0.445221</td>\n",
       "      <td>0.138928</td>\n",
       "      <td>-0.224586</td>\n",
       "      <td>-0.024533</td>\n",
       "      <td>-0.388347</td>\n",
       "      <td>-0.122915</td>\n",
       "      <td>0.125923</td>\n",
       "    </tr>\n",
       "    <tr>\n",
       "      <th>Pressure (msl) (hPa)</th>\n",
       "      <td>0.130369</td>\n",
       "      <td>-0.002665</td>\n",
       "      <td>0.148863</td>\n",
       "      <td>0.081585</td>\n",
       "      <td>0.118144</td>\n",
       "      <td>-0.254680</td>\n",
       "      <td>1.000000</td>\n",
       "      <td>-0.225974</td>\n",
       "      <td>-0.136666</td>\n",
       "      <td>0.040301</td>\n",
       "      <td>-0.063829</td>\n",
       "      <td>0.185716</td>\n",
       "      <td>-0.085561</td>\n",
       "      <td>-0.248718</td>\n",
       "    </tr>\n",
       "    <tr>\n",
       "      <th>Relative humidity (%)</th>\n",
       "      <td>-0.627205</td>\n",
       "      <td>-0.407006</td>\n",
       "      <td>-0.588200</td>\n",
       "      <td>-0.584955</td>\n",
       "      <td>0.129592</td>\n",
       "      <td>0.445221</td>\n",
       "      <td>-0.225974</td>\n",
       "      <td>1.000000</td>\n",
       "      <td>0.153214</td>\n",
       "      <td>-0.394433</td>\n",
       "      <td>0.077191</td>\n",
       "      <td>-0.527014</td>\n",
       "      <td>-0.048067</td>\n",
       "      <td>-0.063823</td>\n",
       "    </tr>\n",
       "    <tr>\n",
       "      <th>Precipitation intensity (mm/h)</th>\n",
       "      <td>-0.086062</td>\n",
       "      <td>-0.056361</td>\n",
       "      <td>-0.080553</td>\n",
       "      <td>-0.064665</td>\n",
       "      <td>0.010598</td>\n",
       "      <td>0.138928</td>\n",
       "      <td>-0.136666</td>\n",
       "      <td>0.153214</td>\n",
       "      <td>1.000000</td>\n",
       "      <td>-0.004451</td>\n",
       "      <td>0.064704</td>\n",
       "      <td>-0.261318</td>\n",
       "      <td>-0.066630</td>\n",
       "      <td>0.078161</td>\n",
       "    </tr>\n",
       "    <tr>\n",
       "      <th>Air temperature (degC)</th>\n",
       "      <td>0.433112</td>\n",
       "      <td>0.413047</td>\n",
       "      <td>0.365941</td>\n",
       "      <td>0.481464</td>\n",
       "      <td>0.249494</td>\n",
       "      <td>-0.224586</td>\n",
       "      <td>0.040301</td>\n",
       "      <td>-0.394433</td>\n",
       "      <td>-0.004451</td>\n",
       "      <td>1.000000</td>\n",
       "      <td>0.882104</td>\n",
       "      <td>0.148512</td>\n",
       "      <td>-0.081752</td>\n",
       "      <td>-0.015597</td>\n",
       "    </tr>\n",
       "    <tr>\n",
       "      <th>Dew-point temperature (degC)</th>\n",
       "      <td>0.145304</td>\n",
       "      <td>0.246438</td>\n",
       "      <td>0.089887</td>\n",
       "      <td>0.214553</td>\n",
       "      <td>0.339002</td>\n",
       "      <td>-0.024533</td>\n",
       "      <td>-0.063829</td>\n",
       "      <td>0.077191</td>\n",
       "      <td>0.064704</td>\n",
       "      <td>0.882104</td>\n",
       "      <td>1.000000</td>\n",
       "      <td>-0.074500</td>\n",
       "      <td>-0.112438</td>\n",
       "      <td>-0.046681</td>\n",
       "    </tr>\n",
       "    <tr>\n",
       "      <th>Horizontal visibility (m)</th>\n",
       "      <td>0.191700</td>\n",
       "      <td>0.121180</td>\n",
       "      <td>0.180759</td>\n",
       "      <td>0.131520</td>\n",
       "      <td>0.052065</td>\n",
       "      <td>-0.388347</td>\n",
       "      <td>0.185716</td>\n",
       "      <td>-0.527014</td>\n",
       "      <td>-0.261318</td>\n",
       "      <td>0.148512</td>\n",
       "      <td>-0.074500</td>\n",
       "      <td>1.000000</td>\n",
       "      <td>0.178195</td>\n",
       "      <td>-0.074582</td>\n",
       "    </tr>\n",
       "    <tr>\n",
       "      <th>Wind direction (deg)</th>\n",
       "      <td>0.012085</td>\n",
       "      <td>-0.017489</td>\n",
       "      <td>0.019056</td>\n",
       "      <td>-0.020021</td>\n",
       "      <td>-0.030306</td>\n",
       "      <td>-0.122915</td>\n",
       "      <td>-0.085561</td>\n",
       "      <td>-0.048067</td>\n",
       "      <td>-0.066630</td>\n",
       "      <td>-0.081752</td>\n",
       "      <td>-0.112438</td>\n",
       "      <td>0.178195</td>\n",
       "      <td>1.000000</td>\n",
       "      <td>0.014156</td>\n",
       "    </tr>\n",
       "    <tr>\n",
       "      <th>Wind speed (m/s)</th>\n",
       "      <td>0.033964</td>\n",
       "      <td>0.060770</td>\n",
       "      <td>0.020046</td>\n",
       "      <td>0.085265</td>\n",
       "      <td>-0.031923</td>\n",
       "      <td>0.125923</td>\n",
       "      <td>-0.248718</td>\n",
       "      <td>-0.063823</td>\n",
       "      <td>0.078161</td>\n",
       "      <td>-0.015597</td>\n",
       "      <td>-0.046681</td>\n",
       "      <td>-0.074582</td>\n",
       "      <td>0.014156</td>\n",
       "      <td>1.000000</td>\n",
       "    </tr>\n",
       "  </tbody>\n",
       "</table>\n",
       "</div>"
      ],
      "text/plain": [
       "                                Global radiation (W/m2)  \\\n",
       "Global radiation (W/m2)                        1.000000   \n",
       "Diffuse radiation (W/m2)                       0.552555   \n",
       "Direct solar radiation (W/m2)                  0.967185   \n",
       "Value (kWh)                                    0.827263   \n",
       "day_of_the_year                               -0.067220   \n",
       "Cloud amount (1/8)                            -0.457295   \n",
       "Pressure (msl) (hPa)                           0.130369   \n",
       "Relative humidity (%)                         -0.627205   \n",
       "Precipitation intensity (mm/h)                -0.086062   \n",
       "Air temperature (degC)                         0.433112   \n",
       "Dew-point temperature (degC)                   0.145304   \n",
       "Horizontal visibility (m)                      0.191700   \n",
       "Wind direction (deg)                           0.012085   \n",
       "Wind speed (m/s)                               0.033964   \n",
       "\n",
       "                                Diffuse radiation (W/m2)  \\\n",
       "Global radiation (W/m2)                         0.552555   \n",
       "Diffuse radiation (W/m2)                        1.000000   \n",
       "Direct solar radiation (W/m2)                   0.322660   \n",
       "Value (kWh)                                     0.680200   \n",
       "day_of_the_year                                -0.047704   \n",
       "Cloud amount (1/8)                             -0.026660   \n",
       "Pressure (msl) (hPa)                           -0.002665   \n",
       "Relative humidity (%)                          -0.407006   \n",
       "Precipitation intensity (mm/h)                 -0.056361   \n",
       "Air temperature (degC)                          0.413047   \n",
       "Dew-point temperature (degC)                    0.246438   \n",
       "Horizontal visibility (m)                       0.121180   \n",
       "Wind direction (deg)                           -0.017489   \n",
       "Wind speed (m/s)                                0.060770   \n",
       "\n",
       "                                Direct solar radiation (W/m2)  Value (kWh)  \\\n",
       "Global radiation (W/m2)                              0.967185     0.827263   \n",
       "Diffuse radiation (W/m2)                             0.322660     0.680200   \n",
       "Direct solar radiation (W/m2)                        1.000000     0.732110   \n",
       "Value (kWh)                                          0.732110     1.000000   \n",
       "day_of_the_year                                     -0.061795    -0.048245   \n",
       "Cloud amount (1/8)                                  -0.511187    -0.291964   \n",
       "Pressure (msl) (hPa)                                 0.148863     0.081585   \n",
       "Relative humidity (%)                               -0.588200    -0.584955   \n",
       "Precipitation intensity (mm/h)                      -0.080553    -0.064665   \n",
       "Air temperature (degC)                               0.365941     0.481464   \n",
       "Dew-point temperature (degC)                         0.089887     0.214553   \n",
       "Horizontal visibility (m)                            0.180759     0.131520   \n",
       "Wind direction (deg)                                 0.019056    -0.020021   \n",
       "Wind speed (m/s)                                     0.020046     0.085265   \n",
       "\n",
       "                                day_of_the_year  Cloud amount (1/8)  \\\n",
       "Global radiation (W/m2)               -0.067220           -0.457295   \n",
       "Diffuse radiation (W/m2)              -0.047704           -0.026660   \n",
       "Direct solar radiation (W/m2)         -0.061795           -0.511187   \n",
       "Value (kWh)                           -0.048245           -0.291964   \n",
       "day_of_the_year                        1.000000            0.043760   \n",
       "Cloud amount (1/8)                     0.043760            1.000000   \n",
       "Pressure (msl) (hPa)                   0.118144           -0.254680   \n",
       "Relative humidity (%)                  0.129592            0.445221   \n",
       "Precipitation intensity (mm/h)         0.010598            0.138928   \n",
       "Air temperature (degC)                 0.249494           -0.224586   \n",
       "Dew-point temperature (degC)           0.339002           -0.024533   \n",
       "Horizontal visibility (m)              0.052065           -0.388347   \n",
       "Wind direction (deg)                  -0.030306           -0.122915   \n",
       "Wind speed (m/s)                      -0.031923            0.125923   \n",
       "\n",
       "                                Pressure (msl) (hPa)  Relative humidity (%)  \\\n",
       "Global radiation (W/m2)                     0.130369              -0.627205   \n",
       "Diffuse radiation (W/m2)                   -0.002665              -0.407006   \n",
       "Direct solar radiation (W/m2)               0.148863              -0.588200   \n",
       "Value (kWh)                                 0.081585              -0.584955   \n",
       "day_of_the_year                             0.118144               0.129592   \n",
       "Cloud amount (1/8)                         -0.254680               0.445221   \n",
       "Pressure (msl) (hPa)                        1.000000              -0.225974   \n",
       "Relative humidity (%)                      -0.225974               1.000000   \n",
       "Precipitation intensity (mm/h)             -0.136666               0.153214   \n",
       "Air temperature (degC)                      0.040301              -0.394433   \n",
       "Dew-point temperature (degC)               -0.063829               0.077191   \n",
       "Horizontal visibility (m)                   0.185716              -0.527014   \n",
       "Wind direction (deg)                       -0.085561              -0.048067   \n",
       "Wind speed (m/s)                           -0.248718              -0.063823   \n",
       "\n",
       "                                Precipitation intensity (mm/h)  \\\n",
       "Global radiation (W/m2)                              -0.086062   \n",
       "Diffuse radiation (W/m2)                             -0.056361   \n",
       "Direct solar radiation (W/m2)                        -0.080553   \n",
       "Value (kWh)                                          -0.064665   \n",
       "day_of_the_year                                       0.010598   \n",
       "Cloud amount (1/8)                                    0.138928   \n",
       "Pressure (msl) (hPa)                                 -0.136666   \n",
       "Relative humidity (%)                                 0.153214   \n",
       "Precipitation intensity (mm/h)                        1.000000   \n",
       "Air temperature (degC)                               -0.004451   \n",
       "Dew-point temperature (degC)                          0.064704   \n",
       "Horizontal visibility (m)                            -0.261318   \n",
       "Wind direction (deg)                                 -0.066630   \n",
       "Wind speed (m/s)                                      0.078161   \n",
       "\n",
       "                                Air temperature (degC)  \\\n",
       "Global radiation (W/m2)                       0.433112   \n",
       "Diffuse radiation (W/m2)                      0.413047   \n",
       "Direct solar radiation (W/m2)                 0.365941   \n",
       "Value (kWh)                                   0.481464   \n",
       "day_of_the_year                               0.249494   \n",
       "Cloud amount (1/8)                           -0.224586   \n",
       "Pressure (msl) (hPa)                          0.040301   \n",
       "Relative humidity (%)                        -0.394433   \n",
       "Precipitation intensity (mm/h)               -0.004451   \n",
       "Air temperature (degC)                        1.000000   \n",
       "Dew-point temperature (degC)                  0.882104   \n",
       "Horizontal visibility (m)                     0.148512   \n",
       "Wind direction (deg)                         -0.081752   \n",
       "Wind speed (m/s)                             -0.015597   \n",
       "\n",
       "                                Dew-point temperature (degC)  \\\n",
       "Global radiation (W/m2)                             0.145304   \n",
       "Diffuse radiation (W/m2)                            0.246438   \n",
       "Direct solar radiation (W/m2)                       0.089887   \n",
       "Value (kWh)                                         0.214553   \n",
       "day_of_the_year                                     0.339002   \n",
       "Cloud amount (1/8)                                 -0.024533   \n",
       "Pressure (msl) (hPa)                               -0.063829   \n",
       "Relative humidity (%)                               0.077191   \n",
       "Precipitation intensity (mm/h)                      0.064704   \n",
       "Air temperature (degC)                              0.882104   \n",
       "Dew-point temperature (degC)                        1.000000   \n",
       "Horizontal visibility (m)                          -0.074500   \n",
       "Wind direction (deg)                               -0.112438   \n",
       "Wind speed (m/s)                                   -0.046681   \n",
       "\n",
       "                                Horizontal visibility (m)  \\\n",
       "Global radiation (W/m2)                          0.191700   \n",
       "Diffuse radiation (W/m2)                         0.121180   \n",
       "Direct solar radiation (W/m2)                    0.180759   \n",
       "Value (kWh)                                      0.131520   \n",
       "day_of_the_year                                  0.052065   \n",
       "Cloud amount (1/8)                              -0.388347   \n",
       "Pressure (msl) (hPa)                             0.185716   \n",
       "Relative humidity (%)                           -0.527014   \n",
       "Precipitation intensity (mm/h)                  -0.261318   \n",
       "Air temperature (degC)                           0.148512   \n",
       "Dew-point temperature (degC)                    -0.074500   \n",
       "Horizontal visibility (m)                        1.000000   \n",
       "Wind direction (deg)                             0.178195   \n",
       "Wind speed (m/s)                                -0.074582   \n",
       "\n",
       "                                Wind direction (deg)  Wind speed (m/s)  \n",
       "Global radiation (W/m2)                     0.012085          0.033964  \n",
       "Diffuse radiation (W/m2)                   -0.017489          0.060770  \n",
       "Direct solar radiation (W/m2)               0.019056          0.020046  \n",
       "Value (kWh)                                -0.020021          0.085265  \n",
       "day_of_the_year                            -0.030306         -0.031923  \n",
       "Cloud amount (1/8)                         -0.122915          0.125923  \n",
       "Pressure (msl) (hPa)                       -0.085561         -0.248718  \n",
       "Relative humidity (%)                      -0.048067         -0.063823  \n",
       "Precipitation intensity (mm/h)             -0.066630          0.078161  \n",
       "Air temperature (degC)                     -0.081752         -0.015597  \n",
       "Dew-point temperature (degC)               -0.112438         -0.046681  \n",
       "Horizontal visibility (m)                   0.178195         -0.074582  \n",
       "Wind direction (deg)                        1.000000          0.014156  \n",
       "Wind speed (m/s)                            0.014156          1.000000  "
      ]
     },
     "execution_count": 46,
     "metadata": {},
     "output_type": "execute_result"
    }
   ],
   "source": [
    "df_concat.corr()"
   ]
  },
  {
   "cell_type": "code",
   "execution_count": 47,
   "metadata": {},
   "outputs": [
    {
     "data": {
      "text/plain": [
       "<matplotlib.axes._subplots.AxesSubplot at 0x25242a5ac18>"
      ]
     },
     "execution_count": 47,
     "metadata": {},
     "output_type": "execute_result"
    },
    {
     "data": {
      "image/png": "[encoded data removed]",
      "text/plain": [
       "<Figure size 432x288 with 2 Axes>"
      ]
     },
     "metadata": {
      "needs_background": "light"
     },
     "output_type": "display_data"
    }
   ],
   "source": [
    "sns.heatmap(df_concat.corr())"
   ]
  },
  {
   "cell_type": "code",
   "execution_count": 48,
   "metadata": {},
   "outputs": [
    {
     "data": {
      "text/html": [
       "<div>\n",
       "<style scoped>\n",
       "    .dataframe tbody tr th:only-of-type {\n",
       "        vertical-align: middle;\n",
       "    }\n",
       "\n",
       "    .dataframe tbody tr th {\n",
       "        vertical-align: top;\n",
       "    }\n",
       "\n",
       "    .dataframe thead th {\n",
       "        text-align: right;\n",
       "    }\n",
       "</style>\n",
       "<table border=\"1\" class=\"dataframe\">\n",
       "  <thead>\n",
       "    <tr style=\"text-align: right;\">\n",
       "      <th></th>\n",
       "      <th>Global radiation (W/m2)</th>\n",
       "      <th>Value (kWh)</th>\n",
       "      <th>Cloud amount (1/8)</th>\n",
       "      <th>Precipitation intensity (mm/h)</th>\n",
       "      <th>Air temperature (degC)</th>\n",
       "    </tr>\n",
       "  </thead>\n",
       "  <tbody>\n",
       "    <tr>\n",
       "      <th>Global radiation (W/m2)</th>\n",
       "      <td>1.000000</td>\n",
       "      <td>0.827263</td>\n",
       "      <td>-0.457295</td>\n",
       "      <td>-0.086062</td>\n",
       "      <td>0.433112</td>\n",
       "    </tr>\n",
       "    <tr>\n",
       "      <th>Value (kWh)</th>\n",
       "      <td>0.827263</td>\n",
       "      <td>1.000000</td>\n",
       "      <td>-0.291964</td>\n",
       "      <td>-0.064665</td>\n",
       "      <td>0.481464</td>\n",
       "    </tr>\n",
       "    <tr>\n",
       "      <th>Cloud amount (1/8)</th>\n",
       "      <td>-0.457295</td>\n",
       "      <td>-0.291964</td>\n",
       "      <td>1.000000</td>\n",
       "      <td>0.138928</td>\n",
       "      <td>-0.224586</td>\n",
       "    </tr>\n",
       "    <tr>\n",
       "      <th>Precipitation intensity (mm/h)</th>\n",
       "      <td>-0.086062</td>\n",
       "      <td>-0.064665</td>\n",
       "      <td>0.138928</td>\n",
       "      <td>1.000000</td>\n",
       "      <td>-0.004451</td>\n",
       "    </tr>\n",
       "    <tr>\n",
       "      <th>Air temperature (degC)</th>\n",
       "      <td>0.433112</td>\n",
       "      <td>0.481464</td>\n",
       "      <td>-0.224586</td>\n",
       "      <td>-0.004451</td>\n",
       "      <td>1.000000</td>\n",
       "    </tr>\n",
       "  </tbody>\n",
       "</table>\n",
       "</div>"
      ],
      "text/plain": [
       "                                Global radiation (W/m2)  Value (kWh)  \\\n",
       "Global radiation (W/m2)                        1.000000     0.827263   \n",
       "Value (kWh)                                    0.827263     1.000000   \n",
       "Cloud amount (1/8)                            -0.457295    -0.291964   \n",
       "Precipitation intensity (mm/h)                -0.086062    -0.064665   \n",
       "Air temperature (degC)                         0.433112     0.481464   \n",
       "\n",
       "                                Cloud amount (1/8)  \\\n",
       "Global radiation (W/m2)                  -0.457295   \n",
       "Value (kWh)                              -0.291964   \n",
       "Cloud amount (1/8)                        1.000000   \n",
       "Precipitation intensity (mm/h)            0.138928   \n",
       "Air temperature (degC)                   -0.224586   \n",
       "\n",
       "                                Precipitation intensity (mm/h)  \\\n",
       "Global radiation (W/m2)                              -0.086062   \n",
       "Value (kWh)                                          -0.064665   \n",
       "Cloud amount (1/8)                                    0.138928   \n",
       "Precipitation intensity (mm/h)                        1.000000   \n",
       "Air temperature (degC)                               -0.004451   \n",
       "\n",
       "                                Air temperature (degC)  \n",
       "Global radiation (W/m2)                       0.433112  \n",
       "Value (kWh)                                   0.481464  \n",
       "Cloud amount (1/8)                           -0.224586  \n",
       "Precipitation intensity (mm/h)               -0.004451  \n",
       "Air temperature (degC)                        1.000000  "
      ]
     },
     "execution_count": 48,
     "metadata": {},
     "output_type": "execute_result"
    }
   ],
   "source": [
    "cols = ['Global radiation (W/m2)', 'Value (kWh)', 'Cloud amount (1/8)', 'Precipitation intensity (mm/h)', 'Air temperature (degC)']\n",
    "df_concat[cols].corr()"
   ]
  },
  {
   "cell_type": "code",
   "execution_count": 49,
   "metadata": {},
   "outputs": [
    {
     "data": {
      "text/plain": [
       "<matplotlib.axes._subplots.AxesSubplot at 0x25242a65b70>"
      ]
     },
     "execution_count": 49,
     "metadata": {},
     "output_type": "execute_result"
    },
    {
     "data": {
      "image/png": "[encoded data removed]",
      "text/plain": [
       "<Figure size 432x288 with 2 Axes>"
      ]
     },
     "metadata": {
      "needs_background": "light"
     },
     "output_type": "display_data"
    }
   ],
   "source": [
    "sns.heatmap(df_concat[cols].corr())"
   ]
  },
  {
   "cell_type": "code",
   "execution_count": 50,
   "metadata": {},
   "outputs": [],
   "source": [
    "# df_concat = df_concat.drop(columns=['Diffuse radiation (W/m2)',\n",
    "#        'Direct solar radiation (W/m2)'])"
   ]
  },
  {
   "cell_type": "code",
   "execution_count": 51,
   "metadata": {},
   "outputs": [
    {
     "data": {
      "text/plain": [
       "Index(['Global radiation (W/m2)', 'Diffuse radiation (W/m2)',\n",
       "       'Direct solar radiation (W/m2)', 'Value (kWh)', 'day_of_the_year',\n",
       "       'Cloud amount (1/8)', 'Pressure (msl) (hPa)', 'Relative humidity (%)',\n",
       "       'Precipitation intensity (mm/h)', 'Air temperature (degC)',\n",
       "       'Dew-point temperature (degC)', 'Horizontal visibility (m)',\n",
       "       'Wind direction (deg)', 'Wind speed (m/s)'],\n",
       "      dtype='object')"
      ]
     },
     "execution_count": 51,
     "metadata": {},
     "output_type": "execute_result"
    }
   ],
   "source": [
    "df_concat.columns"
   ]
  },
  {
   "cell_type": "code",
   "execution_count": 52,
   "metadata": {},
   "outputs": [],
   "source": [
    "# df_concat.to_csv('../datasets/solar_p_data/df_with_irradiance.csv')"
   ]
  },
  {
   "cell_type": "code",
   "execution_count": null,
   "metadata": {},
   "outputs": [],
   "source": []
  },
  {
   "cell_type": "code",
   "execution_count": 53,
   "metadata": {},
   "outputs": [],
   "source": [
    "# df = pd.read_csv('../datasets/solar_p_data/df_with_irradiance.csv', delimiter=',')\n",
    "# df['datetime_converted'] = pd.to_datetime(df['datetime_converted'], utc=True)\n",
    "# df = df.set_index(pd.DatetimeIndex(df['datetime_converted'],dayfirst=True))\n",
    "# df = df.drop(columns='datetime_converted')"
   ]
  },
  {
   "cell_type": "code",
   "execution_count": null,
   "metadata": {},
   "outputs": [],
   "source": []
  },
  {
   "cell_type": "markdown",
   "metadata": {},
   "source": [
    "# New features\n",
    "\n",
    "1. azimuth and irradiance\n",
    "\n",
    "2. trends / rolling avg. values of certain variables."
   ]
  },
  {
   "cell_type": "markdown",
   "metadata": {},
   "source": [
    "# IMPORTANT ! ALL THE COUNT DIVISION TRANSFORMATION OF VARIABLES SHOULD BE DONE OVER THE TRAINING SET!"
   ]
  },
  {
   "cell_type": "code",
   "execution_count": 54,
   "metadata": {},
   "outputs": [],
   "source": [
    "df = df_concat.copy()"
   ]
  },
  {
   "cell_type": "code",
   "execution_count": 55,
   "metadata": {},
   "outputs": [
    {
     "data": {
      "text/plain": [
       "37473"
      ]
     },
     "execution_count": 55,
     "metadata": {},
     "output_type": "execute_result"
    }
   ],
   "source": [
    "len(df_concat)"
   ]
  },
  {
   "cell_type": "markdown",
   "metadata": {},
   "source": [
    "### Since horizontal visibility has over 25% in the 50 000, it seems that 50 000 is just the cap, thus, we can try to categorize this variable and divide it either less than 50 000 and 50 000 , or into 5 categories\n",
    "\n",
    "1. let's try first into <  50 000 and >= 50 000\n",
    "\n",
    "2. equal frequency?"
   ]
  },
  {
   "cell_type": "code",
   "execution_count": 56,
   "metadata": {},
   "outputs": [
    {
     "data": {
      "text/plain": [
       "<matplotlib.axes._subplots.AxesSubplot at 0x2523dc9d198>"
      ]
     },
     "execution_count": 56,
     "metadata": {},
     "output_type": "execute_result"
    },
    {
     "data": {
      "image/png": "[encoded data removed]",
      "text/plain": [
       "<Figure size 432x288 with 1 Axes>"
      ]
     },
     "metadata": {
      "needs_background": "light"
     },
     "output_type": "display_data"
    }
   ],
   "source": [
    "df['Horizontal visibility (m)'].hist()"
   ]
  },
  {
   "cell_type": "code",
   "execution_count": 57,
   "metadata": {},
   "outputs": [
    {
     "data": {
      "text/plain": [
       "7446"
      ]
     },
     "execution_count": 57,
     "metadata": {},
     "output_type": "execute_result"
    }
   ],
   "source": [
    "len(df[(df['Horizontal visibility (m)']>=40000)&(df['Horizontal visibility (m)']<50000)])"
   ]
  },
  {
   "cell_type": "code",
   "execution_count": 58,
   "metadata": {},
   "outputs": [
    {
     "data": {
      "text/html": [
       "<div>\n",
       "<style scoped>\n",
       "    .dataframe tbody tr th:only-of-type {\n",
       "        vertical-align: middle;\n",
       "    }\n",
       "\n",
       "    .dataframe tbody tr th {\n",
       "        vertical-align: top;\n",
       "    }\n",
       "\n",
       "    .dataframe thead th {\n",
       "        text-align: right;\n",
       "    }\n",
       "</style>\n",
       "<table border=\"1\" class=\"dataframe\">\n",
       "  <thead>\n",
       "    <tr style=\"text-align: right;\">\n",
       "      <th></th>\n",
       "      <th>Horizontal visibility (m)</th>\n",
       "      <th>Hor_vis_buckets_labels</th>\n",
       "      <th>Hor_vis_buckets</th>\n",
       "    </tr>\n",
       "    <tr>\n",
       "      <th>datetime_converted</th>\n",
       "      <th></th>\n",
       "      <th></th>\n",
       "      <th></th>\n",
       "    </tr>\n",
       "  </thead>\n",
       "  <tbody>\n",
       "    <tr>\n",
       "      <th>2015-04-22 00:00:00+00:00</th>\n",
       "      <td>50000.0</td>\n",
       "      <td>[50k+</td>\n",
       "      <td>(49999.0, 50000.0]</td>\n",
       "    </tr>\n",
       "    <tr>\n",
       "      <th>2015-04-22 01:00:00+00:00</th>\n",
       "      <td>50000.0</td>\n",
       "      <td>[50k+</td>\n",
       "      <td>(49999.0, 50000.0]</td>\n",
       "    </tr>\n",
       "    <tr>\n",
       "      <th>2015-04-22 02:00:00+00:00</th>\n",
       "      <td>50000.0</td>\n",
       "      <td>[50k+</td>\n",
       "      <td>(49999.0, 50000.0]</td>\n",
       "    </tr>\n",
       "    <tr>\n",
       "      <th>2015-04-22 03:00:00+00:00</th>\n",
       "      <td>49820.0</td>\n",
       "      <td>[40-50k)</td>\n",
       "      <td>(39999.0, 49999.0]</td>\n",
       "    </tr>\n",
       "    <tr>\n",
       "      <th>2015-04-22 04:00:00+00:00</th>\n",
       "      <td>49560.0</td>\n",
       "      <td>[40-50k)</td>\n",
       "      <td>(39999.0, 49999.0]</td>\n",
       "    </tr>\n",
       "  </tbody>\n",
       "</table>\n",
       "</div>"
      ],
      "text/plain": [
       "                           Horizontal visibility (m) Hor_vis_buckets_labels  \\\n",
       "datetime_converted                                                            \n",
       "2015-04-22 00:00:00+00:00                    50000.0                  [50k+   \n",
       "2015-04-22 01:00:00+00:00                    50000.0                  [50k+   \n",
       "2015-04-22 02:00:00+00:00                    50000.0                  [50k+   \n",
       "2015-04-22 03:00:00+00:00                    49820.0               [40-50k)   \n",
       "2015-04-22 04:00:00+00:00                    49560.0               [40-50k)   \n",
       "\n",
       "                              Hor_vis_buckets  \n",
       "datetime_converted                             \n",
       "2015-04-22 00:00:00+00:00  (49999.0, 50000.0]  \n",
       "2015-04-22 01:00:00+00:00  (49999.0, 50000.0]  \n",
       "2015-04-22 02:00:00+00:00  (49999.0, 50000.0]  \n",
       "2015-04-22 03:00:00+00:00  (39999.0, 49999.0]  \n",
       "2015-04-22 04:00:00+00:00  (39999.0, 49999.0]  "
      ]
     },
     "execution_count": 58,
     "metadata": {},
     "output_type": "execute_result"
    }
   ],
   "source": [
    "buckets = [0,9999,19999,29999,39999,49999,50000]\n",
    "labels = ['[0-10k)','[10-20k)','[20-30k)','[30-40k)','[40-50k)','[50k+']\n",
    "df['Hor_vis_buckets_labels'] = pd.cut(df['Horizontal visibility (m)'], bins=buckets, labels=labels, include_lowest=True)\n",
    "df['Hor_vis_buckets'] = pd.cut(df['Horizontal visibility (m)'], bins=buckets, include_lowest=True)\n",
    "\n",
    "cols = ['Horizontal visibility (m)', 'Hor_vis_buckets_labels', 'Hor_vis_buckets']\n",
    "df[cols].head()"
   ]
  },
  {
   "cell_type": "code",
   "execution_count": 59,
   "metadata": {},
   "outputs": [
    {
     "data": {
      "text/plain": [
       "<matplotlib.axes._subplots.AxesSubplot at 0x2523dd2aa58>"
      ]
     },
     "execution_count": 59,
     "metadata": {},
     "output_type": "execute_result"
    },
    {
     "data": {
      "image/png": "[encoded data removed]",
      "text/plain": [
       "<Figure size 432x288 with 1 Axes>"
      ]
     },
     "metadata": {
      "needs_background": "light"
     },
     "output_type": "display_data"
    }
   ],
   "source": [
    "df.groupby('Hor_vis_buckets_labels')['Horizontal visibility (m)'].count().plot.bar()"
   ]
  },
  {
   "cell_type": "code",
   "execution_count": 60,
   "metadata": {},
   "outputs": [
    {
     "data": {
      "text/plain": [
       "<matplotlib.axes._subplots.AxesSubplot at 0x25240e68da0>"
      ]
     },
     "execution_count": 60,
     "metadata": {},
     "output_type": "execute_result"
    },
    {
     "data": {
      "image/png": "[encoded data removed]",
      "text/plain": [
       "<Figure size 432x288 with 1 Axes>"
      ]
     },
     "metadata": {
      "needs_background": "light"
     },
     "output_type": "display_data"
    }
   ],
   "source": [
    "df.groupby('Hor_vis_buckets_labels')['Value (kWh)'].mean().plot.bar()"
   ]
  },
  {
   "cell_type": "markdown",
   "metadata": {},
   "source": [
    "Not sure if it was more useful to create less groups out of that. So we try with this."
   ]
  },
  {
   "cell_type": "markdown",
   "metadata": {},
   "source": [
    "Or let's try equal frequency discretizing"
   ]
  },
  {
   "cell_type": "code",
   "execution_count": 61,
   "metadata": {},
   "outputs": [
    {
     "data": {
      "text/html": [
       "<div>\n",
       "<style scoped>\n",
       "    .dataframe tbody tr th:only-of-type {\n",
       "        vertical-align: middle;\n",
       "    }\n",
       "\n",
       "    .dataframe tbody tr th {\n",
       "        vertical-align: top;\n",
       "    }\n",
       "\n",
       "    .dataframe thead th {\n",
       "        text-align: right;\n",
       "    }\n",
       "</style>\n",
       "<table border=\"1\" class=\"dataframe\">\n",
       "  <thead>\n",
       "    <tr style=\"text-align: right;\">\n",
       "      <th></th>\n",
       "      <th>Horizontal visibility (m)</th>\n",
       "      <th>Horizontal visibility (m)</th>\n",
       "    </tr>\n",
       "    <tr>\n",
       "      <th>datetime_converted</th>\n",
       "      <th></th>\n",
       "      <th></th>\n",
       "    </tr>\n",
       "  </thead>\n",
       "  <tbody>\n",
       "    <tr>\n",
       "      <th>2015-04-22 00:00:00+00:00</th>\n",
       "      <td>(44270.0, 50000.0]</td>\n",
       "      <td>50000.0</td>\n",
       "    </tr>\n",
       "    <tr>\n",
       "      <th>2015-04-22 01:00:00+00:00</th>\n",
       "      <td>(44270.0, 50000.0]</td>\n",
       "      <td>50000.0</td>\n",
       "    </tr>\n",
       "    <tr>\n",
       "      <th>2015-04-22 02:00:00+00:00</th>\n",
       "      <td>(44270.0, 50000.0]</td>\n",
       "      <td>50000.0</td>\n",
       "    </tr>\n",
       "    <tr>\n",
       "      <th>2015-04-22 03:00:00+00:00</th>\n",
       "      <td>(44270.0, 50000.0]</td>\n",
       "      <td>49820.0</td>\n",
       "    </tr>\n",
       "    <tr>\n",
       "      <th>2015-04-22 04:00:00+00:00</th>\n",
       "      <td>(44270.0, 50000.0]</td>\n",
       "      <td>49560.0</td>\n",
       "    </tr>\n",
       "    <tr>\n",
       "      <th>2015-04-22 05:00:00+00:00</th>\n",
       "      <td>(33130.0, 44270.0]</td>\n",
       "      <td>36590.0</td>\n",
       "    </tr>\n",
       "    <tr>\n",
       "      <th>2015-04-22 06:00:00+00:00</th>\n",
       "      <td>(44270.0, 50000.0]</td>\n",
       "      <td>45630.0</td>\n",
       "    </tr>\n",
       "    <tr>\n",
       "      <th>2015-04-22 07:00:00+00:00</th>\n",
       "      <td>(33130.0, 44270.0]</td>\n",
       "      <td>41740.0</td>\n",
       "    </tr>\n",
       "    <tr>\n",
       "      <th>2015-04-22 08:00:00+00:00</th>\n",
       "      <td>(33130.0, 44270.0]</td>\n",
       "      <td>37800.0</td>\n",
       "    </tr>\n",
       "    <tr>\n",
       "      <th>2015-04-22 09:00:00+00:00</th>\n",
       "      <td>(33130.0, 44270.0]</td>\n",
       "      <td>37770.0</td>\n",
       "    </tr>\n",
       "  </tbody>\n",
       "</table>\n",
       "</div>"
      ],
      "text/plain": [
       "                           Horizontal visibility (m)  \\\n",
       "datetime_converted                                     \n",
       "2015-04-22 00:00:00+00:00         (44270.0, 50000.0]   \n",
       "2015-04-22 01:00:00+00:00         (44270.0, 50000.0]   \n",
       "2015-04-22 02:00:00+00:00         (44270.0, 50000.0]   \n",
       "2015-04-22 03:00:00+00:00         (44270.0, 50000.0]   \n",
       "2015-04-22 04:00:00+00:00         (44270.0, 50000.0]   \n",
       "2015-04-22 05:00:00+00:00         (33130.0, 44270.0]   \n",
       "2015-04-22 06:00:00+00:00         (44270.0, 50000.0]   \n",
       "2015-04-22 07:00:00+00:00         (33130.0, 44270.0]   \n",
       "2015-04-22 08:00:00+00:00         (33130.0, 44270.0]   \n",
       "2015-04-22 09:00:00+00:00         (33130.0, 44270.0]   \n",
       "\n",
       "                           Horizontal visibility (m)  \n",
       "datetime_converted                                    \n",
       "2015-04-22 00:00:00+00:00                    50000.0  \n",
       "2015-04-22 01:00:00+00:00                    50000.0  \n",
       "2015-04-22 02:00:00+00:00                    50000.0  \n",
       "2015-04-22 03:00:00+00:00                    49820.0  \n",
       "2015-04-22 04:00:00+00:00                    49560.0  \n",
       "2015-04-22 05:00:00+00:00                    36590.0  \n",
       "2015-04-22 06:00:00+00:00                    45630.0  \n",
       "2015-04-22 07:00:00+00:00                    41740.0  \n",
       "2015-04-22 08:00:00+00:00                    37800.0  \n",
       "2015-04-22 09:00:00+00:00                    37770.0  "
      ]
     },
     "execution_count": 61,
     "metadata": {},
     "output_type": "execute_result"
    }
   ],
   "source": [
    "Hor_vis_disccretised, intervals = pd.qcut(\n",
    "    df['Horizontal visibility (m)'], 5, labels=None, retbins=True, precision=3, duplicates='drop')\n",
    "\n",
    "pd.concat([Hor_vis_disccretised, df['Horizontal visibility (m)']], axis=1).head(10)"
   ]
  },
  {
   "cell_type": "code",
   "execution_count": 62,
   "metadata": {},
   "outputs": [
    {
     "data": {
      "text/plain": [
       "array([  130., 14854., 33130., 44270., 50000.])"
      ]
     },
     "execution_count": 62,
     "metadata": {},
     "output_type": "execute_result"
    }
   ],
   "source": [
    "intervals"
   ]
  },
  {
   "cell_type": "code",
   "execution_count": 63,
   "metadata": {},
   "outputs": [
    {
     "data": {
      "text/plain": [
       "(44270.0, 50000.0]    14980\n",
       "(33130.0, 44270.0]     7502\n",
       "(14854.0, 33130.0]     7496\n",
       "(129.999, 14854.0]     7495\n",
       "Name: Horizontal visibility (m), dtype: int64"
      ]
     },
     "execution_count": 63,
     "metadata": {},
     "output_type": "execute_result"
    }
   ],
   "source": [
    "Hor_vis_disccretised.value_counts()"
   ]
  },
  {
   "cell_type": "markdown",
   "metadata": {},
   "source": [
    "### Tailormade discretization\n",
    "* [50000]\n",
    "* (33130.0, 49999.0]\n",
    "* (14854.0, 33130.0]\n",
    "* [0, 14854.0]"
   ]
  },
  {
   "cell_type": "code",
   "execution_count": 64,
   "metadata": {},
   "outputs": [
    {
     "data": {
      "text/html": [
       "<div>\n",
       "<style scoped>\n",
       "    .dataframe tbody tr th:only-of-type {\n",
       "        vertical-align: middle;\n",
       "    }\n",
       "\n",
       "    .dataframe tbody tr th {\n",
       "        vertical-align: top;\n",
       "    }\n",
       "\n",
       "    .dataframe thead th {\n",
       "        text-align: right;\n",
       "    }\n",
       "</style>\n",
       "<table border=\"1\" class=\"dataframe\">\n",
       "  <thead>\n",
       "    <tr style=\"text-align: right;\">\n",
       "      <th></th>\n",
       "      <th>Horizontal visibility (m)</th>\n",
       "      <th>Hor_vis_buckets_labels</th>\n",
       "      <th>Hor_vis_buckets</th>\n",
       "    </tr>\n",
       "    <tr>\n",
       "      <th>datetime_converted</th>\n",
       "      <th></th>\n",
       "      <th></th>\n",
       "      <th></th>\n",
       "    </tr>\n",
       "  </thead>\n",
       "  <tbody>\n",
       "    <tr>\n",
       "      <th>2015-04-22 00:00:00+00:00</th>\n",
       "      <td>50000.0</td>\n",
       "      <td>[50k+</td>\n",
       "      <td>(49999.0, 50000.0]</td>\n",
       "    </tr>\n",
       "    <tr>\n",
       "      <th>2015-04-22 01:00:00+00:00</th>\n",
       "      <td>50000.0</td>\n",
       "      <td>[50k+</td>\n",
       "      <td>(49999.0, 50000.0]</td>\n",
       "    </tr>\n",
       "    <tr>\n",
       "      <th>2015-04-22 02:00:00+00:00</th>\n",
       "      <td>50000.0</td>\n",
       "      <td>[50k+</td>\n",
       "      <td>(49999.0, 50000.0]</td>\n",
       "    </tr>\n",
       "    <tr>\n",
       "      <th>2015-04-22 03:00:00+00:00</th>\n",
       "      <td>49820.0</td>\n",
       "      <td>[33.1-49.9k)</td>\n",
       "      <td>(33130.0, 49999.0]</td>\n",
       "    </tr>\n",
       "    <tr>\n",
       "      <th>2015-04-22 04:00:00+00:00</th>\n",
       "      <td>49560.0</td>\n",
       "      <td>[33.1-49.9k)</td>\n",
       "      <td>(33130.0, 49999.0]</td>\n",
       "    </tr>\n",
       "  </tbody>\n",
       "</table>\n",
       "</div>"
      ],
      "text/plain": [
       "                           Horizontal visibility (m) Hor_vis_buckets_labels  \\\n",
       "datetime_converted                                                            \n",
       "2015-04-22 00:00:00+00:00                    50000.0                  [50k+   \n",
       "2015-04-22 01:00:00+00:00                    50000.0                  [50k+   \n",
       "2015-04-22 02:00:00+00:00                    50000.0                  [50k+   \n",
       "2015-04-22 03:00:00+00:00                    49820.0           [33.1-49.9k)   \n",
       "2015-04-22 04:00:00+00:00                    49560.0           [33.1-49.9k)   \n",
       "\n",
       "                              Hor_vis_buckets  \n",
       "datetime_converted                             \n",
       "2015-04-22 00:00:00+00:00  (49999.0, 50000.0]  \n",
       "2015-04-22 01:00:00+00:00  (49999.0, 50000.0]  \n",
       "2015-04-22 02:00:00+00:00  (49999.0, 50000.0]  \n",
       "2015-04-22 03:00:00+00:00  (33130.0, 49999.0]  \n",
       "2015-04-22 04:00:00+00:00  (33130.0, 49999.0]  "
      ]
     },
     "execution_count": 64,
     "metadata": {},
     "output_type": "execute_result"
    }
   ],
   "source": [
    "buckets = [0,14854, 33130,49999,50000]\n",
    "labels = ['[0-14.8k)','[14.8-33.1k)','[33.1-49.9k)','[50k+']\n",
    "df['Hor_vis_buckets_labels'] = pd.cut(df['Horizontal visibility (m)'], bins=buckets, labels=labels, include_lowest=True)\n",
    "df['Hor_vis_buckets'] = pd.cut(df['Horizontal visibility (m)'], bins=buckets, include_lowest=True)\n",
    "\n",
    "cols = ['Horizontal visibility (m)', 'Hor_vis_buckets_labels', 'Hor_vis_buckets']\n",
    "df[cols].head()"
   ]
  },
  {
   "cell_type": "code",
   "execution_count": 65,
   "metadata": {},
   "outputs": [
    {
     "data": {
      "text/plain": [
       "<matplotlib.axes._subplots.AxesSubplot at 0x25240ed1860>"
      ]
     },
     "execution_count": 65,
     "metadata": {},
     "output_type": "execute_result"
    },
    {
     "data": {
      "image/png": "[encoded data removed]",
      "text/plain": [
       "<Figure size 432x288 with 1 Axes>"
      ]
     },
     "metadata": {
      "needs_background": "light"
     },
     "output_type": "display_data"
    }
   ],
   "source": [
    "df.groupby('Hor_vis_buckets_labels')['Horizontal visibility (m)'].count().plot.bar()"
   ]
  },
  {
   "cell_type": "code",
   "execution_count": 66,
   "metadata": {},
   "outputs": [
    {
     "data": {
      "text/plain": [
       "<matplotlib.axes._subplots.AxesSubplot at 0x25240f2feb8>"
      ]
     },
     "execution_count": 66,
     "metadata": {},
     "output_type": "execute_result"
    },
    {
     "data": {
      "image/png": "[encoded data removed]",
      "text/plain": [
       "<Figure size 432x288 with 1 Axes>"
      ]
     },
     "metadata": {
      "needs_background": "light"
     },
     "output_type": "display_data"
    }
   ],
   "source": [
    "df.groupby('Hor_vis_buckets_labels')['Value (kWh)'].mean().plot.bar()"
   ]
  },
  {
   "cell_type": "markdown",
   "metadata": {},
   "source": [
    "Let's stick with this! Don't forget to do this on Train and Test separately, actually!"
   ]
  },
  {
   "cell_type": "markdown",
   "metadata": {},
   "source": [
    "### Cloud amount also needs to be discretized probably"
   ]
  },
  {
   "cell_type": "code",
   "execution_count": 67,
   "metadata": {},
   "outputs": [
    {
     "data": {
      "text/plain": [
       "<matplotlib.axes._subplots.AxesSubplot at 0x25241160470>"
      ]
     },
     "execution_count": 67,
     "metadata": {},
     "output_type": "execute_result"
    },
    {
     "data": {
      "image/png": "[encoded data removed]",
      "text/plain": [
       "<Figure size 432x288 with 1 Axes>"
      ]
     },
     "metadata": {
      "needs_background": "light"
     },
     "output_type": "display_data"
    }
   ],
   "source": [
    "df['Cloud amount (1/8)'].hist()"
   ]
  },
  {
   "cell_type": "code",
   "execution_count": 68,
   "metadata": {},
   "outputs": [
    {
     "name": "stdout",
     "output_type": "stream",
     "text": [
      "7\n",
      "[7. 1. 3. 5. 0. 8. 9.]\n"
     ]
    }
   ],
   "source": [
    "print(len(df['Cloud amount (1/8)'].unique()))\n",
    "print(df['Cloud amount (1/8)'].unique())"
   ]
  },
  {
   "cell_type": "code",
   "execution_count": 69,
   "metadata": {},
   "outputs": [
    {
     "data": {
      "text/plain": [
       "17779"
      ]
     },
     "execution_count": 69,
     "metadata": {},
     "output_type": "execute_result"
    }
   ],
   "source": [
    "len(df[df['Cloud amount (1/8)']<=5])"
   ]
  },
  {
   "cell_type": "code",
   "execution_count": 70,
   "metadata": {},
   "outputs": [
    {
     "data": {
      "text/plain": [
       "19694"
      ]
     },
     "execution_count": 70,
     "metadata": {},
     "output_type": "execute_result"
    }
   ],
   "source": [
    "len(df[df['Cloud amount (1/8)']>5])"
   ]
  },
  {
   "cell_type": "markdown",
   "metadata": {},
   "source": [
    "Let's try to make it binary with <=5 and >5"
   ]
  },
  {
   "cell_type": "code",
   "execution_count": 71,
   "metadata": {},
   "outputs": [
    {
     "data": {
      "text/html": [
       "<div>\n",
       "<style scoped>\n",
       "    .dataframe tbody tr th:only-of-type {\n",
       "        vertical-align: middle;\n",
       "    }\n",
       "\n",
       "    .dataframe tbody tr th {\n",
       "        vertical-align: top;\n",
       "    }\n",
       "\n",
       "    .dataframe thead th {\n",
       "        text-align: right;\n",
       "    }\n",
       "</style>\n",
       "<table border=\"1\" class=\"dataframe\">\n",
       "  <thead>\n",
       "    <tr style=\"text-align: right;\">\n",
       "      <th></th>\n",
       "      <th>Cloud amount (1/8)</th>\n",
       "      <th>Cloud_buckets_labels</th>\n",
       "      <th>Cloud_buckets</th>\n",
       "    </tr>\n",
       "    <tr>\n",
       "      <th>datetime_converted</th>\n",
       "      <th></th>\n",
       "      <th></th>\n",
       "      <th></th>\n",
       "    </tr>\n",
       "  </thead>\n",
       "  <tbody>\n",
       "    <tr>\n",
       "      <th>2015-04-22 00:00:00+00:00</th>\n",
       "      <td>7.0</td>\n",
       "      <td>&gt;5</td>\n",
       "      <td>(5.0, 10.0]</td>\n",
       "    </tr>\n",
       "    <tr>\n",
       "      <th>2015-04-22 01:00:00+00:00</th>\n",
       "      <td>1.0</td>\n",
       "      <td>&lt;=5</td>\n",
       "      <td>(-0.001, 5.0]</td>\n",
       "    </tr>\n",
       "    <tr>\n",
       "      <th>2015-04-22 02:00:00+00:00</th>\n",
       "      <td>3.0</td>\n",
       "      <td>&lt;=5</td>\n",
       "      <td>(-0.001, 5.0]</td>\n",
       "    </tr>\n",
       "    <tr>\n",
       "      <th>2015-04-22 03:00:00+00:00</th>\n",
       "      <td>5.0</td>\n",
       "      <td>&lt;=5</td>\n",
       "      <td>(-0.001, 5.0]</td>\n",
       "    </tr>\n",
       "    <tr>\n",
       "      <th>2015-04-22 04:00:00+00:00</th>\n",
       "      <td>0.0</td>\n",
       "      <td>&lt;=5</td>\n",
       "      <td>(-0.001, 5.0]</td>\n",
       "    </tr>\n",
       "  </tbody>\n",
       "</table>\n",
       "</div>"
      ],
      "text/plain": [
       "                           Cloud amount (1/8) Cloud_buckets_labels  \\\n",
       "datetime_converted                                                   \n",
       "2015-04-22 00:00:00+00:00                 7.0                   >5   \n",
       "2015-04-22 01:00:00+00:00                 1.0                  <=5   \n",
       "2015-04-22 02:00:00+00:00                 3.0                  <=5   \n",
       "2015-04-22 03:00:00+00:00                 5.0                  <=5   \n",
       "2015-04-22 04:00:00+00:00                 0.0                  <=5   \n",
       "\n",
       "                           Cloud_buckets  \n",
       "datetime_converted                        \n",
       "2015-04-22 00:00:00+00:00    (5.0, 10.0]  \n",
       "2015-04-22 01:00:00+00:00  (-0.001, 5.0]  \n",
       "2015-04-22 02:00:00+00:00  (-0.001, 5.0]  \n",
       "2015-04-22 03:00:00+00:00  (-0.001, 5.0]  \n",
       "2015-04-22 04:00:00+00:00  (-0.001, 5.0]  "
      ]
     },
     "execution_count": 71,
     "metadata": {},
     "output_type": "execute_result"
    }
   ],
   "source": [
    "buckets = [0,5,10]\n",
    "labels = ['<=5','>5']\n",
    "df['Cloud_buckets_labels'] = pd.cut(df['Cloud amount (1/8)'], bins=buckets, labels=labels, include_lowest=True)\n",
    "df['Cloud_buckets'] = pd.cut(df['Cloud amount (1/8)'], bins=buckets, include_lowest=True)\n",
    "\n",
    "cols = ['Cloud amount (1/8)', 'Cloud_buckets_labels', 'Cloud_buckets']\n",
    "df[cols].head()"
   ]
  },
  {
   "cell_type": "code",
   "execution_count": 72,
   "metadata": {},
   "outputs": [
    {
     "data": {
      "text/plain": [
       "<matplotlib.axes._subplots.AxesSubplot at 0x25240f1f2b0>"
      ]
     },
     "execution_count": 72,
     "metadata": {},
     "output_type": "execute_result"
    },
    {
     "data": {
      "image/png": "[encoded data removed]",
      "text/plain": [
       "<Figure size 432x288 with 1 Axes>"
      ]
     },
     "metadata": {
      "needs_background": "light"
     },
     "output_type": "display_data"
    }
   ],
   "source": [
    "df.groupby('Cloud_buckets_labels')['Cloud amount (1/8)'].count().plot.bar()"
   ]
  },
  {
   "cell_type": "code",
   "execution_count": 73,
   "metadata": {},
   "outputs": [
    {
     "data": {
      "text/plain": [
       "<matplotlib.axes._subplots.AxesSubplot at 0x25242974780>"
      ]
     },
     "execution_count": 73,
     "metadata": {},
     "output_type": "execute_result"
    },
    {
     "data": {
      "image/png": "[encoded data removed]",
      "text/plain": [
       "<Figure size 432x288 with 1 Axes>"
      ]
     },
     "metadata": {
      "needs_background": "light"
     },
     "output_type": "display_data"
    }
   ],
   "source": [
    "df.groupby('Cloud_buckets_labels')['Value (kWh)'].mean().plot.bar()"
   ]
  },
  {
   "cell_type": "markdown",
   "metadata": {},
   "source": [
    " We go with this!"
   ]
  },
  {
   "cell_type": "markdown",
   "metadata": {},
   "source": [
    "### Should we also discretize wind by direction into 8 categories?"
   ]
  },
  {
   "cell_type": "code",
   "execution_count": 74,
   "metadata": {},
   "outputs": [
    {
     "data": {
      "text/plain": [
       "<matplotlib.axes._subplots.AxesSubplot at 0x2524119bcc0>"
      ]
     },
     "execution_count": 74,
     "metadata": {},
     "output_type": "execute_result"
    },
    {
     "data": {
      "image/png": "[encoded data removed]",
      "text/plain": [
       "<Figure size 432x288 with 1 Axes>"
      ]
     },
     "metadata": {
      "needs_background": "light"
     },
     "output_type": "display_data"
    }
   ],
   "source": [
    "df['Wind direction (deg)'].hist()"
   ]
  },
  {
   "cell_type": "code",
   "execution_count": 75,
   "metadata": {},
   "outputs": [
    {
     "data": {
      "text/plain": [
       "361"
      ]
     },
     "execution_count": 75,
     "metadata": {},
     "output_type": "execute_result"
    }
   ],
   "source": [
    "len(df['Wind direction (deg)'].unique())"
   ]
  },
  {
   "cell_type": "code",
   "execution_count": 76,
   "metadata": {},
   "outputs": [
    {
     "name": "stderr",
     "output_type": "stream",
     "text": [
      "C:\\Users\\screwdriver\\Anaconda3\\lib\\site-packages\\ipykernel_launcher.py:1: SettingWithCopyWarning: \n",
      "A value is trying to be set on a copy of a slice from a DataFrame\n",
      "\n",
      "See the caveats in the documentation: http://pandas.pydata.org/pandas-docs/stable/user_guide/indexing.html#returning-a-view-versus-a-copy\n",
      "  \"\"\"Entry point for launching an IPython kernel.\n"
     ]
    }
   ],
   "source": [
    "df['Wind direction (deg)'][(df['Wind direction (deg)']>=0)&(df['Wind direction (deg)']<11.25)] = df['Wind direction (deg)'].apply(lambda x: x+360)"
   ]
  },
  {
   "cell_type": "code",
   "execution_count": 77,
   "metadata": {},
   "outputs": [],
   "source": [
    "# df['Wind direction (deg)'].unique()"
   ]
  },
  {
   "cell_type": "code",
   "execution_count": 78,
   "metadata": {},
   "outputs": [],
   "source": [
    "buckets = np.arange(11.25, 372, 22.5)\n",
    "labels = np.array('N NNE NE ENE E ESE SE SSE S SSW SW WSW W WNW NW NNW N'.split())\n",
    "df['Wind_direction'] = labels[np.digitize(df['Wind direction (deg)'], buckets)]"
   ]
  },
  {
   "cell_type": "code",
   "execution_count": 79,
   "metadata": {},
   "outputs": [
    {
     "data": {
      "text/plain": [
       "datetime_converted\n",
       "2015-04-22 00:00:00+00:00    WSW\n",
       "2015-04-22 01:00:00+00:00    WSW\n",
       "2015-04-22 02:00:00+00:00      W\n",
       "2015-04-22 03:00:00+00:00      W\n",
       "2015-04-22 04:00:00+00:00    WNW\n",
       "                            ... \n",
       "2020-04-22 20:00:00+00:00      W\n",
       "2020-04-22 21:00:00+00:00    WNW\n",
       "2020-04-22 22:00:00+00:00     NW\n",
       "2020-04-22 23:00:00+00:00     NW\n",
       "2020-04-23 00:00:00+00:00     NW\n",
       "Name: Wind_direction, Length: 37473, dtype: object"
      ]
     },
     "execution_count": 79,
     "metadata": {},
     "output_type": "execute_result"
    }
   ],
   "source": [
    "df['Wind_direction']"
   ]
  },
  {
   "cell_type": "markdown",
   "metadata": {},
   "source": [
    "Let's go with that!"
   ]
  },
  {
   "cell_type": "markdown",
   "metadata": {},
   "source": [
    "### Precipitation into a binary variable"
   ]
  },
  {
   "cell_type": "code",
   "execution_count": 80,
   "metadata": {},
   "outputs": [
    {
     "data": {
      "text/plain": [
       "89"
      ]
     },
     "execution_count": 80,
     "metadata": {},
     "output_type": "execute_result"
    }
   ],
   "source": [
    "len(df['Precipitation intensity (mm/h)'].unique())"
   ]
  },
  {
   "cell_type": "code",
   "execution_count": 81,
   "metadata": {},
   "outputs": [
    {
     "data": {
      "text/plain": [
       "<matplotlib.axes._subplots.AxesSubplot at 0x2524116b550>"
      ]
     },
     "execution_count": 81,
     "metadata": {},
     "output_type": "execute_result"
    },
    {
     "data": {
      "image/png": "[encoded data removed]",
      "text/plain": [
       "<Figure size 432x288 with 1 Axes>"
      ]
     },
     "metadata": {
      "needs_background": "light"
     },
     "output_type": "display_data"
    }
   ],
   "source": [
    "df['Precipitation intensity (mm/h)'].hist()"
   ]
  },
  {
   "cell_type": "code",
   "execution_count": 82,
   "metadata": {},
   "outputs": [
    {
     "data": {
      "text/plain": [
       "array([ 0. ,  0.8,  0.5,  0.7,  1.1,  2.6,  0.4,  2.5,  3.2,  2.4,  0.3,\n",
       "        2. ,  2.7,  5.8,  3.4,  1. ,  1.6,  1.4,  1.5,  1.9,  0.1,  0.9,\n",
       "        1.3,  2.8,  0.6,  0.2,  4.9,  1.2,  1.8,  3. ,  2.1,  5.5,  5. ,\n",
       "        1.7,  4.7,  2.9,  6.7,  2.3,  3.8, 20. ,  6.3,  7.5,  7.7,  2.2,\n",
       "        4.1,  3.1, 13.3,  9.1,  6.2,  5.9,  9.8,  3.3,  3.5,  3.6, 14.6,\n",
       "        8.6,  7.4,  5.2,  4.6, 12.1, 15.7,  5.6,  3.9,  4.4,  8.9,  3.7,\n",
       "        7.8,  7. ,  6.6,  8.2,  6.1,  8.5,  6.9,  4. ,  7.1,  9.3,  4.3,\n",
       "       12.5,  5.3,  5.7,  9.5, 13.9, 22.1, 21. ,  8.8,  6.5, 17.7,  7.3,\n",
       "       15.4])"
      ]
     },
     "execution_count": 82,
     "metadata": {},
     "output_type": "execute_result"
    }
   ],
   "source": [
    "df['Precipitation intensity (mm/h)'].unique()"
   ]
  },
  {
   "cell_type": "code",
   "execution_count": 83,
   "metadata": {},
   "outputs": [
    {
     "data": {
      "text/plain": [
       "34654"
      ]
     },
     "execution_count": 83,
     "metadata": {},
     "output_type": "execute_result"
    }
   ],
   "source": [
    "len(df[df['Precipitation intensity (mm/h)']==0])"
   ]
  },
  {
   "cell_type": "code",
   "execution_count": 84,
   "metadata": {},
   "outputs": [
    {
     "data": {
      "text/html": [
       "<div>\n",
       "<style scoped>\n",
       "    .dataframe tbody tr th:only-of-type {\n",
       "        vertical-align: middle;\n",
       "    }\n",
       "\n",
       "    .dataframe tbody tr th {\n",
       "        vertical-align: top;\n",
       "    }\n",
       "\n",
       "    .dataframe thead th {\n",
       "        text-align: right;\n",
       "    }\n",
       "</style>\n",
       "<table border=\"1\" class=\"dataframe\">\n",
       "  <thead>\n",
       "    <tr style=\"text-align: right;\">\n",
       "      <th></th>\n",
       "      <th>Precipitation intensity (mm/h)</th>\n",
       "      <th>Precip_buckets_labels</th>\n",
       "      <th>Precip_buckets</th>\n",
       "    </tr>\n",
       "    <tr>\n",
       "      <th>datetime_converted</th>\n",
       "      <th></th>\n",
       "      <th></th>\n",
       "      <th></th>\n",
       "    </tr>\n",
       "  </thead>\n",
       "  <tbody>\n",
       "    <tr>\n",
       "      <th>2015-04-26 04:00:00+00:00</th>\n",
       "      <td>0.8</td>\n",
       "      <td>1</td>\n",
       "      <td>(0.0, 10.0]</td>\n",
       "    </tr>\n",
       "    <tr>\n",
       "      <th>2015-04-26 05:00:00+00:00</th>\n",
       "      <td>0.5</td>\n",
       "      <td>1</td>\n",
       "      <td>(0.0, 10.0]</td>\n",
       "    </tr>\n",
       "    <tr>\n",
       "      <th>2015-04-26 06:00:00+00:00</th>\n",
       "      <td>0.7</td>\n",
       "      <td>1</td>\n",
       "      <td>(0.0, 10.0]</td>\n",
       "    </tr>\n",
       "    <tr>\n",
       "      <th>2015-04-26 07:00:00+00:00</th>\n",
       "      <td>1.1</td>\n",
       "      <td>1</td>\n",
       "      <td>(0.0, 10.0]</td>\n",
       "    </tr>\n",
       "    <tr>\n",
       "      <th>2015-04-26 08:00:00+00:00</th>\n",
       "      <td>2.6</td>\n",
       "      <td>1</td>\n",
       "      <td>(0.0, 10.0]</td>\n",
       "    </tr>\n",
       "    <tr>\n",
       "      <th>...</th>\n",
       "      <td>...</td>\n",
       "      <td>...</td>\n",
       "      <td>...</td>\n",
       "    </tr>\n",
       "    <tr>\n",
       "      <th>2020-04-16 04:00:00+00:00</th>\n",
       "      <td>1.8</td>\n",
       "      <td>1</td>\n",
       "      <td>(0.0, 10.0]</td>\n",
       "    </tr>\n",
       "    <tr>\n",
       "      <th>2020-04-16 05:00:00+00:00</th>\n",
       "      <td>0.4</td>\n",
       "      <td>1</td>\n",
       "      <td>(0.0, 10.0]</td>\n",
       "    </tr>\n",
       "    <tr>\n",
       "      <th>2020-04-16 06:00:00+00:00</th>\n",
       "      <td>0.6</td>\n",
       "      <td>1</td>\n",
       "      <td>(0.0, 10.0]</td>\n",
       "    </tr>\n",
       "    <tr>\n",
       "      <th>2020-04-16 08:00:00+00:00</th>\n",
       "      <td>2.0</td>\n",
       "      <td>1</td>\n",
       "      <td>(0.0, 10.0]</td>\n",
       "    </tr>\n",
       "    <tr>\n",
       "      <th>2020-04-16 09:00:00+00:00</th>\n",
       "      <td>1.2</td>\n",
       "      <td>1</td>\n",
       "      <td>(0.0, 10.0]</td>\n",
       "    </tr>\n",
       "  </tbody>\n",
       "</table>\n",
       "<p>2808 rows × 3 columns</p>\n",
       "</div>"
      ],
      "text/plain": [
       "                           Precipitation intensity (mm/h)  \\\n",
       "datetime_converted                                          \n",
       "2015-04-26 04:00:00+00:00                             0.8   \n",
       "2015-04-26 05:00:00+00:00                             0.5   \n",
       "2015-04-26 06:00:00+00:00                             0.7   \n",
       "2015-04-26 07:00:00+00:00                             1.1   \n",
       "2015-04-26 08:00:00+00:00                             2.6   \n",
       "...                                                   ...   \n",
       "2020-04-16 04:00:00+00:00                             1.8   \n",
       "2020-04-16 05:00:00+00:00                             0.4   \n",
       "2020-04-16 06:00:00+00:00                             0.6   \n",
       "2020-04-16 08:00:00+00:00                             2.0   \n",
       "2020-04-16 09:00:00+00:00                             1.2   \n",
       "\n",
       "                          Precip_buckets_labels Precip_buckets  \n",
       "datetime_converted                                              \n",
       "2015-04-26 04:00:00+00:00                     1    (0.0, 10.0]  \n",
       "2015-04-26 05:00:00+00:00                     1    (0.0, 10.0]  \n",
       "2015-04-26 06:00:00+00:00                     1    (0.0, 10.0]  \n",
       "2015-04-26 07:00:00+00:00                     1    (0.0, 10.0]  \n",
       "2015-04-26 08:00:00+00:00                     1    (0.0, 10.0]  \n",
       "...                                         ...            ...  \n",
       "2020-04-16 04:00:00+00:00                     1    (0.0, 10.0]  \n",
       "2020-04-16 05:00:00+00:00                     1    (0.0, 10.0]  \n",
       "2020-04-16 06:00:00+00:00                     1    (0.0, 10.0]  \n",
       "2020-04-16 08:00:00+00:00                     1    (0.0, 10.0]  \n",
       "2020-04-16 09:00:00+00:00                     1    (0.0, 10.0]  \n",
       "\n",
       "[2808 rows x 3 columns]"
      ]
     },
     "execution_count": 84,
     "metadata": {},
     "output_type": "execute_result"
    }
   ],
   "source": [
    "buckets = [-1,0,10]\n",
    "labels = [0,1]\n",
    "df['Precip_buckets_labels'] = pd.cut(df['Precipitation intensity (mm/h)'], bins=buckets, labels=labels, include_lowest=True)\n",
    "df['Precip_buckets'] = pd.cut(df['Precipitation intensity (mm/h)'], bins=buckets, include_lowest=True)\n",
    "\n",
    "cols = ['Precipitation intensity (mm/h)', 'Precip_buckets_labels', 'Precip_buckets']\n",
    "df[cols][df['Precip_buckets_labels']==1]"
   ]
  },
  {
   "cell_type": "code",
   "execution_count": 85,
   "metadata": {},
   "outputs": [
    {
     "data": {
      "text/plain": [
       "<matplotlib.axes._subplots.AxesSubplot at 0x25243ae8358>"
      ]
     },
     "execution_count": 85,
     "metadata": {},
     "output_type": "execute_result"
    },
    {
     "data": {
      "image/png": "[encoded data removed]",
      "text/plain": [
       "<Figure size 432x288 with 1 Axes>"
      ]
     },
     "metadata": {
      "needs_background": "light"
     },
     "output_type": "display_data"
    }
   ],
   "source": [
    "df.groupby('Precip_buckets_labels')['Precipitation intensity (mm/h)'].count().plot.bar()"
   ]
  },
  {
   "cell_type": "code",
   "execution_count": 86,
   "metadata": {},
   "outputs": [
    {
     "data": {
      "text/plain": [
       "<matplotlib.axes._subplots.AxesSubplot at 0x25243b579e8>"
      ]
     },
     "execution_count": 86,
     "metadata": {},
     "output_type": "execute_result"
    },
    {
     "data": {
      "image/png": "[encoded data removed]",
      "text/plain": [
       "<Figure size 432x288 with 1 Axes>"
      ]
     },
     "metadata": {
      "needs_background": "light"
     },
     "output_type": "display_data"
    }
   ],
   "source": [
    "df.groupby('Precip_buckets_labels')['Value (kWh)'].count().plot.bar()"
   ]
  },
  {
   "cell_type": "markdown",
   "metadata": {},
   "source": [
    "Let's go with this one!"
   ]
  },
  {
   "cell_type": "markdown",
   "metadata": {},
   "source": [
    "# Gotta find how to df.apply() the function with rows in python"
   ]
  },
  {
   "cell_type": "code",
   "execution_count": 87,
   "metadata": {},
   "outputs": [],
   "source": [
    "df['hour']=df.index.hour"
   ]
  },
  {
   "cell_type": "code",
   "execution_count": 88,
   "metadata": {},
   "outputs": [
    {
     "data": {
      "text/plain": [
       "Index(['Global radiation (W/m2)', 'Diffuse radiation (W/m2)',\n",
       "       'Direct solar radiation (W/m2)', 'Value (kWh)', 'day_of_the_year',\n",
       "       'Cloud amount (1/8)', 'Pressure (msl) (hPa)', 'Relative humidity (%)',\n",
       "       'Precipitation intensity (mm/h)', 'Air temperature (degC)',\n",
       "       'Dew-point temperature (degC)', 'Horizontal visibility (m)',\n",
       "       'Wind direction (deg)', 'Wind speed (m/s)', 'Hor_vis_buckets_labels',\n",
       "       'Hor_vis_buckets', 'Cloud_buckets_labels', 'Cloud_buckets',\n",
       "       'Wind_direction', 'Precip_buckets_labels', 'Precip_buckets', 'hour'],\n",
       "      dtype='object')"
      ]
     },
     "execution_count": 88,
     "metadata": {},
     "output_type": "execute_result"
    }
   ],
   "source": [
    "df.columns"
   ]
  },
  {
   "cell_type": "code",
   "execution_count": 89,
   "metadata": {},
   "outputs": [],
   "source": [
    "# df['test'] = df.apply(lambda x: test_func(x['hour'],x['day_of_the_year']),axis=1)"
   ]
  },
  {
   "cell_type": "code",
   "execution_count": 92,
   "metadata": {},
   "outputs": [],
   "source": [
    "from azimuth_one_script import *\n",
    "longtitude = 24.9693\n",
    "latitude = 60.1867\n",
    "delta_GMT = 0"
   ]
  },
  {
   "cell_type": "code",
   "execution_count": 103,
   "metadata": {},
   "outputs": [],
   "source": [
    "def calc_glob_irrad(N,time,lon=longtitude,delta_GMT=0,phi=latitude):\n",
    "    gamma = 0\n",
    "    beta=45\n",
    "    omega = calc_omega(N, lon, delta_GMT, time)\n",
    "    delta = calc_delta(N)\n",
    "    alpha_s = calc_alpha_s(phi, delta, omega)\n",
    "    if alpha_s>0:\n",
    "        gamma_s = calc_gamma_s(alpha_s, phi, delta, omega)\n",
    "        cos_theta_i = calc_cos_theta_i(alpha_s, gamma_s, gamma, beta)\n",
    "        if cos_theta_i>0:\n",
    "            G_on = calc_G_on(N)\n",
    "            G_beam = calc_direct_irrad(G_on, alpha_s, cos_theta_i, T_L=2)\n",
    "            T_rd = calc_t_rd(T_L=2)\n",
    "            G_d = calc_diffuse_irrad(T_rd, alpha_s, G_on, beta)\n",
    "\n",
    "            G_glob = G_beam + G_d\n",
    "            return G_glob"
   ]
  },
  {
   "cell_type": "code",
   "execution_count": 104,
   "metadata": {},
   "outputs": [
    {
     "data": {
      "text/plain": [
       "Index(['Global radiation (W/m2)', 'Diffuse radiation (W/m2)',\n",
       "       'Direct solar radiation (W/m2)', 'Value (kWh)', 'day_of_the_year',\n",
       "       'Cloud amount (1/8)', 'Pressure (msl) (hPa)', 'Relative humidity (%)',\n",
       "       'Precipitation intensity (mm/h)', 'Air temperature (degC)',\n",
       "       'Dew-point temperature (degC)', 'Horizontal visibility (m)',\n",
       "       'Wind direction (deg)', 'Wind speed (m/s)', 'Hor_vis_buckets_labels',\n",
       "       'Hor_vis_buckets', 'Cloud_buckets_labels', 'Cloud_buckets',\n",
       "       'Wind_direction', 'Precip_buckets_labels', 'Precip_buckets', 'hour'],\n",
       "      dtype='object')"
      ]
     },
     "execution_count": 104,
     "metadata": {},
     "output_type": "execute_result"
    }
   ],
   "source": [
    "df.columns"
   ]
  },
  {
   "cell_type": "code",
   "execution_count": 105,
   "metadata": {},
   "outputs": [],
   "source": [
    "# df['diffuse_test'] = df.apply(lambda x: diffuse_calc(x['day_of_the_year'], x['hour']),axis=1)\n",
    "df['glob_irrad_theor'] = df.apply(lambda x: calc_glob_irrad(N=x['day_of_the_year'],time=x['hour']),axis=1)"
   ]
  },
  {
   "cell_type": "code",
   "execution_count": 108,
   "metadata": {},
   "outputs": [
    {
     "data": {
      "text/html": [
       "<div>\n",
       "<style scoped>\n",
       "    .dataframe tbody tr th:only-of-type {\n",
       "        vertical-align: middle;\n",
       "    }\n",
       "\n",
       "    .dataframe tbody tr th {\n",
       "        vertical-align: top;\n",
       "    }\n",
       "\n",
       "    .dataframe thead th {\n",
       "        text-align: right;\n",
       "    }\n",
       "</style>\n",
       "<table border=\"1\" class=\"dataframe\">\n",
       "  <thead>\n",
       "    <tr style=\"text-align: right;\">\n",
       "      <th></th>\n",
       "      <th>Global radiation (W/m2)</th>\n",
       "      <th>glob_irrad_theor</th>\n",
       "      <th>Value (kWh)</th>\n",
       "    </tr>\n",
       "  </thead>\n",
       "  <tbody>\n",
       "    <tr>\n",
       "      <th>Global radiation (W/m2)</th>\n",
       "      <td>1.000000</td>\n",
       "      <td>0.549442</td>\n",
       "      <td>0.827263</td>\n",
       "    </tr>\n",
       "    <tr>\n",
       "      <th>glob_irrad_theor</th>\n",
       "      <td>0.549442</td>\n",
       "      <td>1.000000</td>\n",
       "      <td>0.819591</td>\n",
       "    </tr>\n",
       "    <tr>\n",
       "      <th>Value (kWh)</th>\n",
       "      <td>0.827263</td>\n",
       "      <td>0.819591</td>\n",
       "      <td>1.000000</td>\n",
       "    </tr>\n",
       "  </tbody>\n",
       "</table>\n",
       "</div>"
      ],
      "text/plain": [
       "                         Global radiation (W/m2)  glob_irrad_theor  \\\n",
       "Global radiation (W/m2)                 1.000000          0.549442   \n",
       "glob_irrad_theor                        0.549442          1.000000   \n",
       "Value (kWh)                             0.827263          0.819591   \n",
       "\n",
       "                         Value (kWh)  \n",
       "Global radiation (W/m2)     0.827263  \n",
       "glob_irrad_theor            0.819591  \n",
       "Value (kWh)                 1.000000  "
      ]
     },
     "execution_count": 108,
     "metadata": {},
     "output_type": "execute_result"
    }
   ],
   "source": [
    "cols = ['Global radiation (W/m2)','glob_irrad_theor','Value (kWh)']\n",
    "df[cols].corr()"
   ]
  },
  {
   "cell_type": "code",
   "execution_count": 107,
   "metadata": {},
   "outputs": [
    {
     "data": {
      "text/plain": [
       "<matplotlib.axes._subplots.AxesSubplot at 0x25247c4ec18>"
      ]
     },
     "execution_count": 107,
     "metadata": {},
     "output_type": "execute_result"
    },
    {
     "data": {
      "image/png": "[encoded data removed]",
      "text/plain": [
       "<Figure size 432x288 with 1 Axes>"
      ]
     },
     "metadata": {
      "needs_background": "light"
     },
     "output_type": "display_data"
    }
   ],
   "source": [
    "df['glob_irrad_theor'].plot()"
   ]
  },
  {
   "cell_type": "code",
   "execution_count": 124,
   "metadata": {},
   "outputs": [
    {
     "data": {
      "text/html": [
       "<div>\n",
       "<style scoped>\n",
       "    .dataframe tbody tr th:only-of-type {\n",
       "        vertical-align: middle;\n",
       "    }\n",
       "\n",
       "    .dataframe tbody tr th {\n",
       "        vertical-align: top;\n",
       "    }\n",
       "\n",
       "    .dataframe thead th {\n",
       "        text-align: right;\n",
       "    }\n",
       "</style>\n",
       "<table border=\"1\" class=\"dataframe\">\n",
       "  <thead>\n",
       "    <tr style=\"text-align: right;\">\n",
       "      <th></th>\n",
       "      <th>Global radiation (W/m2)</th>\n",
       "      <th>Diffuse radiation (W/m2)</th>\n",
       "      <th>Direct solar radiation (W/m2)</th>\n",
       "      <th>Value (kWh)</th>\n",
       "      <th>day_of_the_year</th>\n",
       "      <th>Cloud amount (1/8)</th>\n",
       "      <th>Pressure (msl) (hPa)</th>\n",
       "      <th>Relative humidity (%)</th>\n",
       "      <th>Precipitation intensity (mm/h)</th>\n",
       "      <th>Air temperature (degC)</th>\n",
       "      <th>...</th>\n",
       "      <th>Cloud_buckets_labels</th>\n",
       "      <th>Cloud_buckets</th>\n",
       "      <th>Wind_direction</th>\n",
       "      <th>Precip_buckets_labels</th>\n",
       "      <th>Precip_buckets</th>\n",
       "      <th>hour</th>\n",
       "      <th>glob_test</th>\n",
       "      <th>incidence_angle</th>\n",
       "      <th>true_solar_elev_angle</th>\n",
       "      <th>solar_elev_angle</th>\n",
       "    </tr>\n",
       "    <tr>\n",
       "      <th>datetime_converted</th>\n",
       "      <th></th>\n",
       "      <th></th>\n",
       "      <th></th>\n",
       "      <th></th>\n",
       "      <th></th>\n",
       "      <th></th>\n",
       "      <th></th>\n",
       "      <th></th>\n",
       "      <th></th>\n",
       "      <th></th>\n",
       "      <th></th>\n",
       "      <th></th>\n",
       "      <th></th>\n",
       "      <th></th>\n",
       "      <th></th>\n",
       "      <th></th>\n",
       "      <th></th>\n",
       "      <th></th>\n",
       "      <th></th>\n",
       "      <th></th>\n",
       "      <th></th>\n",
       "    </tr>\n",
       "  </thead>\n",
       "  <tbody>\n",
       "    <tr>\n",
       "      <th>2015-04-22 00:00:00+00:00</th>\n",
       "      <td>-2.1</td>\n",
       "      <td>-1.9</td>\n",
       "      <td>-0.2</td>\n",
       "      <td>0.0</td>\n",
       "      <td>112.0</td>\n",
       "      <td>7.0</td>\n",
       "      <td>1018.2</td>\n",
       "      <td>65.0</td>\n",
       "      <td>0.0</td>\n",
       "      <td>6.9</td>\n",
       "      <td>...</td>\n",
       "      <td>&gt;5</td>\n",
       "      <td>(5.0, 10.0]</td>\n",
       "      <td>WSW</td>\n",
       "      <td>0</td>\n",
       "      <td>(-1.001, 0.0]</td>\n",
       "      <td>0</td>\n",
       "      <td>-16.129272</td>\n",
       "      <td>146.194050</td>\n",
       "      <td>-16.129272</td>\n",
       "      <td>-16.058955</td>\n",
       "    </tr>\n",
       "    <tr>\n",
       "      <th>2015-04-22 01:00:00+00:00</th>\n",
       "      <td>-3.1</td>\n",
       "      <td>-2.1</td>\n",
       "      <td>-1.0</td>\n",
       "      <td>0.0</td>\n",
       "      <td>112.0</td>\n",
       "      <td>1.0</td>\n",
       "      <td>1017.9</td>\n",
       "      <td>71.0</td>\n",
       "      <td>0.0</td>\n",
       "      <td>5.8</td>\n",
       "      <td>...</td>\n",
       "      <td>&lt;=5</td>\n",
       "      <td>(-0.001, 5.0]</td>\n",
       "      <td>WSW</td>\n",
       "      <td>0</td>\n",
       "      <td>(-1.001, 0.0]</td>\n",
       "      <td>1</td>\n",
       "      <td>-12.646159</td>\n",
       "      <td>135.694026</td>\n",
       "      <td>-12.646159</td>\n",
       "      <td>-12.546045</td>\n",
       "    </tr>\n",
       "    <tr>\n",
       "      <th>2015-04-22 02:00:00+00:00</th>\n",
       "      <td>-2.6</td>\n",
       "      <td>-1.8</td>\n",
       "      <td>-0.8</td>\n",
       "      <td>0.0</td>\n",
       "      <td>112.0</td>\n",
       "      <td>3.0</td>\n",
       "      <td>1017.5</td>\n",
       "      <td>76.0</td>\n",
       "      <td>0.0</td>\n",
       "      <td>4.9</td>\n",
       "      <td>...</td>\n",
       "      <td>&lt;=5</td>\n",
       "      <td>(-0.001, 5.0]</td>\n",
       "      <td>W</td>\n",
       "      <td>0</td>\n",
       "      <td>(-1.001, 0.0]</td>\n",
       "      <td>2</td>\n",
       "      <td>-7.747192</td>\n",
       "      <td>123.219974</td>\n",
       "      <td>-7.747192</td>\n",
       "      <td>-7.515664</td>\n",
       "    </tr>\n",
       "    <tr>\n",
       "      <th>2015-04-22 03:00:00+00:00</th>\n",
       "      <td>80.0</td>\n",
       "      <td>7.6</td>\n",
       "      <td>72.4</td>\n",
       "      <td>6.0</td>\n",
       "      <td>112.0</td>\n",
       "      <td>5.0</td>\n",
       "      <td>1017.3</td>\n",
       "      <td>77.0</td>\n",
       "      <td>0.0</td>\n",
       "      <td>4.9</td>\n",
       "      <td>...</td>\n",
       "      <td>&lt;=5</td>\n",
       "      <td>(-0.001, 5.0]</td>\n",
       "      <td>W</td>\n",
       "      <td>0</td>\n",
       "      <td>(-1.001, 0.0]</td>\n",
       "      <td>3</td>\n",
       "      <td>-1.405939</td>\n",
       "      <td>109.819895</td>\n",
       "      <td>-1.405939</td>\n",
       "      <td>-1.331416</td>\n",
       "    </tr>\n",
       "    <tr>\n",
       "      <th>2015-04-22 04:00:00+00:00</th>\n",
       "      <td>242.0</td>\n",
       "      <td>46.2</td>\n",
       "      <td>195.8</td>\n",
       "      <td>15.0</td>\n",
       "      <td>112.0</td>\n",
       "      <td>0.0</td>\n",
       "      <td>1016.9</td>\n",
       "      <td>76.0</td>\n",
       "      <td>0.0</td>\n",
       "      <td>4.9</td>\n",
       "      <td>...</td>\n",
       "      <td>&lt;=5</td>\n",
       "      <td>(-0.001, 5.0]</td>\n",
       "      <td>WNW</td>\n",
       "      <td>0</td>\n",
       "      <td>(-1.001, 0.0]</td>\n",
       "      <td>4</td>\n",
       "      <td>5.699966</td>\n",
       "      <td>95.939468</td>\n",
       "      <td>5.699966</td>\n",
       "      <td>5.631552</td>\n",
       "    </tr>\n",
       "    <tr>\n",
       "      <th>...</th>\n",
       "      <td>...</td>\n",
       "      <td>...</td>\n",
       "      <td>...</td>\n",
       "      <td>...</td>\n",
       "      <td>...</td>\n",
       "      <td>...</td>\n",
       "      <td>...</td>\n",
       "      <td>...</td>\n",
       "      <td>...</td>\n",
       "      <td>...</td>\n",
       "      <td>...</td>\n",
       "      <td>...</td>\n",
       "      <td>...</td>\n",
       "      <td>...</td>\n",
       "      <td>...</td>\n",
       "      <td>...</td>\n",
       "      <td>...</td>\n",
       "      <td>...</td>\n",
       "      <td>...</td>\n",
       "      <td>...</td>\n",
       "      <td>...</td>\n",
       "    </tr>\n",
       "    <tr>\n",
       "      <th>2020-04-22 20:00:00+00:00</th>\n",
       "      <td>-2.9</td>\n",
       "      <td>-2.7</td>\n",
       "      <td>-0.2</td>\n",
       "      <td>0.0</td>\n",
       "      <td>113.0</td>\n",
       "      <td>0.0</td>\n",
       "      <td>1021.3</td>\n",
       "      <td>62.0</td>\n",
       "      <td>0.0</td>\n",
       "      <td>6.4</td>\n",
       "      <td>...</td>\n",
       "      <td>&lt;=5</td>\n",
       "      <td>(-0.001, 5.0]</td>\n",
       "      <td>W</td>\n",
       "      <td>0</td>\n",
       "      <td>(-1.001, 0.0]</td>\n",
       "      <td>20</td>\n",
       "      <td>-11.081822</td>\n",
       "      <td>132.172633</td>\n",
       "      <td>-11.081822</td>\n",
       "      <td>-10.958797</td>\n",
       "    </tr>\n",
       "    <tr>\n",
       "      <th>2020-04-22 21:00:00+00:00</th>\n",
       "      <td>-3.2</td>\n",
       "      <td>-2.6</td>\n",
       "      <td>-0.6</td>\n",
       "      <td>0.0</td>\n",
       "      <td>113.0</td>\n",
       "      <td>0.0</td>\n",
       "      <td>1021.0</td>\n",
       "      <td>69.0</td>\n",
       "      <td>0.0</td>\n",
       "      <td>5.2</td>\n",
       "      <td>...</td>\n",
       "      <td>&lt;=5</td>\n",
       "      <td>(-0.001, 5.0]</td>\n",
       "      <td>WNW</td>\n",
       "      <td>0</td>\n",
       "      <td>(-1.001, 0.0]</td>\n",
       "      <td>21</td>\n",
       "      <td>-14.994701</td>\n",
       "      <td>143.324247</td>\n",
       "      <td>-14.994701</td>\n",
       "      <td>-14.916768</td>\n",
       "    </tr>\n",
       "    <tr>\n",
       "      <th>2020-04-22 22:00:00+00:00</th>\n",
       "      <td>-2.5</td>\n",
       "      <td>-2.3</td>\n",
       "      <td>-0.2</td>\n",
       "      <td>0.0</td>\n",
       "      <td>113.0</td>\n",
       "      <td>0.0</td>\n",
       "      <td>1021.0</td>\n",
       "      <td>63.0</td>\n",
       "      <td>0.0</td>\n",
       "      <td>5.5</td>\n",
       "      <td>...</td>\n",
       "      <td>&lt;=5</td>\n",
       "      <td>(-0.001, 5.0]</td>\n",
       "      <td>NW</td>\n",
       "      <td>0</td>\n",
       "      <td>(-1.001, 0.0]</td>\n",
       "      <td>22</td>\n",
       "      <td>-17.198839</td>\n",
       "      <td>150.954938</td>\n",
       "      <td>-17.198839</td>\n",
       "      <td>-17.134487</td>\n",
       "    </tr>\n",
       "    <tr>\n",
       "      <th>2020-04-22 23:00:00+00:00</th>\n",
       "      <td>-2.2</td>\n",
       "      <td>-2.1</td>\n",
       "      <td>-0.1</td>\n",
       "      <td>0.0</td>\n",
       "      <td>113.0</td>\n",
       "      <td>0.0</td>\n",
       "      <td>1020.6</td>\n",
       "      <td>65.0</td>\n",
       "      <td>0.0</td>\n",
       "      <td>4.4</td>\n",
       "      <td>...</td>\n",
       "      <td>&lt;=5</td>\n",
       "      <td>(-0.001, 5.0]</td>\n",
       "      <td>NW</td>\n",
       "      <td>0</td>\n",
       "      <td>(-1.001, 0.0]</td>\n",
       "      <td>23</td>\n",
       "      <td>-17.470620</td>\n",
       "      <td>152.015514</td>\n",
       "      <td>-17.470620</td>\n",
       "      <td>-17.407630</td>\n",
       "    </tr>\n",
       "    <tr>\n",
       "      <th>2020-04-23 00:00:00+00:00</th>\n",
       "      <td>-2.7</td>\n",
       "      <td>-2.3</td>\n",
       "      <td>-0.4</td>\n",
       "      <td>0.0</td>\n",
       "      <td>114.0</td>\n",
       "      <td>0.0</td>\n",
       "      <td>1020.4</td>\n",
       "      <td>68.0</td>\n",
       "      <td>0.0</td>\n",
       "      <td>3.7</td>\n",
       "      <td>...</td>\n",
       "      <td>&lt;=5</td>\n",
       "      <td>(-0.001, 5.0]</td>\n",
       "      <td>NW</td>\n",
       "      <td>0</td>\n",
       "      <td>(-1.001, 0.0]</td>\n",
       "      <td>0</td>\n",
       "      <td>-15.439022</td>\n",
       "      <td>145.583985</td>\n",
       "      <td>-15.439022</td>\n",
       "      <td>-15.364254</td>\n",
       "    </tr>\n",
       "  </tbody>\n",
       "</table>\n",
       "<p>37473 rows × 26 columns</p>\n",
       "</div>"
      ],
      "text/plain": [
       "                           Global radiation (W/m2)  Diffuse radiation (W/m2)  \\\n",
       "datetime_converted                                                             \n",
       "2015-04-22 00:00:00+00:00                     -2.1                      -1.9   \n",
       "2015-04-22 01:00:00+00:00                     -3.1                      -2.1   \n",
       "2015-04-22 02:00:00+00:00                     -2.6                      -1.8   \n",
       "2015-04-22 03:00:00+00:00                     80.0                       7.6   \n",
       "2015-04-22 04:00:00+00:00                    242.0                      46.2   \n",
       "...                                            ...                       ...   \n",
       "2020-04-22 20:00:00+00:00                     -2.9                      -2.7   \n",
       "2020-04-22 21:00:00+00:00                     -3.2                      -2.6   \n",
       "2020-04-22 22:00:00+00:00                     -2.5                      -2.3   \n",
       "2020-04-22 23:00:00+00:00                     -2.2                      -2.1   \n",
       "2020-04-23 00:00:00+00:00                     -2.7                      -2.3   \n",
       "\n",
       "                           Direct solar radiation (W/m2)  Value (kWh)  \\\n",
       "datetime_converted                                                      \n",
       "2015-04-22 00:00:00+00:00                           -0.2          0.0   \n",
       "2015-04-22 01:00:00+00:00                           -1.0          0.0   \n",
       "2015-04-22 02:00:00+00:00                           -0.8          0.0   \n",
       "2015-04-22 03:00:00+00:00                           72.4          6.0   \n",
       "2015-04-22 04:00:00+00:00                          195.8         15.0   \n",
       "...                                                  ...          ...   \n",
       "2020-04-22 20:00:00+00:00                           -0.2          0.0   \n",
       "2020-04-22 21:00:00+00:00                           -0.6          0.0   \n",
       "2020-04-22 22:00:00+00:00                           -0.2          0.0   \n",
       "2020-04-22 23:00:00+00:00                           -0.1          0.0   \n",
       "2020-04-23 00:00:00+00:00                           -0.4          0.0   \n",
       "\n",
       "                           day_of_the_year  Cloud amount (1/8)  \\\n",
       "datetime_converted                                               \n",
       "2015-04-22 00:00:00+00:00            112.0                 7.0   \n",
       "2015-04-22 01:00:00+00:00            112.0                 1.0   \n",
       "2015-04-22 02:00:00+00:00            112.0                 3.0   \n",
       "2015-04-22 03:00:00+00:00            112.0                 5.0   \n",
       "2015-04-22 04:00:00+00:00            112.0                 0.0   \n",
       "...                                    ...                 ...   \n",
       "2020-04-22 20:00:00+00:00            113.0                 0.0   \n",
       "2020-04-22 21:00:00+00:00            113.0                 0.0   \n",
       "2020-04-22 22:00:00+00:00            113.0                 0.0   \n",
       "2020-04-22 23:00:00+00:00            113.0                 0.0   \n",
       "2020-04-23 00:00:00+00:00            114.0                 0.0   \n",
       "\n",
       "                           Pressure (msl) (hPa)  Relative humidity (%)  \\\n",
       "datetime_converted                                                       \n",
       "2015-04-22 00:00:00+00:00                1018.2                   65.0   \n",
       "2015-04-22 01:00:00+00:00                1017.9                   71.0   \n",
       "2015-04-22 02:00:00+00:00                1017.5                   76.0   \n",
       "2015-04-22 03:00:00+00:00                1017.3                   77.0   \n",
       "2015-04-22 04:00:00+00:00                1016.9                   76.0   \n",
       "...                                         ...                    ...   \n",
       "2020-04-22 20:00:00+00:00                1021.3                   62.0   \n",
       "2020-04-22 21:00:00+00:00                1021.0                   69.0   \n",
       "2020-04-22 22:00:00+00:00                1021.0                   63.0   \n",
       "2020-04-22 23:00:00+00:00                1020.6                   65.0   \n",
       "2020-04-23 00:00:00+00:00                1020.4                   68.0   \n",
       "\n",
       "                           Precipitation intensity (mm/h)  \\\n",
       "datetime_converted                                          \n",
       "2015-04-22 00:00:00+00:00                             0.0   \n",
       "2015-04-22 01:00:00+00:00                             0.0   \n",
       "2015-04-22 02:00:00+00:00                             0.0   \n",
       "2015-04-22 03:00:00+00:00                             0.0   \n",
       "2015-04-22 04:00:00+00:00                             0.0   \n",
       "...                                                   ...   \n",
       "2020-04-22 20:00:00+00:00                             0.0   \n",
       "2020-04-22 21:00:00+00:00                             0.0   \n",
       "2020-04-22 22:00:00+00:00                             0.0   \n",
       "2020-04-22 23:00:00+00:00                             0.0   \n",
       "2020-04-23 00:00:00+00:00                             0.0   \n",
       "\n",
       "                           Air temperature (degC)  ...  Cloud_buckets_labels  \\\n",
       "datetime_converted                                 ...                         \n",
       "2015-04-22 00:00:00+00:00                     6.9  ...                    >5   \n",
       "2015-04-22 01:00:00+00:00                     5.8  ...                   <=5   \n",
       "2015-04-22 02:00:00+00:00                     4.9  ...                   <=5   \n",
       "2015-04-22 03:00:00+00:00                     4.9  ...                   <=5   \n",
       "2015-04-22 04:00:00+00:00                     4.9  ...                   <=5   \n",
       "...                                           ...  ...                   ...   \n",
       "2020-04-22 20:00:00+00:00                     6.4  ...                   <=5   \n",
       "2020-04-22 21:00:00+00:00                     5.2  ...                   <=5   \n",
       "2020-04-22 22:00:00+00:00                     5.5  ...                   <=5   \n",
       "2020-04-22 23:00:00+00:00                     4.4  ...                   <=5   \n",
       "2020-04-23 00:00:00+00:00                     3.7  ...                   <=5   \n",
       "\n",
       "                           Cloud_buckets  Wind_direction  \\\n",
       "datetime_converted                                         \n",
       "2015-04-22 00:00:00+00:00    (5.0, 10.0]             WSW   \n",
       "2015-04-22 01:00:00+00:00  (-0.001, 5.0]             WSW   \n",
       "2015-04-22 02:00:00+00:00  (-0.001, 5.0]               W   \n",
       "2015-04-22 03:00:00+00:00  (-0.001, 5.0]               W   \n",
       "2015-04-22 04:00:00+00:00  (-0.001, 5.0]             WNW   \n",
       "...                                  ...             ...   \n",
       "2020-04-22 20:00:00+00:00  (-0.001, 5.0]               W   \n",
       "2020-04-22 21:00:00+00:00  (-0.001, 5.0]             WNW   \n",
       "2020-04-22 22:00:00+00:00  (-0.001, 5.0]              NW   \n",
       "2020-04-22 23:00:00+00:00  (-0.001, 5.0]              NW   \n",
       "2020-04-23 00:00:00+00:00  (-0.001, 5.0]              NW   \n",
       "\n",
       "                           Precip_buckets_labels Precip_buckets hour  \\\n",
       "datetime_converted                                                     \n",
       "2015-04-22 00:00:00+00:00                      0  (-1.001, 0.0]    0   \n",
       "2015-04-22 01:00:00+00:00                      0  (-1.001, 0.0]    1   \n",
       "2015-04-22 02:00:00+00:00                      0  (-1.001, 0.0]    2   \n",
       "2015-04-22 03:00:00+00:00                      0  (-1.001, 0.0]    3   \n",
       "2015-04-22 04:00:00+00:00                      0  (-1.001, 0.0]    4   \n",
       "...                                          ...            ...  ...   \n",
       "2020-04-22 20:00:00+00:00                      0  (-1.001, 0.0]   20   \n",
       "2020-04-22 21:00:00+00:00                      0  (-1.001, 0.0]   21   \n",
       "2020-04-22 22:00:00+00:00                      0  (-1.001, 0.0]   22   \n",
       "2020-04-22 23:00:00+00:00                      0  (-1.001, 0.0]   23   \n",
       "2020-04-23 00:00:00+00:00                      0  (-1.001, 0.0]    0   \n",
       "\n",
       "                           glob_test incidence_angle true_solar_elev_angle  \\\n",
       "datetime_converted                                                           \n",
       "2015-04-22 00:00:00+00:00 -16.129272      146.194050            -16.129272   \n",
       "2015-04-22 01:00:00+00:00 -12.646159      135.694026            -12.646159   \n",
       "2015-04-22 02:00:00+00:00  -7.747192      123.219974             -7.747192   \n",
       "2015-04-22 03:00:00+00:00  -1.405939      109.819895             -1.405939   \n",
       "2015-04-22 04:00:00+00:00   5.699966       95.939468              5.699966   \n",
       "...                              ...             ...                   ...   \n",
       "2020-04-22 20:00:00+00:00 -11.081822      132.172633            -11.081822   \n",
       "2020-04-22 21:00:00+00:00 -14.994701      143.324247            -14.994701   \n",
       "2020-04-22 22:00:00+00:00 -17.198839      150.954938            -17.198839   \n",
       "2020-04-22 23:00:00+00:00 -17.470620      152.015514            -17.470620   \n",
       "2020-04-23 00:00:00+00:00 -15.439022      145.583985            -15.439022   \n",
       "\n",
       "                          solar_elev_angle  \n",
       "datetime_converted                          \n",
       "2015-04-22 00:00:00+00:00       -16.058955  \n",
       "2015-04-22 01:00:00+00:00       -12.546045  \n",
       "2015-04-22 02:00:00+00:00        -7.515664  \n",
       "2015-04-22 03:00:00+00:00        -1.331416  \n",
       "2015-04-22 04:00:00+00:00         5.631552  \n",
       "...                                    ...  \n",
       "2020-04-22 20:00:00+00:00       -10.958797  \n",
       "2020-04-22 21:00:00+00:00       -14.916768  \n",
       "2020-04-22 22:00:00+00:00       -17.134487  \n",
       "2020-04-22 23:00:00+00:00       -17.407630  \n",
       "2020-04-23 00:00:00+00:00       -15.364254  \n",
       "\n",
       "[37473 rows x 26 columns]"
      ]
     },
     "execution_count": 124,
     "metadata": {},
     "output_type": "execute_result"
    }
   ],
   "source": [
    "df"
   ]
  },
  {
   "cell_type": "code",
   "execution_count": 126,
   "metadata": {},
   "outputs": [],
   "source": [
    "# df.to_csv('../datasets/solar_p_data/df_all_vars_angles_test.csv')\n",
    "\n",
    "# df = pd.read_csv('../datasets/solar_p_data/df_with_irradiance.csv', delimiter=',')\n",
    "# df['datetime_converted'] = pd.to_datetime(df['datetime_converted'], utc=True)\n",
    "# df = df.set_index(pd.DatetimeIndex(df['datetime_converted'],dayfirst=True))\n",
    "# df = df.drop(columns='datetime_converted')"
   ]
  },
  {
   "cell_type": "code",
   "execution_count": 2,
   "metadata": {},
   "outputs": [
    {
     "data": {
      "text/plain": [
       "-0.054490540744190956"
      ]
     },
     "execution_count": 2,
     "metadata": {},
     "output_type": "execute_result"
    }
   ],
   "source": [
    "import numpy as np\n",
    "np.sin(-50.32)"
   ]
  },
  {
   "cell_type": "code",
   "execution_count": 8,
   "metadata": {},
   "outputs": [
    {
     "data": {
      "text/plain": [
       "-3.1236250983024028"
      ]
     },
     "execution_count": 8,
     "metadata": {},
     "output_type": "execute_result"
    }
   ],
   "source": [
    "np.arcsin(-0.054490540744190956)*180/np.pi"
   ]
  },
  {
   "cell_type": "code",
   "execution_count": 11,
   "metadata": {},
   "outputs": [
    {
     "data": {
      "text/plain": [
       "0.49999999999999994"
      ]
     },
     "execution_count": 11,
     "metadata": {},
     "output_type": "execute_result"
    }
   ],
   "source": [
    "np.sin(30*np.pi/180)"
   ]
  },
  {
   "cell_type": "code",
   "execution_count": null,
   "metadata": {},
   "outputs": [],
   "source": []
  }
 ],
 "metadata": {
  "kernelspec": {
   "display_name": "Python 3",
   "language": "python",
   "name": "python3"
  },
  "language_info": {
   "codemirror_mode": {
    "name": "ipython",
    "version": 3
   },
   "file_extension": ".py",
   "mimetype": "text/x-python",
   "name": "python",
   "nbconvert_exporter": "python",
   "pygments_lexer": "ipython3",
   "version": "3.6.5"
  }
 },
 "nbformat": 4,
 "nbformat_minor": 2
}
