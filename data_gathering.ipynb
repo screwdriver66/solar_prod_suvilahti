{
 "cells": [
  {
   "cell_type": "markdown",
   "metadata": {},
   "source": [
    "# Get the data   \n",
    "Note: automate as much as possible so you can easily get fresh data.\n",
    "\n",
    "- [x] List the data you need and how much you need.  \n",
    "\n",
    "> * FMI API weather forecast data from fmi_weather app.\n",
    "> * FMI historical data downloaded with a csv from website\n",
    "> * Helen historical data downloaded with a csv from website\n",
    "> * Calculation of theoretical solar irradiance\n",
    "\n",
    "- [x] Find and document where you can get that data. \n",
    ">in 1.\n",
    "- [x] Check how much space it will take.\n",
    ">Negligible\n",
    "- [x] Check legal obligations, and get the authorization if necessary.\n",
    ">* fmi_weather license\n",
    ">* cite the GHI article\n",
    ">* helen data and weather observation data are freely available\n",
    "- [x] Get access authorizations.\n",
    ">Wasn't necessary\n",
    "- [x] Create a workspace (with enough storage space).\n",
    "- [x] Get the data.\n",
    "- [x] Convert the data to a format you can easily manipulate (without changing the data itself).\n",
    "- [x] Ensure sensitive information is deleted or protected (e.g., anonymized).\n",
    "- [x] Check the size and type of data (time series, sample, geographical, etc.).\n",
    ">Timeseries converted into UTC\n",
    "- [ ] Sample a test set, put it aside, and never look at it (no data snooping!).\n",
    ">Do that\n"
   ]
  },
  {
   "cell_type": "code",
   "execution_count": null,
   "metadata": {},
   "outputs": [],
   "source": []
  }
 ],
 "metadata": {
  "kernelspec": {
   "display_name": "Python 3",
   "language": "python",
   "name": "python3"
  },
  "language_info": {
   "codemirror_mode": {
    "name": "ipython",
    "version": 3
   },
   "file_extension": ".py",
   "mimetype": "text/x-python",
   "name": "python",
   "nbconvert_exporter": "python",
   "pygments_lexer": "ipython3",
   "version": "3.7.4"
  }
 },
 "nbformat": 4,
 "nbformat_minor": 2
}
