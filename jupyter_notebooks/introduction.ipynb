{
 "cells": [
  {
   "cell_type": "markdown",
   "metadata": {},
   "source": [
    "# Introduction - Prediction of solar power production in Suvilahti PV plant\n",
    "Description: Example project of predicting solar power production in Suvilahti for the upcoming 24-36 hours. The model is trained on weather observation values from FMI, used as features, while labels are taken from Helen PV production data. Inputs for model usage are weather forecast data from FMI API.\n",
    "\n",
    "### A list of sequential notebooks:\n",
    "Current stage marked with bold.\n",
    "\n",
    "* Data gathering\n",
    "* Data analysis\n",
    "* Feature engineering\n",
    "* Feature selection\n",
    "* __Model building <-__\n",
    "* Model deployment"
   ]
  },
  {
   "cell_type": "markdown",
   "metadata": {},
   "source": [
    "# Checklist\n",
    "\n",
    ">Source: Checklist from __Hands on ML with Scikit-Learn and Tensorflow__ by *Aurelien Geron*\n",
    "\n",
    "Checklist guides you through the project. There are 8 main steps with consequential notebooks:  \n",
    "\n",
    "- [x] Frame the problem and look at the big picture. -> __Below__.\n",
    "- [x] Get the data.  -> __data_gathering__ notebook\n",
    "- [x] Explore the data to gain insights.  -> __data_analysis__ notebook\n",
    "- [ ] Prepare the data to better expose the underlying data patterns to ML algorithms. -> __feature_engineering__ and __feature_selection__ notebooks  \n",
    "- [x] Explore many different models and short-list the best ones. -> __model_building__ notebook  \n",
    "- [ ] Fine-tune your models and combine them into a great solution.  \n",
    "- [ ] Present your solution.  \n",
    "- [ ] Launch, monitor, and maintain your system. -> __model_deployment__ notebook"
   ]
  },
  {
   "cell_type": "markdown",
   "metadata": {},
   "source": [
    "# 1. Frame the problem and look at the big picture  \n",
    "1. Define the objective (in business terms).  \n",
    "\n",
    "> The objective is to utilize the weather forecast data in the prediction of the PV energy consumption. Users can explore the expected profits from the generation.\n",
    "\n",
    "2. How will your solution be used? \n",
    "\n",
    ">Users go to a web app or use its API to GET a prediction about the PV energy consumption for the next day/hours. First, the app gets a weather forecast from FMI API for either __Suvilahti__ or the closest meteo station - __Kumpula__. Then, the weather forecast values are used as the predictors for the ML model on energy consumption.\n",
    " \n",
    "3. What are the current solutions/workarounds (if any)?  \n",
    "\n",
    "> * The FMI (Finnish Meteorological Institute) has an available API that lets you get weather forecast predictions in a structured format. The FMI forecast has a multitude of weather related parameters. \n",
    "> * Regarding training the model on energy consumption, the website of Helen Energia, dedicated to PV panels in Suvilahti and Messukeskus, has a web framework that lets you download up to 4 years of time series data, structured the following way: timestamp, energy consumption over the over in kWh. The data is in hourly resolution.  \n",
    "> * The FMI website also allows to download the hourly weather historical data, which makes it a perfect candidate for our mini-project.\n",
    "\n",
    "4. How should you frame this problem (supervised/unsupervised, online/offline, etc.)  \n",
    "\n",
    ">Supervised regression prediction model-based learning with data coming in batches.\n",
    "\n",
    "5. How should performance be measured? \n",
    "\n",
    ">The performance is measured by a Root Mean Squared Error (RMSE) (or MSE?) as it is more sensitive to outliers than MAE, for example.\n",
    " \n",
    "6. Is the performance measure aligned with the business objective?\n",
    "\n",
    "> is it?\n",
    "\n",
    "7. What would be the minimum performance needed to reach the business objective?\n",
    "\n",
    ">We select accuracy of 90-95% on the test set as a benchmark (really?)\n",
    "  \n",
    "8. What are comparable problems? Can you reuse experience or tools?  \n",
    "\n",
    ">There are several research articles on the topic. However, since this is a portfolio project targeted at getting a job, we will not be using any specific python libraries that can provide accurate values for some of the variables, or even the prediction of PV power itself.\n",
    " \n",
    "9. Is human expertise available?  \n",
    "\n",
    "> There are ways to model this without a ML algorithm, however, not in the scope of this project. \n",
    "\n",
    "10. How would you solve the problem manually?  \n",
    "\n",
    "> The weather data has correlation with the solar irradiance that is received on the Earth. Production of PV energy is proportional to solar irradiance. \n",
    "\n",
    "> The model built in this project is designed to predict the produced PV energy. We utilize the  solar radiation, depending on the position of the sun in that day of the year and hour of the day, while combining them with weather forecasted data, such as cloud coverage, humidity, pressure, air temperature, etc.\n",
    "\n",
    "11. List the assumptions you or others have made so far.  \n",
    "\n",
    ">* The weather forecast that the model uses in the production is the closest information to real weather values for that day.\n",
    ">* We recieve weather observation data for Training from Kumpula, while the place we are trying to predict for is in Suvilahti, which are about 2.5-3 km away from each other.\n",
    "\n",
    "12. Verify assumptions if possible.  \n",
    "\n",
    "> There is no better source of information for the upcoming days than the weather prediction.\n"
   ]
  },
  {
   "cell_type": "markdown",
   "metadata": {},
   "source": [
    "  \n",
    "# Present your solution  \n",
    "1. Document what you have done.  \n",
    "2. Create a nice presentation.  \n",
    "    - Make sure you highlight the big picture first.  \n",
    "3. Explain why your solution achieves the business objective.  \n",
    "4. Don't forget to present interesting points you noticed along the way.  \n",
    "    - Describe what worked and what did not.  \n",
    "    - List your assumptions and your system's limitations.  \n",
    "5. Ensure your key findings are communicated through beautiful visualizations or easy-to-remember statements (e.g., \"the median income is the number-one predictor of housing prices\").  \n"
   ]
  },
  {
   "cell_type": "code",
   "execution_count": null,
   "metadata": {},
   "outputs": [],
   "source": []
  }
 ],
 "metadata": {
  "kernelspec": {
   "display_name": "Python 3",
   "language": "python",
   "name": "python3"
  },
  "language_info": {
   "codemirror_mode": {
    "name": "ipython",
    "version": 3
   },
   "file_extension": ".py",
   "mimetype": "text/x-python",
   "name": "python",
   "nbconvert_exporter": "python",
   "pygments_lexer": "ipython3",
   "version": "3.6.5"
  }
 },
 "nbformat": 4,
 "nbformat_minor": 2
}
