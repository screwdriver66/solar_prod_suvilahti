{
 "cells": [
  {
   "cell_type": "markdown",
   "metadata": {},
   "source": [
    "# Short-list promising models  \n",
    "\n",
    "We will try the following models:\n",
    "- Random Forest\n",
    "- Neural Networks\n",
    "\n",
    "Obviously, these searches for a promising models could be much more elaborative, but the idea is to showcase the basic models non linear models, include working with tensorflow and scikit-learn as well as cross-validation. So far it seems that Random Forest is a better fit. NNs are in a separate jupyter notebook - __model_building_nn__. Basically, there is a ton of possibilities to improve the NN model, such as tailormake the NN architecture, drop out some neurons, go deeper into the deep learning, etc. Since this is at a stage where other parts of this project need more attention and the result with RF is already satisfying, I will come back to this to explore other methods, such as a promising new \"Cat Boost\" library from Yandex, or improve the possible architectures of NN, etc., when I come up with an adequate test coverage for the deployed model. \n",
    "\n",
    "### Note: I cannot push more than 100MB into github, thus, this hyperparameter tuning is going to be degraded once it goes into the model.\n",
    "\n",
    "# TLDR comparison of 3 methods from 2 notebooks:\n",
    "- 3000 trees RF hyperparameter tuned\n",
    "- 500 trees RF with same hyperparameters\n",
    "- Generic 300-200-100 3 hidden layers NN architecture from the other notebook\n",
    "\n",
    "|      | 3000 trees RF | 500 trees RF | 300-200-100 NN |\n",
    "|:----:|:-------------:|:------------:|:--------------:|\n",
    "|  mse |     0.0637    |    0.0639    |     0.0791     |\n",
    "| rmse |     0.2524    |    0.2527    |     0.2813     |\n",
    "|  r2  |     0.9353    |    0.9352    |     0.9197     |\n",
    "\n",
    "As a result, 500 trees RF was selected. Hyperparameters, fit, distribution of errors and feature importances are available below in the notebook."
   ]
  },
  {
   "cell_type": "code",
   "execution_count": 1,
   "metadata": {},
   "outputs": [],
   "source": [
    "import numpy as np\n",
    "import pandas as pd\n",
    "import seaborn as sns\n",
    "from matplotlib import pyplot as plt\n",
    "import pytz\n",
    "from sklearn.metrics import mean_squared_error, r2_score\n",
    "from math import sqrt"
   ]
  },
  {
   "cell_type": "code",
   "execution_count": 2,
   "metadata": {},
   "outputs": [],
   "source": [
    "X_train = pd.read_csv('../datasets/scaled_train_test/X_train_standard.csv', delimiter=',')\n",
    "X_test = pd.read_csv('../datasets/scaled_train_test/X_test_standard.csv', delimiter=',')\n",
    "y_train = X_train['Value (kWh)']\n",
    "y_test = X_test['Value (kWh)']\n",
    "X_train.drop(['Value (kWh)'], axis=1, inplace=True)\n",
    "X_test.drop(['Value (kWh)'], axis=1, inplace=True)"
   ]
  },
  {
   "cell_type": "markdown",
   "metadata": {},
   "source": [
    "We will split the X_train data further into X_train and X_val, which is going to be our validation set."
   ]
  },
  {
   "cell_type": "code",
   "execution_count": 3,
   "metadata": {},
   "outputs": [],
   "source": [
    "from sklearn.model_selection import train_test_split\n",
    "X_train_v, X_val, y_train_v, y_val = train_test_split(X_train, y_train, random_state=42, test_size=0.8) "
   ]
  },
  {
   "cell_type": "code",
   "execution_count": 4,
   "metadata": {},
   "outputs": [
    {
     "data": {
      "text/plain": [
       "Index(['Pressure (msl) (hPa)', 'Relative humidity (%)',\n",
       "       'Air temperature (degC)', 'Dew-point temperature (degC)',\n",
       "       'Wind speed (m/s)', 'Global radiation (W/m2)', 'Wind_direction',\n",
       "       'Cloud_amount_binary', 'Precipitation_binary', 'hour_of_day',\n",
       "       'day_of_year', 'solar_elev_angle', 'sun_azimuth',\n",
       "       'TheoreticalSolarRadiation'],\n",
       "      dtype='object')"
      ]
     },
     "execution_count": 4,
     "metadata": {},
     "output_type": "execute_result"
    }
   ],
   "source": [
    "X_train_v.columns"
   ]
  },
  {
   "cell_type": "code",
   "execution_count": 5,
   "metadata": {},
   "outputs": [],
   "source": [
    "from sklearn.ensemble import RandomForestRegressor"
   ]
  },
  {
   "cell_type": "markdown",
   "metadata": {},
   "source": [
    "# Hyperparameter tuning for Random Forest"
   ]
  },
  {
   "cell_type": "code",
   "execution_count": 8,
   "metadata": {},
   "outputs": [],
   "source": [
    "rf = RandomForestRegressor()"
   ]
  },
  {
   "cell_type": "code",
   "execution_count": 9,
   "metadata": {},
   "outputs": [],
   "source": [
    "from sklearn.model_selection import GridSearchCV, RandomizedSearchCV\n",
    "from pprint import pprint\n",
    "#source code: https://towardsdatascience.com/hyperparameter-tuning-the-random-forest-in-python-using-scikit-learn-28d2aa77dd74\n",
    "# Number of trees in random forest\n",
    "n_estimators = [1000,2000,3000]\n",
    "# Number of features to consider at every split\n",
    "max_features = ['auto', 'sqrt']\n",
    "# Maximum number of levels in tree\n",
    "max_depth = [int(x) for x in np.linspace(10, 30, num = 3)]\n",
    "max_depth.append(None)\n",
    "# Minimum number of samples required to split a node\n",
    "min_samples_split = [2, 5, 10]\n",
    "# Minimum number of samples required at each leaf node\n",
    "min_samples_leaf = [1, 2, 4]\n",
    "# Method of selecting samples for training each tree\n",
    "bootstrap = [True, False]\n",
    "# Create the random grid\n",
    "random_grid = {'n_estimators': n_estimators,\n",
    "               'max_features': max_features,\n",
    "               'max_depth': max_depth,\n",
    "               'min_samples_split': min_samples_split,\n",
    "               'min_samples_leaf': min_samples_leaf,\n",
    "               'bootstrap': bootstrap}"
   ]
  },
  {
   "cell_type": "code",
   "execution_count": 10,
   "metadata": {},
   "outputs": [
    {
     "data": {
      "text/plain": [
       "[10, 20, 30, None]"
      ]
     },
     "execution_count": 10,
     "metadata": {},
     "output_type": "execute_result"
    }
   ],
   "source": [
    "max_depth"
   ]
  },
  {
   "cell_type": "code",
   "execution_count": 11,
   "metadata": {},
   "outputs": [],
   "source": [
    "rf_random = RandomizedSearchCV(estimator = rf, param_distributions = random_grid, n_iter = 100, cv = 3, verbose=2, random_state=42, n_jobs = 6)"
   ]
  },
  {
   "cell_type": "code",
   "execution_count": 12,
   "metadata": {},
   "outputs": [
    {
     "name": "stdout",
     "output_type": "stream",
     "text": [
      "Fitting 3 folds for each of 100 candidates, totalling 300 fits\n"
     ]
    },
    {
     "name": "stderr",
     "output_type": "stream",
     "text": [
      "[Parallel(n_jobs=6)]: Using backend LokyBackend with 6 concurrent workers.\n",
      "[Parallel(n_jobs=6)]: Done  29 tasks      | elapsed:  2.6min\n",
      "[Parallel(n_jobs=6)]: Done 150 tasks      | elapsed: 13.5min\n",
      "[Parallel(n_jobs=6)]: Done 300 out of 300 | elapsed: 27.1min finished\n"
     ]
    },
    {
     "data": {
      "text/plain": [
       "RandomizedSearchCV(cv=3, error_score=nan,\n",
       "                   estimator=RandomForestRegressor(bootstrap=True,\n",
       "                                                   ccp_alpha=0.0,\n",
       "                                                   criterion='mse',\n",
       "                                                   max_depth=None,\n",
       "                                                   max_features='auto',\n",
       "                                                   max_leaf_nodes=None,\n",
       "                                                   max_samples=None,\n",
       "                                                   min_impurity_decrease=0.0,\n",
       "                                                   min_impurity_split=None,\n",
       "                                                   min_samples_leaf=1,\n",
       "                                                   min_samples_split=2,\n",
       "                                                   min_weight_fraction_leaf=0.0,\n",
       "                                                   n_estimators=100,\n",
       "                                                   n_jobs=None, oob_score=False,\n",
       "                                                   random_state=None, verbose=0,\n",
       "                                                   warm_start=False),\n",
       "                   iid='deprecated', n_iter=100, n_jobs=6,\n",
       "                   param_distributions={'bootstrap': [True, False],\n",
       "                                        'max_depth': [10, 20, 30, None],\n",
       "                                        'max_features': ['auto', 'sqrt'],\n",
       "                                        'min_samples_leaf': [1, 2, 4],\n",
       "                                        'min_samples_split': [2, 5, 10],\n",
       "                                        'n_estimators': [1000, 2000, 3000]},\n",
       "                   pre_dispatch='2*n_jobs', random_state=42, refit=True,\n",
       "                   return_train_score=False, scoring=None, verbose=2)"
      ]
     },
     "execution_count": 12,
     "metadata": {},
     "output_type": "execute_result"
    }
   ],
   "source": [
    "rf_random.fit(X_train_v, y_train_v)"
   ]
  },
  {
   "cell_type": "code",
   "execution_count": 13,
   "metadata": {},
   "outputs": [
    {
     "data": {
      "text/plain": [
       "{'n_estimators': 3000,\n",
       " 'min_samples_split': 5,\n",
       " 'min_samples_leaf': 1,\n",
       " 'max_features': 'sqrt',\n",
       " 'max_depth': 30,\n",
       " 'bootstrap': False}"
      ]
     },
     "execution_count": 13,
     "metadata": {},
     "output_type": "execute_result"
    }
   ],
   "source": [
    "rf_random.best_params_"
   ]
  },
  {
   "cell_type": "code",
   "execution_count": 14,
   "metadata": {},
   "outputs": [],
   "source": [
    "rf_best_param = rf_random.best_params_"
   ]
  },
  {
   "cell_type": "code",
   "execution_count": 15,
   "metadata": {},
   "outputs": [],
   "source": [
    "import pickle\n",
    "pickle.dump(rf_best_param, open( \"rf_best_param_CV.p\", \"wb\" ) )"
   ]
  },
  {
   "cell_type": "code",
   "execution_count": 6,
   "metadata": {},
   "outputs": [],
   "source": [
    "def evaluate(model, X, y):\n",
    "    y_pred = model.predict(X)\n",
    "    print('Model Performance')\n",
    "    print('mse: {}'.format(mean_squared_error(y, y_pred)))\n",
    "    print('rmse: {}'.format(sqrt(mean_squared_error(y, y_pred))))\n",
    "    print('r2: {}'.format(r2_score(y, y_pred)))"
   ]
  },
  {
   "cell_type": "code",
   "execution_count": 7,
   "metadata": {},
   "outputs": [],
   "source": [
    "rf = RandomForestRegressor(n_estimators=3000,\n",
    " min_samples_split= 5,\n",
    " min_samples_leaf= 1,\n",
    " max_features= 'sqrt',\n",
    " max_depth= 30,\n",
    " bootstrap= False,\n",
    " n_jobs=-1, \n",
    " random_state=42)"
   ]
  },
  {
   "cell_type": "code",
   "execution_count": 8,
   "metadata": {},
   "outputs": [
    {
     "data": {
      "text/plain": [
       "RandomForestRegressor(bootstrap=False, ccp_alpha=0.0, criterion='mse',\n",
       "                      max_depth=30, max_features='sqrt', max_leaf_nodes=None,\n",
       "                      max_samples=None, min_impurity_decrease=0.0,\n",
       "                      min_impurity_split=None, min_samples_leaf=1,\n",
       "                      min_samples_split=5, min_weight_fraction_leaf=0.0,\n",
       "                      n_estimators=3000, n_jobs=-1, oob_score=False,\n",
       "                      random_state=42, verbose=0, warm_start=False)"
      ]
     },
     "execution_count": 8,
     "metadata": {},
     "output_type": "execute_result"
    }
   ],
   "source": [
    "rf.fit(X_train_v, y_train_v)"
   ]
  },
  {
   "cell_type": "markdown",
   "metadata": {},
   "source": [
    "Evaluation on training data"
   ]
  },
  {
   "cell_type": "code",
   "execution_count": 9,
   "metadata": {
    "scrolled": true
   },
   "outputs": [
    {
     "name": "stdout",
     "output_type": "stream",
     "text": [
      "Model Performance\n",
      "mse: 0.0019102114747468059\n",
      "rmse: 0.043705966123022674\n",
      "r2: 0.9980965968193543\n"
     ]
    }
   ],
   "source": [
    "evaluate(rf,X_train_v,y_train_v)"
   ]
  },
  {
   "cell_type": "markdown",
   "metadata": {},
   "source": [
    "Evaluation on validation data"
   ]
  },
  {
   "cell_type": "code",
   "execution_count": 10,
   "metadata": {
    "scrolled": true
   },
   "outputs": [
    {
     "name": "stdout",
     "output_type": "stream",
     "text": [
      "Model Performance\n",
      "mse: 0.06334051346510983\n",
      "rmse: 0.25167541291335915\n",
      "r2: 0.9366020743000056\n"
     ]
    }
   ],
   "source": [
    "evaluate(rf, X_val, y_val)"
   ]
  },
  {
   "cell_type": "markdown",
   "metadata": {},
   "source": [
    "Evaluation on test data"
   ]
  },
  {
   "cell_type": "code",
   "execution_count": 11,
   "metadata": {
    "scrolled": true
   },
   "outputs": [
    {
     "name": "stdout",
     "output_type": "stream",
     "text": [
      "Model Performance\n",
      "mse: 0.0637442599594437\n",
      "rmse: 0.25247625622906344\n",
      "r2: 0.9353805128620167\n"
     ]
    }
   ],
   "source": [
    "evaluate(rf, X_test, y_test)"
   ]
  },
  {
   "cell_type": "code",
   "execution_count": 12,
   "metadata": {},
   "outputs": [
    {
     "data": {
      "text/plain": [
       "Text(0.5, 1.0, 'Evaluation of Random Forest Predictions')"
      ]
     },
     "execution_count": 12,
     "metadata": {},
     "output_type": "execute_result"
    },
    {
     "data": {
      "image/png": "[encoded data removed]",
      "text/plain": [
       "<Figure size 432x288 with 1 Axes>"
      ]
     },
     "metadata": {
      "needs_background": "light"
     },
     "output_type": "display_data"
    }
   ],
   "source": [
    "plt.scatter(y_test, rf.predict(X_test))\n",
    "plt.xlabel('True Produced Energy')\n",
    "plt.ylabel('Predicted Produced Energy')\n",
    "plt.title('Evaluation of Random Forest Predictions')"
   ]
  },
  {
   "cell_type": "code",
   "execution_count": 13,
   "metadata": {},
   "outputs": [
    {
     "data": {
      "text/plain": [
       "Text(0.5, 1.0, 'Error distribution')"
      ]
     },
     "execution_count": 13,
     "metadata": {},
     "output_type": "execute_result"
    },
    {
     "data": {
      "image/png": "[encoded data removed]",
      "text/plain": [
       "<Figure size 432x288 with 1 Axes>"
      ]
     },
     "metadata": {
      "needs_background": "light"
     },
     "output_type": "display_data"
    }
   ],
   "source": [
    "# let's evaluate the distribution of the errors: \n",
    "# they should be fairly normally distributed\n",
    "\n",
    "errors = y_test - rf.predict(X_test)\n",
    "errors.hist(bins=30)\n",
    "plt.title('Error distribution')"
   ]
  },
  {
   "cell_type": "code",
   "execution_count": 14,
   "metadata": {
    "scrolled": true
   },
   "outputs": [
    {
     "name": "stdout",
     "output_type": "stream",
     "text": [
      "Feature importances:  [0.00770888 0.07690024 0.04712275 0.01067861 0.00625648 0.33462002\n",
      " 0.00773389 0.02464813 0.00194762 0.04271398 0.01299678 0.10570291\n",
      " 0.04668671 0.27428303]\n"
     ]
    },
    {
     "data": {
      "text/plain": [
       "Text(0.5, 1.0, 'Feature importances')"
      ]
     },
     "execution_count": 14,
     "metadata": {},
     "output_type": "execute_result"
    },
    {
     "data": {
      "image/png": "[encoded data removed]",
      "text/plain": [
       "<Figure size 432x288 with 1 Axes>"
      ]
     },
     "metadata": {
      "needs_background": "light"
     },
     "output_type": "display_data"
    }
   ],
   "source": [
    "print(\"Feature importances: \", rf.feature_importances_)\n",
    "plt.bar(x=X_train.columns,height=rf.feature_importances_);\n",
    "plt.xticks(rotation='vertical');\n",
    "plt.title('Feature importances')"
   ]
  },
  {
   "cell_type": "markdown",
   "metadata": {},
   "source": [
    "Because Github has around a 100MB as the maximum allowed file size to be uploaded and we do not have our python package as a private repository on an index server, we will use the following compression (such as below) of our .pkl file with joblib."
   ]
  },
  {
   "cell_type": "code",
   "execution_count": 36,
   "metadata": {},
   "outputs": [
    {
     "data": {
      "text/plain": [
       "['test_random_forest_no_compress.pkl']"
      ]
     },
     "execution_count": 36,
     "metadata": {},
     "output_type": "execute_result"
    }
   ],
   "source": [
    "import joblib\n",
    "joblib.dump(rf, 'test_random_forest_no_compress.pkl', compress=3)"
   ]
  },
  {
   "cell_type": "markdown",
   "metadata": {},
   "source": [
    "The file size with current compression tunes down to 350MB with the pipeline. This is too large for Github, we will have to degrade the model, perhaps with less trees and see if that would work and yield satisfactory results. In real life scenario, it is possible to use plenty of tools to deploy larger files with quite a small induced cost. This project is done with free tools, though."
   ]
  },
  {
   "cell_type": "markdown",
   "metadata": {},
   "source": [
    "# Compressing the model size by reducing the number of trees"
   ]
  },
  {
   "cell_type": "code",
   "execution_count": 15,
   "metadata": {},
   "outputs": [],
   "source": [
    "rf = RandomForestRegressor(n_estimators=500,\n",
    " min_samples_split= 5,\n",
    " min_samples_leaf= 1,\n",
    " max_features= 'sqrt',\n",
    " max_depth= 30,\n",
    " bootstrap= False,\n",
    " n_jobs=-1, \n",
    " random_state=42)"
   ]
  },
  {
   "cell_type": "code",
   "execution_count": 16,
   "metadata": {},
   "outputs": [
    {
     "data": {
      "text/plain": [
       "RandomForestRegressor(bootstrap=False, ccp_alpha=0.0, criterion='mse',\n",
       "                      max_depth=30, max_features='sqrt', max_leaf_nodes=None,\n",
       "                      max_samples=None, min_impurity_decrease=0.0,\n",
       "                      min_impurity_split=None, min_samples_leaf=1,\n",
       "                      min_samples_split=5, min_weight_fraction_leaf=0.0,\n",
       "                      n_estimators=500, n_jobs=-1, oob_score=False,\n",
       "                      random_state=42, verbose=0, warm_start=False)"
      ]
     },
     "execution_count": 16,
     "metadata": {},
     "output_type": "execute_result"
    }
   ],
   "source": [
    "rf.fit(X_train_v, y_train_v)"
   ]
  },
  {
   "cell_type": "markdown",
   "metadata": {},
   "source": [
    "Evaluation on training data"
   ]
  },
  {
   "cell_type": "code",
   "execution_count": 17,
   "metadata": {
    "scrolled": true
   },
   "outputs": [
    {
     "name": "stdout",
     "output_type": "stream",
     "text": [
      "Model Performance\n",
      "mse: 0.001919112030828652\n",
      "rmse: 0.04380767091307928\n",
      "r2: 0.998087727986254\n"
     ]
    }
   ],
   "source": [
    "evaluate(rf,X_train_v,y_train_v)"
   ]
  },
  {
   "cell_type": "markdown",
   "metadata": {},
   "source": [
    "Evaluation on validation data"
   ]
  },
  {
   "cell_type": "code",
   "execution_count": 18,
   "metadata": {
    "scrolled": true
   },
   "outputs": [
    {
     "name": "stdout",
     "output_type": "stream",
     "text": [
      "Model Performance\n",
      "mse: 0.06344031769349402\n",
      "rmse: 0.2518736145242173\n",
      "r2: 0.936502179608449\n"
     ]
    }
   ],
   "source": [
    "evaluate(rf, X_val, y_val)"
   ]
  },
  {
   "cell_type": "markdown",
   "metadata": {},
   "source": [
    "Evaluation on test data"
   ]
  },
  {
   "cell_type": "code",
   "execution_count": 19,
   "metadata": {
    "scrolled": true
   },
   "outputs": [
    {
     "name": "stdout",
     "output_type": "stream",
     "text": [
      "Model Performance\n",
      "mse: 0.06390730423072429\n",
      "rmse: 0.25279894032753436\n",
      "r2: 0.9352152299455998\n"
     ]
    }
   ],
   "source": [
    "evaluate(rf, X_test, y_test)"
   ]
  },
  {
   "cell_type": "code",
   "execution_count": 20,
   "metadata": {},
   "outputs": [
    {
     "data": {
      "text/plain": [
       "Text(0.5, 1.0, 'Evaluation of Random Forest Predictions')"
      ]
     },
     "execution_count": 20,
     "metadata": {},
     "output_type": "execute_result"
    },
    {
     "data": {
      "image/png": "[encoded data removed]",
      "text/plain": [
       "<Figure size 432x288 with 1 Axes>"
      ]
     },
     "metadata": {
      "needs_background": "light"
     },
     "output_type": "display_data"
    }
   ],
   "source": [
    "plt.scatter(y_test, rf.predict(X_test))\n",
    "plt.xlabel('True Produced Energy')\n",
    "plt.ylabel('Predicted Produced Energy')\n",
    "plt.title('Evaluation of Random Forest Predictions')"
   ]
  },
  {
   "cell_type": "code",
   "execution_count": 21,
   "metadata": {},
   "outputs": [
    {
     "data": {
      "text/plain": [
       "Text(0.5, 1.0, 'Error distribution')"
      ]
     },
     "execution_count": 21,
     "metadata": {},
     "output_type": "execute_result"
    },
    {
     "data": {
      "image/png": "[encoded data removed]",
      "text/plain": [
       "<Figure size 432x288 with 1 Axes>"
      ]
     },
     "metadata": {
      "needs_background": "light"
     },
     "output_type": "display_data"
    }
   ],
   "source": [
    "# let's evaluate the distribution of the errors: \n",
    "# they should be fairly normally distributed\n",
    "\n",
    "errors = y_test - rf.predict(X_test)\n",
    "errors.hist(bins=30)\n",
    "plt.title('Error distribution')"
   ]
  },
  {
   "cell_type": "code",
   "execution_count": 22,
   "metadata": {
    "scrolled": true
   },
   "outputs": [
    {
     "name": "stdout",
     "output_type": "stream",
     "text": [
      "Feature importances:  [0.00779272 0.07799503 0.04502809 0.01073704 0.00620061 0.34393514\n",
      " 0.00778061 0.02346115 0.00182988 0.03638759 0.0119217  0.1000072\n",
      " 0.04699967 0.27992357]\n"
     ]
    },
    {
     "data": {
      "text/plain": [
       "Text(0.5, 1.0, 'Feature importances')"
      ]
     },
     "execution_count": 22,
     "metadata": {},
     "output_type": "execute_result"
    },
    {
     "data": {
      "image/png": "[encoded data removed]",
      "text/plain": [
       "<Figure size 432x288 with 1 Axes>"
      ]
     },
     "metadata": {
      "needs_background": "light"
     },
     "output_type": "display_data"
    }
   ],
   "source": [
    "print(\"Feature importances: \", rf.feature_importances_)\n",
    "plt.bar(x=X_train.columns,height=rf.feature_importances_);\n",
    "plt.xticks(rotation='vertical');\n",
    "plt.title('Feature importances')"
   ]
  },
  {
   "cell_type": "markdown",
   "metadata": {},
   "source": [
    "# Comparison of methods: \n",
    "\n",
    "I will also place this table in the header of the notebook\n",
    "\n",
    "- 3000 trees RF hyperparameter tuned\n",
    "- 500 trees RF with same hyperparameters\n",
    "- Generic 300-200-100 3 hidden layers NN architecture from the other notebook"
   ]
  },
  {
   "cell_type": "markdown",
   "metadata": {},
   "source": [
    "|      | 3000 trees RF | 500 trees RF | 300-200-100 NN |\n",
    "|:----:|:-------------:|:------------:|:--------------:|\n",
    "|  mse |     0.0637    |    0.0639    |     0.0791     |\n",
    "| rmse |     0.2524    |    0.2527    |     0.2813     |\n",
    "|  r2  |     0.9353    |    0.9352    |     0.9197     |"
   ]
  },
  {
   "cell_type": "code",
   "execution_count": null,
   "metadata": {},
   "outputs": [],
   "source": []
  }
 ],
 "metadata": {
  "kernelspec": {
   "display_name": "Python 3",
   "language": "python",
   "name": "python3"
  },
  "language_info": {
   "codemirror_mode": {
    "name": "ipython",
    "version": 3
   },
   "file_extension": ".py",
   "mimetype": "text/x-python",
   "name": "python",
   "nbconvert_exporter": "python",
   "pygments_lexer": "ipython3",
   "version": "3.8.3rc1"
  }
 },
 "nbformat": 4,
 "nbformat_minor": 2
}
