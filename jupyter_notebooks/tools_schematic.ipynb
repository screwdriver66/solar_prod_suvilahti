{
 "cells": [
  {
   "cell_type": "markdown",
   "metadata": {},
   "source": [
    "# Schematic description of how the package and the API would works"
   ]
  },
  {
   "cell_type": "markdown",
   "metadata": {},
   "source": [
    "#### Sources: \n",
    "\n",
    "- [x] https://christophergs.com/machine%20learning/2019/03/17/how-to-deploy-machine-learning-models/\n",
    "- https://christophergs.com/machine%20learning/2019/03/30/deploying-machine-learning-applications-in-shadow-mode\n",
    "- https://christophergs.com/machine%20learning/2020/03/14/how-to-monitor-machine-learning-models/\n",
    "- https://landing.google.com/sre/sre-book/chapters/testing-reliability/\n",
    "- https://medium.com/@copyconstruct/monitoring-in-the-time-of-cloud-native-c87c7a5bfa3e\n",
    "- https://cloud.google.com/blog/products/gcp/cre-life-lessons-what-is-a-dark-launch-and-what-does-it-do-for-me\n",
    "- https://martinfowler.com/articles/feature-toggles.html\n",
    "- [x] https://cloud.google.com/solutions/machine-learning/mlops-continuous-delivery-and-automation-pipelines-in-machine-learning\n",
    "- [x] https://cloud.google.com/blog/products/ai-machine-learning/itau-unibanco-how-we-built-a-cicd-pipeline-for-machine-learning-with-online-training-in-kubeflow\n",
    "- https://research.google/pubs/pub43146/\n",
    "- https://papers.nips.cc/paper/5656-hidden-technical-debt-in-machine-learning-systems.pdf\n",
    "- https://developers.google.com/machine-learning/guides/rules-of-ml/?_ga=2.89822301.795599377.1589120394-1535751243.1572158536#training-serving_skew\n",
    "- https://www.forbes.com/sites/forbestechcouncil/2019/04/03/why-machine-learning-models-crash-and-burn-in-production/#61e8b1f92f43\n",
    "- https://developers.google.com/machine-learning/testing-debugging"
   ]
  },
  {
   "cell_type": "markdown",
   "metadata": {},
   "source": [
    "#### Helpful testing tools:\n",
    "- https://github.com/ionelmc/pytest-benchmark\n",
    "- https://github.com/kubeflow/kubeflow\n",
    "- https://netflixtechblog.com/scheduling-notebooks-348e6c14cfd6\n",
    "- https://flask.palletsprojects.com/en/1.0.x/blueprints/\n",
    "- https://dzone.com/articles/schema-first-api-design\n"
   ]
  },
  {
   "cell_type": "markdown",
   "metadata": {},
   "source": [
    "Code repository - Github: https://github.com/screwdriver66/solar_prod_suvilahti\n",
    "\n",
    "The model includes two parts: \n",
    "- A trained model package\n",
    "- API that has GET and POST endpoints to work with the trained model\n",
    "\n",
    "#### Use cases: \n",
    "A user can install the package from a resource. He might use the package in his script the following way:\n",
    "\n",
    ">\t\timport solar_prod_suvilahti\n",
    "\t\n",
    "Then later in the script use: \n",
    "\t\t\n",
    ">\t\tget_forecast()\n"
   ]
  },
  {
   "cell_type": "markdown",
   "metadata": {},
   "source": [
    "circleci - for continuous integration end deployment\n",
    "\n",
    "post the package to gemfury, so that people can install it properly\n",
    "- but what is inside the installation? \n",
    "- and where is the model?\n",
    "- what do we need heroku for?"
   ]
  },
  {
   "cell_type": "markdown",
   "metadata": {},
   "source": [
    "# Testing in CI/CD pipeline\n",
    "\n",
    "First of all, the process of CI/CD integration should not retrain the model online. It is computationally too expensive. We retrain the model offline.\n",
    "\n",
    "Thus, if we make changes to the feature engineering pipeline, pipeline inputs and so on- we need to retrain the model. This happens offline. Thus, we need to create a set of tests that would reflect these requirements. \n",
    "\n",
    "Something like: \n",
    "if there are changes to the features, then circleci needs to find a .pkl file and updated version file."
   ]
  }
 ],
 "metadata": {
  "kernelspec": {
   "display_name": "Python 3",
   "language": "python",
   "name": "python3"
  },
  "language_info": {
   "codemirror_mode": {
    "name": "ipython",
    "version": 3
   },
   "file_extension": ".py",
   "mimetype": "text/x-python",
   "name": "python",
   "nbconvert_exporter": "python",
   "pygments_lexer": "ipython3",
   "version": "3.8.3rc1"
  }
 },
 "nbformat": 4,
 "nbformat_minor": 4
}
