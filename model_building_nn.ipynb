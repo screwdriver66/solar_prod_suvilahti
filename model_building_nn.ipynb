{
 "cells": [
  {
   "cell_type": "code",
   "execution_count": 1,
   "metadata": {},
   "outputs": [],
   "source": [
    "import numpy as np\n",
    "import pandas as pd\n",
    "import seaborn as sns\n",
    "from matplotlib import pyplot as plt\n",
    "import pytz\n",
    "from sklearn.metrics import mean_squared_error, r2_score\n",
    "from math import sqrt\n",
    "\n",
    "try:\n",
    "  # Use the %tensorflow_version magic if in colab.\n",
    "  %tensorflow_version 2.x\n",
    "except Exception:\n",
    "  pass"
   ]
  },
  {
   "cell_type": "code",
   "execution_count": 2,
   "metadata": {},
   "outputs": [],
   "source": [
    "X_train = pd.read_csv('../datasets/scaled_train_test/X_train_standard.csv', delimiter=',')\n",
    "X_test = pd.read_csv('../datasets/scaled_train_test/X_test_standard.csv', delimiter=',')\n",
    "y_train = X_train['Value (kWh)']\n",
    "y_test = X_test['Value (kWh)']\n",
    "X_train.drop(['Value (kWh)'], axis=1, inplace=True)\n",
    "X_test.drop(['Value (kWh)'], axis=1, inplace=True)"
   ]
  },
  {
   "cell_type": "code",
   "execution_count": 73,
   "metadata": {},
   "outputs": [
    {
     "data": {
      "text/plain": [
       "Index(['Pressure (msl) (hPa)', 'Relative humidity (%)',\n",
       "       'Air temperature (degC)', 'Dew-point temperature (degC)',\n",
       "       'Wind speed (m/s)', 'Global radiation (W/m2)', 'Wind_direction',\n",
       "       'Cloud_amount_binary', 'Precipitation_binary', 'hour_of_day',\n",
       "       'day_of_year', 'solar_elev_angle', 'sun_azimuth'],\n",
       "      dtype='object')"
      ]
     },
     "execution_count": 73,
     "metadata": {},
     "output_type": "execute_result"
    }
   ],
   "source": [
    "X_test.columns"
   ]
  },
  {
   "cell_type": "code",
   "execution_count": 3,
   "metadata": {},
   "outputs": [
    {
     "name": "stderr",
     "output_type": "stream",
     "text": [
      "C:\\Users\\screwdriver\\Anaconda3\\lib\\site-packages\\tensorflow\\python\\framework\\dtypes.py:519: FutureWarning: Passing (type, 1) or '1type' as a synonym of type is deprecated; in a future version of numpy, it will be understood as (type, (1,)) / '(1,)type'.\n",
      "  _np_qint8 = np.dtype([(\"qint8\", np.int8, 1)])\n",
      "C:\\Users\\screwdriver\\Anaconda3\\lib\\site-packages\\tensorflow\\python\\framework\\dtypes.py:520: FutureWarning: Passing (type, 1) or '1type' as a synonym of type is deprecated; in a future version of numpy, it will be understood as (type, (1,)) / '(1,)type'.\n",
      "  _np_quint8 = np.dtype([(\"quint8\", np.uint8, 1)])\n",
      "C:\\Users\\screwdriver\\Anaconda3\\lib\\site-packages\\tensorflow\\python\\framework\\dtypes.py:521: FutureWarning: Passing (type, 1) or '1type' as a synonym of type is deprecated; in a future version of numpy, it will be understood as (type, (1,)) / '(1,)type'.\n",
      "  _np_qint16 = np.dtype([(\"qint16\", np.int16, 1)])\n",
      "C:\\Users\\screwdriver\\Anaconda3\\lib\\site-packages\\tensorflow\\python\\framework\\dtypes.py:522: FutureWarning: Passing (type, 1) or '1type' as a synonym of type is deprecated; in a future version of numpy, it will be understood as (type, (1,)) / '(1,)type'.\n",
      "  _np_quint16 = np.dtype([(\"quint16\", np.uint16, 1)])\n",
      "C:\\Users\\screwdriver\\Anaconda3\\lib\\site-packages\\tensorflow\\python\\framework\\dtypes.py:523: FutureWarning: Passing (type, 1) or '1type' as a synonym of type is deprecated; in a future version of numpy, it will be understood as (type, (1,)) / '(1,)type'.\n",
      "  _np_qint32 = np.dtype([(\"qint32\", np.int32, 1)])\n",
      "C:\\Users\\screwdriver\\Anaconda3\\lib\\site-packages\\tensorflow\\python\\framework\\dtypes.py:528: FutureWarning: Passing (type, 1) or '1type' as a synonym of type is deprecated; in a future version of numpy, it will be understood as (type, (1,)) / '(1,)type'.\n",
      "  np_resource = np.dtype([(\"resource\", np.ubyte, 1)])\n"
     ]
    }
   ],
   "source": [
    "import tensorflow as tf\n",
    "keras = tf.keras\n",
    "keras.backend.clear_session()\n",
    "# tf.random.set_seed(42)\n",
    "np.random.seed(42)"
   ]
  },
  {
   "cell_type": "code",
   "execution_count": 4,
   "metadata": {},
   "outputs": [],
   "source": [
    "class ResetStatesCallback(keras.callbacks.Callback):\n",
    "    def on_epoch_begin(self, epoch, logs):\n",
    "        self.model.reset_states()"
   ]
  },
  {
   "cell_type": "markdown",
   "metadata": {},
   "source": [
    "We will split the X_train data further into X_train and X_val, which is going to be our validation set."
   ]
  },
  {
   "cell_type": "code",
   "execution_count": 5,
   "metadata": {},
   "outputs": [],
   "source": [
    "from sklearn.model_selection import train_test_split"
   ]
  },
  {
   "cell_type": "code",
   "execution_count": 22,
   "metadata": {},
   "outputs": [],
   "source": [
    "X_train_v, X_val, y_train_v, y_val = train_test_split(X_train, y_train, random_state=42, test_size=0.8) "
   ]
  },
  {
   "cell_type": "code",
   "execution_count": 23,
   "metadata": {},
   "outputs": [
    {
     "ename": "AttributeError",
     "evalue": "module 'tensorflow.tools.api.generator.api.keras.losses' has no attribute 'Huber'",
     "output_type": "error",
     "traceback": [
      "\u001b[1;31m---------------------------------------------------------------------------\u001b[0m",
      "\u001b[1;31mAttributeError\u001b[0m                            Traceback (most recent call last)",
      "\u001b[1;32m<ipython-input-23-802788f71c85>\u001b[0m in \u001b[0;36m<module>\u001b[1;34m\u001b[0m\n\u001b[0;32m      5\u001b[0m \u001b[0mreset_states\u001b[0m \u001b[1;33m=\u001b[0m \u001b[0mResetStatesCallback\u001b[0m\u001b[1;33m(\u001b[0m\u001b[1;33m)\u001b[0m\u001b[1;33m\u001b[0m\u001b[0m\n\u001b[0;32m      6\u001b[0m \u001b[0moptimizer\u001b[0m \u001b[1;33m=\u001b[0m \u001b[0mkeras\u001b[0m\u001b[1;33m.\u001b[0m\u001b[0moptimizers\u001b[0m\u001b[1;33m.\u001b[0m\u001b[0mSGD\u001b[0m\u001b[1;33m(\u001b[0m\u001b[0mlr\u001b[0m\u001b[1;33m=\u001b[0m\u001b[1;36m1e-8\u001b[0m\u001b[1;33m,\u001b[0m \u001b[0mmomentum\u001b[0m\u001b[1;33m=\u001b[0m\u001b[1;36m0.9\u001b[0m\u001b[1;33m)\u001b[0m\u001b[1;33m\u001b[0m\u001b[0m\n\u001b[1;32m----> 7\u001b[1;33m \u001b[0mnn\u001b[0m\u001b[1;33m.\u001b[0m\u001b[0mcompile\u001b[0m\u001b[1;33m(\u001b[0m\u001b[0moptimizer\u001b[0m\u001b[1;33m=\u001b[0m\u001b[0moptimizer\u001b[0m\u001b[1;33m,\u001b[0m \u001b[0mloss\u001b[0m\u001b[1;33m=\u001b[0m\u001b[0mkeras\u001b[0m\u001b[1;33m.\u001b[0m\u001b[0mlosses\u001b[0m\u001b[1;33m.\u001b[0m\u001b[0mHuber\u001b[0m\u001b[1;33m(\u001b[0m\u001b[1;33m)\u001b[0m\u001b[1;33m,\u001b[0m \u001b[0mmetrics\u001b[0m\u001b[1;33m=\u001b[0m\u001b[1;33m[\u001b[0m\u001b[1;34m'mae'\u001b[0m\u001b[1;33m]\u001b[0m\u001b[1;33m)\u001b[0m\u001b[1;33m\u001b[0m\u001b[0m\n\u001b[0m",
      "\u001b[1;31mAttributeError\u001b[0m: module 'tensorflow.tools.api.generator.api.keras.losses' has no attribute 'Huber'"
     ]
    }
   ],
   "source": [
    "nn = keras.models.Sequential()\n",
    "nn.add(keras.layers.Dense(30, activation='relu', input_shape=X_train_v.shape[1:]))\n",
    "nn.add(keras.layers.Dense(1))\n",
    "lr_schedule = keras.callbacks.LearningRateScheduler(lambda epoch: 1e-8 * 10**(epoch / 20))\n",
    "reset_states = ResetStatesCallback()\n",
    "optimizer = keras.optimizers.SGD(lr=1e-8, momentum=0.9)\n",
    "nn.compile(optimizer=optimizer, loss='mean_squared_error')"
   ]
  },
  {
   "cell_type": "code",
   "execution_count": 84,
   "metadata": {},
   "outputs": [
    {
     "data": {
      "text/plain": [
       "(6759,)"
      ]
     },
     "execution_count": 84,
     "metadata": {},
     "output_type": "execute_result"
    }
   ],
   "source": [
    "y_train_v.shape"
   ]
  },
  {
   "cell_type": "code",
   "execution_count": 13,
   "metadata": {},
   "outputs": [
    {
     "name": "stdout",
     "output_type": "stream",
     "text": [
      "Train on 6759 samples, validate on 27037 samples\n",
      "Epoch 1/100\n",
      "6759/6759 [==============================] - 1s 102us/step - loss: 1.3797 - val_loss: 1.3657\n",
      "Epoch 2/100\n",
      "6759/6759 [==============================] - 0s 65us/step - loss: 1.3794 - val_loss: 1.3654\n",
      "Epoch 3/100\n",
      "6759/6759 [==============================] - 0s 70us/step - loss: 1.3790 - val_loss: 1.3651\n",
      "Epoch 4/100\n",
      "6759/6759 [==============================] - 0s 74us/step - loss: 1.3787 - val_loss: 1.3647\n",
      "Epoch 5/100\n",
      "6759/6759 [==============================] - 0s 66us/step - loss: 1.3783 - val_loss: 1.3643\n",
      "Epoch 6/100\n",
      "6759/6759 [==============================] - 0s 67us/step - loss: 1.3778 - val_loss: 1.3638\n",
      "Epoch 7/100\n",
      "6759/6759 [==============================] - 0s 64us/step - loss: 1.3773 - val_loss: 1.3633\n",
      "Epoch 8/100\n",
      "6759/6759 [==============================] - 0s 69us/step - loss: 1.3767 - val_loss: 1.3627\n",
      "Epoch 9/100\n",
      "6759/6759 [==============================] - 0s 74us/step - loss: 1.3761 - val_loss: 1.3620\n",
      "Epoch 10/100\n",
      "6759/6759 [==============================] - 1s 75us/step - loss: 1.3753 - val_loss: 1.3612\n",
      "Epoch 11/100\n",
      "6759/6759 [==============================] - 0s 72us/step - loss: 1.3745 - val_loss: 1.3604\n",
      "Epoch 12/100\n",
      "6759/6759 [==============================] - 0s 66us/step - loss: 1.3736 - val_loss: 1.3595\n",
      "Epoch 13/100\n",
      "6759/6759 [==============================] - 0s 64us/step - loss: 1.3726 - val_loss: 1.3584\n",
      "Epoch 14/100\n",
      "6759/6759 [==============================] - 0s 68us/step - loss: 1.3714 - val_loss: 1.3572\n",
      "Epoch 15/100\n",
      "6759/6759 [==============================] - 0s 69us/step - loss: 1.3701 - val_loss: 1.3559\n",
      "Epoch 16/100\n",
      "6759/6759 [==============================] - 0s 72us/step - loss: 1.3687 - val_loss: 1.3544\n",
      "Epoch 17/100\n",
      "6759/6759 [==============================] - 0s 68us/step - loss: 1.3671 - val_loss: 1.3527\n",
      "Epoch 18/100\n",
      "6759/6759 [==============================] - 1s 93us/step - loss: 1.3653 - val_loss: 1.3509\n",
      "Epoch 19/100\n",
      "6759/6759 [==============================] - 1s 75us/step - loss: 1.3632 - val_loss: 1.3488\n",
      "Epoch 20/100\n",
      "6759/6759 [==============================] - 0s 67us/step - loss: 1.3609 - val_loss: 1.3464\n",
      "Epoch 21/100\n",
      "6759/6759 [==============================] - 1s 76us/step - loss: 1.3584 - val_loss: 1.3438\n",
      "Epoch 22/100\n",
      "6759/6759 [==============================] - 0s 70us/step - loss: 1.3555 - val_loss: 1.3408\n",
      "Epoch 23/100\n",
      "6759/6759 [==============================] - 0s 65us/step - loss: 1.3524 - val_loss: 1.3376\n",
      "Epoch 24/100\n",
      "6759/6759 [==============================] - 0s 65us/step - loss: 1.3488 - val_loss: 1.3339\n",
      "Epoch 25/100\n",
      "6759/6759 [==============================] - 0s 65us/step - loss: 1.3448 - val_loss: 1.3298\n",
      "Epoch 26/100\n",
      "6759/6759 [==============================] - 0s 66us/step - loss: 1.3404 - val_loss: 1.3252\n",
      "Epoch 27/100\n",
      "6759/6759 [==============================] - 0s 66us/step - loss: 1.3354 - val_loss: 1.3200\n",
      "Epoch 28/100\n",
      "6759/6759 [==============================] - 0s 65us/step - loss: 1.3299 - val_loss: 1.3144\n",
      "Epoch 29/100\n",
      "6759/6759 [==============================] - 0s 66us/step - loss: 1.3237 - val_loss: 1.3081\n",
      "Epoch 30/100\n",
      "6759/6759 [==============================] - 0s 69us/step - loss: 1.3169 - val_loss: 1.3011\n",
      "Epoch 31/100\n",
      "6759/6759 [==============================] - 0s 73us/step - loss: 1.3092 - val_loss: 1.2931\n",
      "Epoch 32/100\n",
      "6759/6759 [==============================] - 0s 65us/step - loss: 1.3008 - val_loss: 1.2844\n",
      "Epoch 33/100\n",
      "6759/6759 [==============================] - 0s 65us/step - loss: 1.2914 - val_loss: 1.2747\n",
      "Epoch 34/100\n",
      "6759/6759 [==============================] - 0s 65us/step - loss: 1.2809 - val_loss: 1.2641\n",
      "Epoch 35/100\n",
      "6759/6759 [==============================] - 0s 69us/step - loss: 1.2694 - val_loss: 1.2522\n",
      "Epoch 36/100\n",
      "6759/6759 [==============================] - 0s 72us/step - loss: 1.2566 - val_loss: 1.2391\n",
      "Epoch 37/100\n",
      "6759/6759 [==============================] - 0s 70us/step - loss: 1.2425 - val_loss: 1.2245\n",
      "Epoch 38/100\n",
      "6759/6759 [==============================] - 1s 76us/step - loss: 1.2269 - val_loss: 1.2086\n",
      "Epoch 39/100\n",
      "6759/6759 [==============================] - 0s 68us/step - loss: 1.2099 - val_loss: 1.1912\n",
      "Epoch 40/100\n",
      "6759/6759 [==============================] - 1s 74us/step - loss: 1.1912 - val_loss: 1.1722\n",
      "Epoch 41/100\n",
      "6759/6759 [==============================] - 0s 73us/step - loss: 1.1707 - val_loss: 1.1512\n",
      "Epoch 42/100\n",
      "6759/6759 [==============================] - 0s 69us/step - loss: 1.1485 - val_loss: 1.1284\n",
      "Epoch 43/100\n",
      "6759/6759 [==============================] - 0s 69us/step - loss: 1.1241 - val_loss: 1.1037\n",
      "Epoch 44/100\n",
      "6759/6759 [==============================] - 0s 67us/step - loss: 1.0978 - val_loss: 1.0770\n",
      "Epoch 45/100\n",
      "6759/6759 [==============================] - 0s 66us/step - loss: 1.0694 - val_loss: 1.0480\n",
      "Epoch 46/100\n",
      "6759/6759 [==============================] - 0s 70us/step - loss: 1.0388 - val_loss: 1.0171\n",
      "Epoch 47/100\n",
      "6759/6759 [==============================] - 0s 69us/step - loss: 1.0061 - val_loss: 0.9841\n",
      "Epoch 48/100\n",
      "6759/6759 [==============================] - 0s 66us/step - loss: 0.9712 - val_loss: 0.9490\n",
      "Epoch 49/100\n",
      "6759/6759 [==============================] - 0s 69us/step - loss: 0.9342 - val_loss: 0.9115\n",
      "Epoch 50/100\n",
      "6759/6759 [==============================] - 0s 68us/step - loss: 0.8952 - val_loss: 0.8725\n",
      "Epoch 51/100\n",
      "6759/6759 [==============================] - 0s 66us/step - loss: 0.8550 - val_loss: 0.8321\n",
      "Epoch 52/100\n",
      "6759/6759 [==============================] - 0s 67us/step - loss: 0.8132 - val_loss: 0.7904\n",
      "Epoch 53/100\n",
      "6759/6759 [==============================] - 1s 75us/step - loss: 0.7701 - val_loss: 0.7476\n",
      "Epoch 54/100\n",
      "6759/6759 [==============================] - 0s 71us/step - loss: 0.7258 - val_loss: 0.7038\n",
      "Epoch 55/100\n",
      "6759/6759 [==============================] - 0s 74us/step - loss: 0.6815 - val_loss: 0.6603\n",
      "Epoch 56/100\n",
      "6759/6759 [==============================] - 0s 74us/step - loss: 0.6372 - val_loss: 0.6167\n",
      "Epoch 57/100\n",
      "6759/6759 [==============================] - 0s 68us/step - loss: 0.5935 - val_loss: 0.5738\n",
      "Epoch 58/100\n",
      "6759/6759 [==============================] - 0s 68us/step - loss: 0.5510 - val_loss: 0.5325\n",
      "Epoch 59/100\n",
      "6759/6759 [==============================] - 0s 66us/step - loss: 0.5101 - val_loss: 0.4930\n",
      "Epoch 60/100\n",
      "6759/6759 [==============================] - 0s 69us/step - loss: 0.4714 - val_loss: 0.4557\n",
      "Epoch 61/100\n",
      "6759/6759 [==============================] - 0s 68us/step - loss: 0.4353 - val_loss: 0.4215\n",
      "Epoch 62/100\n",
      "6759/6759 [==============================] - 0s 68us/step - loss: 0.4021 - val_loss: 0.3897\n",
      "Epoch 63/100\n",
      "6759/6759 [==============================] - 0s 71us/step - loss: 0.3720 - val_loss: 0.3613\n",
      "Epoch 64/100\n",
      "6759/6759 [==============================] - 1s 75us/step - loss: 0.3453 - val_loss: 0.3359\n",
      "Epoch 65/100\n",
      "6759/6759 [==============================] - 1s 79us/step - loss: 0.3218 - val_loss: 0.3138\n",
      "Epoch 66/100\n",
      "6759/6759 [==============================] - 0s 71us/step - loss: 0.3012 - val_loss: 0.2946\n",
      "Epoch 67/100\n",
      "6759/6759 [==============================] - 0s 68us/step - loss: 0.2833 - val_loss: 0.2778\n",
      "Epoch 68/100\n",
      "6759/6759 [==============================] - 0s 66us/step - loss: 0.2677 - val_loss: 0.2630\n",
      "Epoch 69/100\n",
      "6759/6759 [==============================] - 0s 71us/step - loss: 0.2543 - val_loss: 0.2502\n",
      "Epoch 70/100\n",
      "6759/6759 [==============================] - 0s 73us/step - loss: 0.2424 - val_loss: 0.2388\n",
      "Epoch 71/100\n",
      "6759/6759 [==============================] - 0s 65us/step - loss: 0.2317 - val_loss: 0.2284\n",
      "Epoch 72/100\n",
      "6759/6759 [==============================] - 1s 76us/step - loss: 0.2219 - val_loss: 0.2188\n",
      "Epoch 73/100\n",
      "6759/6759 [==============================] - 1s 76us/step - loss: 0.2128 - val_loss: 0.2099\n",
      "Epoch 74/100\n",
      "6759/6759 [==============================] - 0s 71us/step - loss: 0.2043 - val_loss: 0.2016\n",
      "Epoch 75/100\n",
      "6759/6759 [==============================] - 0s 73us/step - loss: 0.1963 - val_loss: 0.1937\n",
      "Epoch 76/100\n",
      "6759/6759 [==============================] - 1s 77us/step - loss: 0.1888 - val_loss: 0.1863\n",
      "Epoch 77/100\n",
      "6759/6759 [==============================] - 1s 74us/step - loss: 0.1817 - val_loss: 0.1792\n",
      "Epoch 78/100\n"
     ]
    },
    {
     "name": "stdout",
     "output_type": "stream",
     "text": [
      "6759/6759 [==============================] - 1s 96us/step - loss: 0.1750 - val_loss: 0.1726\n",
      "Epoch 79/100\n",
      "6759/6759 [==============================] - 1s 80us/step - loss: 0.1688 - val_loss: 0.1664\n",
      "Epoch 80/100\n",
      "6759/6759 [==============================] - 0s 66us/step - loss: 0.1629 - val_loss: 0.1606\n",
      "Epoch 81/100\n",
      "6759/6759 [==============================] - 0s 73us/step - loss: 0.1574 - val_loss: 0.1553\n",
      "Epoch 82/100\n",
      "6759/6759 [==============================] - 1s 91us/step - loss: 0.1523 - val_loss: 0.1500\n",
      "Epoch 83/100\n",
      "6759/6759 [==============================] - 0s 72us/step - loss: 0.1475 - val_loss: 0.1453\n",
      "Epoch 84/100\n",
      "6759/6759 [==============================] - 0s 70us/step - loss: 0.1431 - val_loss: 0.1408\n",
      "Epoch 85/100\n",
      "6759/6759 [==============================] - 0s 71us/step - loss: 0.1388 - val_loss: 0.1366\n",
      "Epoch 86/100\n",
      "6759/6759 [==============================] - 0s 73us/step - loss: 0.1349 - val_loss: 0.1330\n",
      "Epoch 87/100\n",
      "6759/6759 [==============================] - 1s 75us/step - loss: 0.1314 - val_loss: 0.1296\n",
      "Epoch 88/100\n",
      "6759/6759 [==============================] - 0s 71us/step - loss: 0.1281 - val_loss: 0.1263\n",
      "Epoch 89/100\n",
      "6759/6759 [==============================] - 0s 69us/step - loss: 0.1250 - val_loss: 0.1233\n",
      "Epoch 90/100\n",
      "6759/6759 [==============================] - 0s 71us/step - loss: 0.1222 - val_loss: 0.1209\n",
      "Epoch 91/100\n",
      "6759/6759 [==============================] - 0s 66us/step - loss: 0.1196 - val_loss: 0.1181\n",
      "Epoch 92/100\n",
      "6759/6759 [==============================] - 0s 66us/step - loss: 0.1174 - val_loss: 0.1159\n",
      "Epoch 93/100\n",
      "6759/6759 [==============================] - 0s 68us/step - loss: 0.1150 - val_loss: 0.1140\n",
      "Epoch 94/100\n",
      "6759/6759 [==============================] - 0s 67us/step - loss: 0.1130 - val_loss: 0.1119\n",
      "Epoch 95/100\n",
      "6759/6759 [==============================] - 0s 67us/step - loss: 0.1109 - val_loss: 0.1100\n",
      "Epoch 96/100\n",
      "6759/6759 [==============================] - 0s 66us/step - loss: 0.1093 - val_loss: 0.1080\n",
      "Epoch 97/100\n",
      "6759/6759 [==============================] - 0s 66us/step - loss: 0.1073 - val_loss: 0.1067\n",
      "Epoch 98/100\n",
      "6759/6759 [==============================] - 0s 67us/step - loss: 0.1056 - val_loss: 0.1050\n",
      "Epoch 99/100\n",
      "6759/6759 [==============================] - 0s 68us/step - loss: 0.1040 - val_loss: 0.1033\n",
      "Epoch 100/100\n",
      "6759/6759 [==============================] - 1s 81us/step - loss: 0.1028 - val_loss: 0.1019\n"
     ]
    }
   ],
   "source": [
    "history = nn.fit(X_train_v,y_train_v, epochs=100,\n",
    "                 validation_data=(X_val,y_val),\n",
    "                callbacks=[lr_schedule, reset_states])"
   ]
  },
  {
   "cell_type": "markdown",
   "metadata": {},
   "source": [
    "Read the proper learning rate, typically at the elbow of the graph."
   ]
  },
  {
   "cell_type": "code",
   "execution_count": 17,
   "metadata": {},
   "outputs": [
    {
     "ename": "KeyError",
     "evalue": "'lr'",
     "output_type": "error",
     "traceback": [
      "\u001b[1;31m---------------------------------------------------------------------------\u001b[0m",
      "\u001b[1;31mKeyError\u001b[0m                                  Traceback (most recent call last)",
      "\u001b[1;32m<ipython-input-17-9acd8c12dd9a>\u001b[0m in \u001b[0;36m<module>\u001b[1;34m\u001b[0m\n\u001b[1;32m----> 1\u001b[1;33m \u001b[0mplt\u001b[0m\u001b[1;33m.\u001b[0m\u001b[0msemilogx\u001b[0m\u001b[1;33m(\u001b[0m\u001b[0mhistory\u001b[0m\u001b[1;33m.\u001b[0m\u001b[0mhistory\u001b[0m\u001b[1;33m[\u001b[0m\u001b[1;34m\"lr\"\u001b[0m\u001b[1;33m]\u001b[0m\u001b[1;33m,\u001b[0m \u001b[0mhistory\u001b[0m\u001b[1;33m.\u001b[0m\u001b[0mhistory\u001b[0m\u001b[1;33m[\u001b[0m\u001b[1;34m\"loss\"\u001b[0m\u001b[1;33m]\u001b[0m\u001b[1;33m)\u001b[0m\u001b[1;33m\u001b[0m\u001b[0m\n\u001b[0m\u001b[0;32m      2\u001b[0m \u001b[0mplt\u001b[0m\u001b[1;33m.\u001b[0m\u001b[0maxis\u001b[0m\u001b[1;33m(\u001b[0m\u001b[1;33m[\u001b[0m\u001b[1;36m1e-8\u001b[0m\u001b[1;33m,\u001b[0m \u001b[1;36m1e-3\u001b[0m\u001b[1;33m,\u001b[0m \u001b[1;36m0\u001b[0m\u001b[1;33m,\u001b[0m\u001b[1;36m10\u001b[0m\u001b[1;33m]\u001b[0m\u001b[1;33m)\u001b[0m\u001b[1;33m\u001b[0m\u001b[0m\n",
      "\u001b[1;31mKeyError\u001b[0m: 'lr'"
     ]
    }
   ],
   "source": [
    "plt.semilogx(history.history[\"lr\"], history.history[\"loss\"])\n",
    "plt.axis([1e-8, 1e-3, 0,10])"
   ]
  },
  {
   "cell_type": "code",
   "execution_count": 21,
   "metadata": {},
   "outputs": [
    {
     "data": {
      "text/plain": [
       "dict_keys(['val_loss', 'loss'])"
      ]
     },
     "execution_count": 21,
     "metadata": {},
     "output_type": "execute_result"
    }
   ],
   "source": [
    "history.history.keys()"
   ]
  },
  {
   "cell_type": "code",
   "execution_count": null,
   "metadata": {},
   "outputs": [],
   "source": []
  },
  {
   "cell_type": "code",
   "execution_count": null,
   "metadata": {},
   "outputs": [],
   "source": []
  },
  {
   "cell_type": "code",
   "execution_count": null,
   "metadata": {},
   "outputs": [],
   "source": []
  },
  {
   "cell_type": "code",
   "execution_count": null,
   "metadata": {},
   "outputs": [],
   "source": []
  },
  {
   "cell_type": "code",
   "execution_count": null,
   "metadata": {},
   "outputs": [],
   "source": [
    "Selected learning rate: __FILL__"
   ]
  },
  {
   "cell_type": "markdown",
   "metadata": {},
   "source": [
    "#### Training NN model\n",
    "The model will be training for maximum 500 epochs, saving itself each time it improves in __'my_checkpoint.h5'__. If there is no more improvement for the next 50 epochs, the __EarlyStopping__ callback will finish the training and use the checkpointed best model. "
   ]
  },
  {
   "cell_type": "code",
   "execution_count": null,
   "metadata": {},
   "outputs": [],
   "source": [
    "nn_model = tf.keras.models.Sequential()\n",
    "nn_model.add(tf.keras.layers.LSTM(64,\n",
    "                                    return_sequences=True,\n",
    "                                    input_shape=x_train_multi.shape[-2:]))\n",
    "nn_model.add(tf.keras.layers.LSTM(32, return_sequences=True, activation='relu'))\n",
    "nn_model.add(tf.keras.layers.LSTM(16, return_sequences=False, activation='relu'))\n",
    "nn_model.add(tf.keras.layers.Dense(future_target))\n",
    "nn_model.add(tf.keras.layers.Lambda(lambda x: x * 200.0))\n",
    "optimizer = keras.optimizers.SGD(lr=0.5e-5, momentum=0.9)\n",
    "nn_model.compile(optimizer=optimizer, loss=keras.losses.Huber(), metrics=['mae'])\n",
    "reset_states = ResetStatesCallback()\n",
    "model_checkpoint = keras.callbacks.ModelCheckpoint(\n",
    "    \"my_checkpoint.h5\", save_best_only=True)\n",
    "early_stopping = keras.callbacks.EarlyStopping(patience=50)\n",
    "nn_model.fit(train_data_multi, epochs=500, steps_per_epoch=200,\n",
    "                                          validation_data=val_data_multi,\n",
    "                                          validation_steps=50, callbacks=[early_stopping, model_checkpoint, reset_states])\n"
   ]
  },
  {
   "cell_type": "code",
   "execution_count": null,
   "metadata": {},
   "outputs": [],
   "source": [
    "model = keras.models.load_model(\"my_checkpoint.h5\")"
   ]
  }
 ],
 "metadata": {
  "kernelspec": {
   "display_name": "Python 3",
   "language": "python",
   "name": "python3"
  },
  "language_info": {
   "codemirror_mode": {
    "name": "ipython",
    "version": 3
   },
   "file_extension": ".py",
   "mimetype": "text/x-python",
   "name": "python",
   "nbconvert_exporter": "python",
   "pygments_lexer": "ipython3",
   "version": "3.6.5"
  }
 },
 "nbformat": 4,
 "nbformat_minor": 2
}
