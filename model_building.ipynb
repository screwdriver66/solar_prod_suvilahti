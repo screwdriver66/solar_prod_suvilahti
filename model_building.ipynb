{
 "cells": [
  {
   "cell_type": "code",
   "execution_count": 6,
   "metadata": {},
   "outputs": [],
   "source": [
    "import numpy as np\n",
    "import pandas as pd\n",
    "import seaborn as sns\n",
    "from matplotlib import pyplot as plt\n",
    "import pytz"
   ]
  },
  {
   "cell_type": "code",
   "execution_count": 7,
   "metadata": {},
   "outputs": [],
   "source": [
    "df = pd.read_csv('../datasets/solar_p_data/df_all_vars_angles_test.csv', delimiter=',')\n",
    "df['datetime_converted'] = pd.to_datetime(df['datetime_converted'], utc=True)\n",
    "df = df.set_index(pd.DatetimeIndex(df['datetime_converted'],dayfirst=True))\n",
    "df = df.drop(columns='datetime_converted')"
   ]
  },
  {
   "cell_type": "code",
   "execution_count": 8,
   "metadata": {},
   "outputs": [
    {
     "data": {
      "text/html": [
       "<div>\n",
       "<style scoped>\n",
       "    .dataframe tbody tr th:only-of-type {\n",
       "        vertical-align: middle;\n",
       "    }\n",
       "\n",
       "    .dataframe tbody tr th {\n",
       "        vertical-align: top;\n",
       "    }\n",
       "\n",
       "    .dataframe thead th {\n",
       "        text-align: right;\n",
       "    }\n",
       "</style>\n",
       "<table border=\"1\" class=\"dataframe\">\n",
       "  <thead>\n",
       "    <tr style=\"text-align: right;\">\n",
       "      <th></th>\n",
       "      <th>Global radiation (W/m2)</th>\n",
       "      <th>Diffuse radiation (W/m2)</th>\n",
       "      <th>Direct solar radiation (W/m2)</th>\n",
       "      <th>Value (kWh)</th>\n",
       "      <th>day_of_the_year</th>\n",
       "      <th>Cloud amount (1/8)</th>\n",
       "      <th>Pressure (msl) (hPa)</th>\n",
       "      <th>Relative humidity (%)</th>\n",
       "      <th>Precipitation intensity (mm/h)</th>\n",
       "      <th>Air temperature (degC)</th>\n",
       "      <th>...</th>\n",
       "      <th>Cloud_buckets_labels</th>\n",
       "      <th>Cloud_buckets</th>\n",
       "      <th>Wind_direction</th>\n",
       "      <th>Precip_buckets_labels</th>\n",
       "      <th>Precip_buckets</th>\n",
       "      <th>hour</th>\n",
       "      <th>glob_test</th>\n",
       "      <th>incidence_angle</th>\n",
       "      <th>true_solar_elev_angle</th>\n",
       "      <th>solar_elev_angle</th>\n",
       "    </tr>\n",
       "    <tr>\n",
       "      <th>datetime_converted</th>\n",
       "      <th></th>\n",
       "      <th></th>\n",
       "      <th></th>\n",
       "      <th></th>\n",
       "      <th></th>\n",
       "      <th></th>\n",
       "      <th></th>\n",
       "      <th></th>\n",
       "      <th></th>\n",
       "      <th></th>\n",
       "      <th></th>\n",
       "      <th></th>\n",
       "      <th></th>\n",
       "      <th></th>\n",
       "      <th></th>\n",
       "      <th></th>\n",
       "      <th></th>\n",
       "      <th></th>\n",
       "      <th></th>\n",
       "      <th></th>\n",
       "      <th></th>\n",
       "    </tr>\n",
       "  </thead>\n",
       "  <tbody>\n",
       "    <tr>\n",
       "      <th>2015-04-22 00:00:00+00:00</th>\n",
       "      <td>-2.1</td>\n",
       "      <td>-1.9</td>\n",
       "      <td>-0.2</td>\n",
       "      <td>0.0</td>\n",
       "      <td>112.0</td>\n",
       "      <td>7.0</td>\n",
       "      <td>1018.2</td>\n",
       "      <td>65.0</td>\n",
       "      <td>0.0</td>\n",
       "      <td>6.9</td>\n",
       "      <td>...</td>\n",
       "      <td>&gt;5</td>\n",
       "      <td>(5.0, 10.0]</td>\n",
       "      <td>WSW</td>\n",
       "      <td>0.0</td>\n",
       "      <td>(-1.001, 0.0]</td>\n",
       "      <td>0</td>\n",
       "      <td>-16.129272</td>\n",
       "      <td>146.194050</td>\n",
       "      <td>-16.129272</td>\n",
       "      <td>-16.058955</td>\n",
       "    </tr>\n",
       "    <tr>\n",
       "      <th>2015-04-22 01:00:00+00:00</th>\n",
       "      <td>-3.1</td>\n",
       "      <td>-2.1</td>\n",
       "      <td>-1.0</td>\n",
       "      <td>0.0</td>\n",
       "      <td>112.0</td>\n",
       "      <td>1.0</td>\n",
       "      <td>1017.9</td>\n",
       "      <td>71.0</td>\n",
       "      <td>0.0</td>\n",
       "      <td>5.8</td>\n",
       "      <td>...</td>\n",
       "      <td>&lt;=5</td>\n",
       "      <td>(-0.001, 5.0]</td>\n",
       "      <td>WSW</td>\n",
       "      <td>0.0</td>\n",
       "      <td>(-1.001, 0.0]</td>\n",
       "      <td>1</td>\n",
       "      <td>-12.646159</td>\n",
       "      <td>135.694026</td>\n",
       "      <td>-12.646159</td>\n",
       "      <td>-12.546045</td>\n",
       "    </tr>\n",
       "    <tr>\n",
       "      <th>2015-04-22 02:00:00+00:00</th>\n",
       "      <td>-2.6</td>\n",
       "      <td>-1.8</td>\n",
       "      <td>-0.8</td>\n",
       "      <td>0.0</td>\n",
       "      <td>112.0</td>\n",
       "      <td>3.0</td>\n",
       "      <td>1017.5</td>\n",
       "      <td>76.0</td>\n",
       "      <td>0.0</td>\n",
       "      <td>4.9</td>\n",
       "      <td>...</td>\n",
       "      <td>&lt;=5</td>\n",
       "      <td>(-0.001, 5.0]</td>\n",
       "      <td>W</td>\n",
       "      <td>0.0</td>\n",
       "      <td>(-1.001, 0.0]</td>\n",
       "      <td>2</td>\n",
       "      <td>-7.747192</td>\n",
       "      <td>123.219974</td>\n",
       "      <td>-7.747192</td>\n",
       "      <td>-7.515664</td>\n",
       "    </tr>\n",
       "    <tr>\n",
       "      <th>2015-04-22 03:00:00+00:00</th>\n",
       "      <td>80.0</td>\n",
       "      <td>7.6</td>\n",
       "      <td>72.4</td>\n",
       "      <td>6.0</td>\n",
       "      <td>112.0</td>\n",
       "      <td>5.0</td>\n",
       "      <td>1017.3</td>\n",
       "      <td>77.0</td>\n",
       "      <td>0.0</td>\n",
       "      <td>4.9</td>\n",
       "      <td>...</td>\n",
       "      <td>&lt;=5</td>\n",
       "      <td>(-0.001, 5.0]</td>\n",
       "      <td>W</td>\n",
       "      <td>0.0</td>\n",
       "      <td>(-1.001, 0.0]</td>\n",
       "      <td>3</td>\n",
       "      <td>-1.405939</td>\n",
       "      <td>109.819895</td>\n",
       "      <td>-1.405939</td>\n",
       "      <td>-1.331416</td>\n",
       "    </tr>\n",
       "    <tr>\n",
       "      <th>2015-04-22 04:00:00+00:00</th>\n",
       "      <td>242.0</td>\n",
       "      <td>46.2</td>\n",
       "      <td>195.8</td>\n",
       "      <td>15.0</td>\n",
       "      <td>112.0</td>\n",
       "      <td>0.0</td>\n",
       "      <td>1016.9</td>\n",
       "      <td>76.0</td>\n",
       "      <td>0.0</td>\n",
       "      <td>4.9</td>\n",
       "      <td>...</td>\n",
       "      <td>&lt;=5</td>\n",
       "      <td>(-0.001, 5.0]</td>\n",
       "      <td>WNW</td>\n",
       "      <td>0.0</td>\n",
       "      <td>(-1.001, 0.0]</td>\n",
       "      <td>4</td>\n",
       "      <td>5.699966</td>\n",
       "      <td>95.939468</td>\n",
       "      <td>5.699966</td>\n",
       "      <td>5.631552</td>\n",
       "    </tr>\n",
       "  </tbody>\n",
       "</table>\n",
       "<p>5 rows × 26 columns</p>\n",
       "</div>"
      ],
      "text/plain": [
       "                           Global radiation (W/m2)  Diffuse radiation (W/m2)  \\\n",
       "datetime_converted                                                             \n",
       "2015-04-22 00:00:00+00:00                     -2.1                      -1.9   \n",
       "2015-04-22 01:00:00+00:00                     -3.1                      -2.1   \n",
       "2015-04-22 02:00:00+00:00                     -2.6                      -1.8   \n",
       "2015-04-22 03:00:00+00:00                     80.0                       7.6   \n",
       "2015-04-22 04:00:00+00:00                    242.0                      46.2   \n",
       "\n",
       "                           Direct solar radiation (W/m2)  Value (kWh)  \\\n",
       "datetime_converted                                                      \n",
       "2015-04-22 00:00:00+00:00                           -0.2          0.0   \n",
       "2015-04-22 01:00:00+00:00                           -1.0          0.0   \n",
       "2015-04-22 02:00:00+00:00                           -0.8          0.0   \n",
       "2015-04-22 03:00:00+00:00                           72.4          6.0   \n",
       "2015-04-22 04:00:00+00:00                          195.8         15.0   \n",
       "\n",
       "                           day_of_the_year  Cloud amount (1/8)  \\\n",
       "datetime_converted                                               \n",
       "2015-04-22 00:00:00+00:00            112.0                 7.0   \n",
       "2015-04-22 01:00:00+00:00            112.0                 1.0   \n",
       "2015-04-22 02:00:00+00:00            112.0                 3.0   \n",
       "2015-04-22 03:00:00+00:00            112.0                 5.0   \n",
       "2015-04-22 04:00:00+00:00            112.0                 0.0   \n",
       "\n",
       "                           Pressure (msl) (hPa)  Relative humidity (%)  \\\n",
       "datetime_converted                                                       \n",
       "2015-04-22 00:00:00+00:00                1018.2                   65.0   \n",
       "2015-04-22 01:00:00+00:00                1017.9                   71.0   \n",
       "2015-04-22 02:00:00+00:00                1017.5                   76.0   \n",
       "2015-04-22 03:00:00+00:00                1017.3                   77.0   \n",
       "2015-04-22 04:00:00+00:00                1016.9                   76.0   \n",
       "\n",
       "                           Precipitation intensity (mm/h)  \\\n",
       "datetime_converted                                          \n",
       "2015-04-22 00:00:00+00:00                             0.0   \n",
       "2015-04-22 01:00:00+00:00                             0.0   \n",
       "2015-04-22 02:00:00+00:00                             0.0   \n",
       "2015-04-22 03:00:00+00:00                             0.0   \n",
       "2015-04-22 04:00:00+00:00                             0.0   \n",
       "\n",
       "                           Air temperature (degC)  ...  Cloud_buckets_labels  \\\n",
       "datetime_converted                                 ...                         \n",
       "2015-04-22 00:00:00+00:00                     6.9  ...                    >5   \n",
       "2015-04-22 01:00:00+00:00                     5.8  ...                   <=5   \n",
       "2015-04-22 02:00:00+00:00                     4.9  ...                   <=5   \n",
       "2015-04-22 03:00:00+00:00                     4.9  ...                   <=5   \n",
       "2015-04-22 04:00:00+00:00                     4.9  ...                   <=5   \n",
       "\n",
       "                           Cloud_buckets  Wind_direction  \\\n",
       "datetime_converted                                         \n",
       "2015-04-22 00:00:00+00:00    (5.0, 10.0]             WSW   \n",
       "2015-04-22 01:00:00+00:00  (-0.001, 5.0]             WSW   \n",
       "2015-04-22 02:00:00+00:00  (-0.001, 5.0]               W   \n",
       "2015-04-22 03:00:00+00:00  (-0.001, 5.0]               W   \n",
       "2015-04-22 04:00:00+00:00  (-0.001, 5.0]             WNW   \n",
       "\n",
       "                           Precip_buckets_labels Precip_buckets hour  \\\n",
       "datetime_converted                                                     \n",
       "2015-04-22 00:00:00+00:00                    0.0  (-1.001, 0.0]    0   \n",
       "2015-04-22 01:00:00+00:00                    0.0  (-1.001, 0.0]    1   \n",
       "2015-04-22 02:00:00+00:00                    0.0  (-1.001, 0.0]    2   \n",
       "2015-04-22 03:00:00+00:00                    0.0  (-1.001, 0.0]    3   \n",
       "2015-04-22 04:00:00+00:00                    0.0  (-1.001, 0.0]    4   \n",
       "\n",
       "                           glob_test incidence_angle true_solar_elev_angle  \\\n",
       "datetime_converted                                                           \n",
       "2015-04-22 00:00:00+00:00 -16.129272      146.194050            -16.129272   \n",
       "2015-04-22 01:00:00+00:00 -12.646159      135.694026            -12.646159   \n",
       "2015-04-22 02:00:00+00:00  -7.747192      123.219974             -7.747192   \n",
       "2015-04-22 03:00:00+00:00  -1.405939      109.819895             -1.405939   \n",
       "2015-04-22 04:00:00+00:00   5.699966       95.939468              5.699966   \n",
       "\n",
       "                           solar_elev_angle  \n",
       "datetime_converted                           \n",
       "2015-04-22 00:00:00+00:00        -16.058955  \n",
       "2015-04-22 01:00:00+00:00        -12.546045  \n",
       "2015-04-22 02:00:00+00:00         -7.515664  \n",
       "2015-04-22 03:00:00+00:00         -1.331416  \n",
       "2015-04-22 04:00:00+00:00          5.631552  \n",
       "\n",
       "[5 rows x 26 columns]"
      ]
     },
     "execution_count": 8,
     "metadata": {},
     "output_type": "execute_result"
    }
   ],
   "source": [
    "df.head()"
   ]
  },
  {
   "cell_type": "code",
   "execution_count": 9,
   "metadata": {},
   "outputs": [
    {
     "data": {
      "text/plain": [
       "Index(['Global radiation (W/m2)', 'Diffuse radiation (W/m2)',\n",
       "       'Direct solar radiation (W/m2)', 'Value (kWh)', 'day_of_the_year',\n",
       "       'Cloud amount (1/8)', 'Pressure (msl) (hPa)', 'Relative humidity (%)',\n",
       "       'Precipitation intensity (mm/h)', 'Air temperature (degC)',\n",
       "       'Dew-point temperature (degC)', 'Horizontal visibility (m)',\n",
       "       'Wind direction (deg)', 'Wind speed (m/s)', 'Hor_vis_buckets_labels',\n",
       "       'Hor_vis_buckets', 'Cloud_buckets_labels', 'Cloud_buckets',\n",
       "       'Wind_direction', 'Precip_buckets_labels', 'Precip_buckets', 'hour',\n",
       "       'glob_test', 'incidence_angle', 'true_solar_elev_angle',\n",
       "       'solar_elev_angle'],\n",
       "      dtype='object')"
      ]
     },
     "execution_count": 9,
     "metadata": {},
     "output_type": "execute_result"
    }
   ],
   "source": [
    "df.columns"
   ]
  },
  {
   "cell_type": "code",
   "execution_count": 10,
   "metadata": {},
   "outputs": [],
   "source": [
    "from sklearn.ensemble import RandomForestRegressor\n",
    "from sklearn.model_selection import train_test_split"
   ]
  },
  {
   "cell_type": "code",
   "execution_count": 11,
   "metadata": {},
   "outputs": [
    {
     "data": {
      "text/plain": [
       "datetime_converted\n",
       "2015-04-22 00:00:00+00:00           [50k+\n",
       "2015-04-22 01:00:00+00:00           [50k+\n",
       "2015-04-22 02:00:00+00:00           [50k+\n",
       "2015-04-22 03:00:00+00:00    [33.1-49.9k)\n",
       "2015-04-22 04:00:00+00:00    [33.1-49.9k)\n",
       "                                 ...     \n",
       "2020-04-22 20:00:00+00:00           [50k+\n",
       "2020-04-22 21:00:00+00:00           [50k+\n",
       "2020-04-22 22:00:00+00:00           [50k+\n",
       "2020-04-22 23:00:00+00:00           [50k+\n",
       "2020-04-23 00:00:00+00:00           [50k+\n",
       "Name: Hor_vis_buckets_labels, Length: 37473, dtype: object"
      ]
     },
     "execution_count": 11,
     "metadata": {},
     "output_type": "execute_result"
    }
   ],
   "source": [
    "df['Hor_vis_buckets_labels']"
   ]
  },
  {
   "cell_type": "code",
   "execution_count": 12,
   "metadata": {},
   "outputs": [
    {
     "data": {
      "text/plain": [
       "datetime_converted\n",
       "2015-04-22 00:00:00+00:00    (49999.0, 50000.0]\n",
       "2015-04-22 01:00:00+00:00    (49999.0, 50000.0]\n",
       "2015-04-22 02:00:00+00:00    (49999.0, 50000.0]\n",
       "2015-04-22 03:00:00+00:00    (33130.0, 49999.0]\n",
       "2015-04-22 04:00:00+00:00    (33130.0, 49999.0]\n",
       "                                    ...        \n",
       "2020-04-22 20:00:00+00:00    (49999.0, 50000.0]\n",
       "2020-04-22 21:00:00+00:00    (49999.0, 50000.0]\n",
       "2020-04-22 22:00:00+00:00    (49999.0, 50000.0]\n",
       "2020-04-22 23:00:00+00:00    (49999.0, 50000.0]\n",
       "2020-04-23 00:00:00+00:00    (49999.0, 50000.0]\n",
       "Name: Hor_vis_buckets, Length: 37473, dtype: object"
      ]
     },
     "execution_count": 12,
     "metadata": {},
     "output_type": "execute_result"
    }
   ],
   "source": [
    "df['Hor_vis_buckets']"
   ]
  },
  {
   "cell_type": "markdown",
   "metadata": {},
   "source": [
    "# Prediction part"
   ]
  },
  {
   "cell_type": "code",
   "execution_count": 13,
   "metadata": {},
   "outputs": [],
   "source": [
    "# feature_cols = ['Global radiation (W/m2)', 'day_of_the_year',\n",
    "#        'Cloud amount (1/8)', 'Pressure (msl) (hPa)', 'Relative humidity (%)',\n",
    "#        'Precipitation intensity (mm/h)', 'Air temperature (degC)',\n",
    "#        'Dew-point temperature (degC)', 'Horizontal visibility (m)',\n",
    "#        'Wind direction (deg)', 'Wind speed (m/s)']\n",
    "\n",
    "# feature_cols = ['day_of_the_year',\n",
    "#        'Cloud amount (1/8)', 'Relative humidity (%)', 'Air temperature (degC)', 'Horizontal visibility (m)',\n",
    "#        'Wind direction (deg)', 'Wind speed (m/s)']\n",
    "\n",
    "# feature_cols = ['day_of_the_year', 'hour',\n",
    "#        'Cloud amount (1/8)', 'Pressure (msl) (hPa)', 'Relative humidity (%)',\n",
    "#        'Precipitation intensity (mm/h)', 'Air temperature (degC)',\n",
    "#        'Dew-point temperature (degC)', 'Horizontal visibility (m)',\n",
    "#        'Wind direction (deg)', 'Wind speed (m/s)']\n",
    "\n",
    "target = ['Value (kWh)']\n",
    "# target = ['Global radiation (W/m2)']"
   ]
  },
  {
   "cell_type": "code",
   "execution_count": null,
   "metadata": {},
   "outputs": [],
   "source": []
  },
  {
   "cell_type": "code",
   "execution_count": null,
   "metadata": {},
   "outputs": [],
   "source": []
  },
  {
   "cell_type": "code",
   "execution_count": null,
   "metadata": {},
   "outputs": [],
   "source": []
  },
  {
   "cell_type": "code",
   "execution_count": 24,
   "metadata": {},
   "outputs": [
    {
     "data": {
      "text/plain": [
       "Index(['Global radiation (W/m2)', 'Diffuse radiation (W/m2)',\n",
       "       'Direct solar radiation (W/m2)', 'Value (kWh)', 'day_of_the_year',\n",
       "       'Cloud amount (1/8)', 'Pressure (msl) (hPa)', 'Relative humidity (%)',\n",
       "       'Precipitation intensity (mm/h)', 'Air temperature (degC)',\n",
       "       'Dew-point temperature (degC)', 'Horizontal visibility (m)',\n",
       "       'Wind direction (deg)', 'Wind speed (m/s)', 'Hor_vis_buckets_labels',\n",
       "       'Hor_vis_buckets', 'Cloud_buckets_labels', 'Cloud_buckets',\n",
       "       'Wind_direction', 'Precip_buckets_labels', 'Precip_buckets', 'hour',\n",
       "       'glob_test', 'incidence_angle', 'true_solar_elev_angle',\n",
       "       'solar_elev_angle', '(-0.001, 14854.0]', '(14854.0, 33130.0]',\n",
       "       '(33130.0, 49999.0]', '(49999.0, 50000.0]', '(-0.001, 5.0]',\n",
       "       '(5.0, 10.0]'],\n",
       "      dtype='object')"
      ]
     },
     "execution_count": 24,
     "metadata": {},
     "output_type": "execute_result"
    }
   ],
   "source": [
    "df.columns"
   ]
  },
  {
   "cell_type": "code",
   "execution_count": 14,
   "metadata": {},
   "outputs": [],
   "source": [
    "X = df[feature_cols]\n",
    "y = df[target]\n",
    "X_train, X_test, y_train, y_test = train_test_split(X, y, test_size=0.33, random_state=42)"
   ]
  },
  {
   "cell_type": "code",
   "execution_count": 15,
   "metadata": {},
   "outputs": [],
   "source": [
    "model = RandomForestRegressor(n_estimators = 5000, max_depth=10, random_state=42,n_jobs=4)"
   ]
  },
  {
   "cell_type": "code",
   "execution_count": 16,
   "metadata": {},
   "outputs": [
    {
     "ename": "ValueError",
     "evalue": "could not convert string to float: '(14854.0, 33130.0]'",
     "output_type": "error",
     "traceback": [
      "\u001b[1;31m---------------------------------------------------------------------------\u001b[0m",
      "\u001b[1;31mValueError\u001b[0m                                Traceback (most recent call last)",
      "\u001b[1;32m<ipython-input-16-d768f88d541e>\u001b[0m in \u001b[0;36m<module>\u001b[1;34m\u001b[0m\n\u001b[1;32m----> 1\u001b[1;33m \u001b[0mmodel\u001b[0m\u001b[1;33m.\u001b[0m\u001b[0mfit\u001b[0m\u001b[1;33m(\u001b[0m\u001b[0mX_train\u001b[0m\u001b[1;33m,\u001b[0m \u001b[0my_train\u001b[0m\u001b[1;33m)\u001b[0m\u001b[1;33m\u001b[0m\u001b[0m\n\u001b[0m",
      "\u001b[1;32m~\\Anaconda3\\lib\\site-packages\\sklearn\\ensemble\\_forest.py\u001b[0m in \u001b[0;36mfit\u001b[1;34m(self, X, y, sample_weight)\u001b[0m\n\u001b[0;32m    293\u001b[0m         \"\"\"\n\u001b[0;32m    294\u001b[0m         \u001b[1;31m# Validate or convert input data\u001b[0m\u001b[1;33m\u001b[0m\u001b[1;33m\u001b[0m\u001b[0m\n\u001b[1;32m--> 295\u001b[1;33m         \u001b[0mX\u001b[0m \u001b[1;33m=\u001b[0m \u001b[0mcheck_array\u001b[0m\u001b[1;33m(\u001b[0m\u001b[0mX\u001b[0m\u001b[1;33m,\u001b[0m \u001b[0maccept_sparse\u001b[0m\u001b[1;33m=\u001b[0m\u001b[1;34m\"csc\"\u001b[0m\u001b[1;33m,\u001b[0m \u001b[0mdtype\u001b[0m\u001b[1;33m=\u001b[0m\u001b[0mDTYPE\u001b[0m\u001b[1;33m)\u001b[0m\u001b[1;33m\u001b[0m\u001b[0m\n\u001b[0m\u001b[0;32m    296\u001b[0m         \u001b[0my\u001b[0m \u001b[1;33m=\u001b[0m \u001b[0mcheck_array\u001b[0m\u001b[1;33m(\u001b[0m\u001b[0my\u001b[0m\u001b[1;33m,\u001b[0m \u001b[0maccept_sparse\u001b[0m\u001b[1;33m=\u001b[0m\u001b[1;34m'csc'\u001b[0m\u001b[1;33m,\u001b[0m \u001b[0mensure_2d\u001b[0m\u001b[1;33m=\u001b[0m\u001b[1;32mFalse\u001b[0m\u001b[1;33m,\u001b[0m \u001b[0mdtype\u001b[0m\u001b[1;33m=\u001b[0m\u001b[1;32mNone\u001b[0m\u001b[1;33m)\u001b[0m\u001b[1;33m\u001b[0m\u001b[0m\n\u001b[0;32m    297\u001b[0m         \u001b[1;32mif\u001b[0m \u001b[0msample_weight\u001b[0m \u001b[1;32mis\u001b[0m \u001b[1;32mnot\u001b[0m \u001b[1;32mNone\u001b[0m\u001b[1;33m:\u001b[0m\u001b[1;33m\u001b[0m\u001b[0m\n",
      "\u001b[1;32m~\\Anaconda3\\lib\\site-packages\\sklearn\\utils\\validation.py\u001b[0m in \u001b[0;36mcheck_array\u001b[1;34m(array, accept_sparse, accept_large_sparse, dtype, order, copy, force_all_finite, ensure_2d, allow_nd, ensure_min_samples, ensure_min_features, warn_on_dtype, estimator)\u001b[0m\n\u001b[0;32m    529\u001b[0m                     \u001b[0marray\u001b[0m \u001b[1;33m=\u001b[0m \u001b[0marray\u001b[0m\u001b[1;33m.\u001b[0m\u001b[0mastype\u001b[0m\u001b[1;33m(\u001b[0m\u001b[0mdtype\u001b[0m\u001b[1;33m,\u001b[0m \u001b[0mcasting\u001b[0m\u001b[1;33m=\u001b[0m\u001b[1;34m\"unsafe\"\u001b[0m\u001b[1;33m,\u001b[0m \u001b[0mcopy\u001b[0m\u001b[1;33m=\u001b[0m\u001b[1;32mFalse\u001b[0m\u001b[1;33m)\u001b[0m\u001b[1;33m\u001b[0m\u001b[0m\n\u001b[0;32m    530\u001b[0m                 \u001b[1;32melse\u001b[0m\u001b[1;33m:\u001b[0m\u001b[1;33m\u001b[0m\u001b[0m\n\u001b[1;32m--> 531\u001b[1;33m                     \u001b[0marray\u001b[0m \u001b[1;33m=\u001b[0m \u001b[0mnp\u001b[0m\u001b[1;33m.\u001b[0m\u001b[0masarray\u001b[0m\u001b[1;33m(\u001b[0m\u001b[0marray\u001b[0m\u001b[1;33m,\u001b[0m \u001b[0morder\u001b[0m\u001b[1;33m=\u001b[0m\u001b[0morder\u001b[0m\u001b[1;33m,\u001b[0m \u001b[0mdtype\u001b[0m\u001b[1;33m=\u001b[0m\u001b[0mdtype\u001b[0m\u001b[1;33m)\u001b[0m\u001b[1;33m\u001b[0m\u001b[0m\n\u001b[0m\u001b[0;32m    532\u001b[0m             \u001b[1;32mexcept\u001b[0m \u001b[0mComplexWarning\u001b[0m\u001b[1;33m:\u001b[0m\u001b[1;33m\u001b[0m\u001b[0m\n\u001b[0;32m    533\u001b[0m                 raise ValueError(\"Complex data not supported\\n\"\n",
      "\u001b[1;32m~\\Anaconda3\\lib\\site-packages\\numpy\\core\\_asarray.py\u001b[0m in \u001b[0;36masarray\u001b[1;34m(a, dtype, order)\u001b[0m\n\u001b[0;32m     83\u001b[0m \u001b[1;33m\u001b[0m\u001b[0m\n\u001b[0;32m     84\u001b[0m     \"\"\"\n\u001b[1;32m---> 85\u001b[1;33m     \u001b[1;32mreturn\u001b[0m \u001b[0marray\u001b[0m\u001b[1;33m(\u001b[0m\u001b[0ma\u001b[0m\u001b[1;33m,\u001b[0m \u001b[0mdtype\u001b[0m\u001b[1;33m,\u001b[0m \u001b[0mcopy\u001b[0m\u001b[1;33m=\u001b[0m\u001b[1;32mFalse\u001b[0m\u001b[1;33m,\u001b[0m \u001b[0morder\u001b[0m\u001b[1;33m=\u001b[0m\u001b[0morder\u001b[0m\u001b[1;33m)\u001b[0m\u001b[1;33m\u001b[0m\u001b[0m\n\u001b[0m\u001b[0;32m     86\u001b[0m \u001b[1;33m\u001b[0m\u001b[0m\n\u001b[0;32m     87\u001b[0m \u001b[1;33m\u001b[0m\u001b[0m\n",
      "\u001b[1;31mValueError\u001b[0m: could not convert string to float: '(14854.0, 33130.0]'"
     ]
    }
   ],
   "source": [
    "model.fit(X_train, y_train)"
   ]
  },
  {
   "cell_type": "code",
   "execution_count": 150,
   "metadata": {},
   "outputs": [
    {
     "name": "stdout",
     "output_type": "stream",
     "text": [
      "Fit done\n",
      "Feature importances:  [6.72966223e-02 3.46043233e-01 3.11316382e-02 3.05748339e-03\n",
      " 3.27104920e-01 2.21211329e-04 9.98636551e-02 3.14602943e-03\n",
      " 1.14575563e-01 4.42820165e-03 3.13144219e-03]\n"
     ]
    }
   ],
   "source": [
    "print(\"Fit done\")\n",
    "print(\"Feature importances: \", model.feature_importances_)"
   ]
  },
  {
   "cell_type": "code",
   "execution_count": 151,
   "metadata": {},
   "outputs": [
    {
     "data": {
      "text/plain": [
       "([0, 1, 2, 3, 4, 5, 6, 7, 8, 9, 10], <a list of 11 Text xticklabel objects>)"
      ]
     },
     "execution_count": 151,
     "metadata": {},
     "output_type": "execute_result"
    },
    {
     "data": {
      "image/png": "[encoded data removed]",
      "text/plain": [
       "<Figure size 432x288 with 1 Axes>"
      ]
     },
     "metadata": {
      "needs_background": "light"
     },
     "output_type": "display_data"
    }
   ],
   "source": [
    "plt.bar(x=feature_cols,height=model.feature_importances_)\n",
    "plt.xticks(rotation='vertical')"
   ]
  },
  {
   "cell_type": "code",
   "execution_count": 152,
   "metadata": {},
   "outputs": [],
   "source": [
    "y_pred = model.predict(X_test)"
   ]
  },
  {
   "cell_type": "code",
   "execution_count": 153,
   "metadata": {},
   "outputs": [
    {
     "name": "stderr",
     "output_type": "stream",
     "text": [
      "C:\\Users\\screwdriver\\Anaconda3\\lib\\site-packages\\ipykernel_launcher.py:1: SettingWithCopyWarning: \n",
      "A value is trying to be set on a copy of a slice from a DataFrame.\n",
      "Try using .loc[row_indexer,col_indexer] = value instead\n",
      "\n",
      "See the caveats in the documentation: http://pandas.pydata.org/pandas-docs/stable/user_guide/indexing.html#returning-a-view-versus-a-copy\n",
      "  \"\"\"Entry point for launching an IPython kernel.\n"
     ]
    }
   ],
   "source": [
    "y_test['y_pred'] = y_pred"
   ]
  },
  {
   "cell_type": "code",
   "execution_count": 154,
   "metadata": {},
   "outputs": [
    {
     "data": {
      "text/plain": [
       "<matplotlib.axes._subplots.AxesSubplot at 0x1d913c2df98>"
      ]
     },
     "execution_count": 154,
     "metadata": {},
     "output_type": "execute_result"
    },
    {
     "data": {
      "image/png": "[encoded data removed]",
      "text/plain": [
       "<Figure size 432x288 with 1 Axes>"
      ]
     },
     "metadata": {
      "needs_background": "light"
     },
     "output_type": "display_data"
    }
   ],
   "source": [
    "y_test.plot()"
   ]
  },
  {
   "cell_type": "code",
   "execution_count": 155,
   "metadata": {},
   "outputs": [
    {
     "name": "stdout",
     "output_type": "stream",
     "text": [
      "MSE -  372.52297848173527\n"
     ]
    }
   ],
   "source": [
    "from sklearn.metrics import mean_squared_error\n",
    "mse = mean_squared_error(y_test[target], y_test['y_pred'])\n",
    "print(\"MSE - \", mse)"
   ]
  },
  {
   "cell_type": "code",
   "execution_count": 156,
   "metadata": {},
   "outputs": [
    {
     "data": {
      "text/plain": [
       "<matplotlib.axes._subplots.AxesSubplot at 0x1d978a970f0>"
      ]
     },
     "execution_count": 156,
     "metadata": {},
     "output_type": "execute_result"
    },
    {
     "data": {
      "image/png": "[encoded data removed]",
      "text/plain": [
       "<Figure size 432x288 with 1 Axes>"
      ]
     },
     "metadata": {
      "needs_background": "light"
     },
     "output_type": "display_data"
    }
   ],
   "source": [
    "sns.scatterplot(x=target[0], y='y_pred', data=y_test)"
   ]
  },
  {
   "cell_type": "code",
   "execution_count": null,
   "metadata": {},
   "outputs": [],
   "source": []
  }
 ],
 "metadata": {
  "kernelspec": {
   "display_name": "Python 3",
   "language": "python",
   "name": "python3"
  },
  "language_info": {
   "codemirror_mode": {
    "name": "ipython",
    "version": 3
   },
   "file_extension": ".py",
   "mimetype": "text/x-python",
   "name": "python",
   "nbconvert_exporter": "python",
   "pygments_lexer": "ipython3",
   "version": "3.6.5"
  }
 },
 "nbformat": 4,
 "nbformat_minor": 2
}
